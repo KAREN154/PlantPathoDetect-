{
  "cells": [
    {
      "cell_type": "markdown",
      "metadata": {
        "id": "view-in-github",
        "colab_type": "text"
      },
      "source": [
        "<a href=\"https://colab.research.google.com/github/KAREN154/PlantPathoDetect-/blob/main/Maize_Model_Efficientnet_%26_Resnet.ipynb\" target=\"_parent\"><img src=\"https://colab.research.google.com/assets/colab-badge.svg\" alt=\"Open In Colab\"/></a>"
      ]
    },
    {
      "cell_type": "code",
      "execution_count": null,
      "id": "c2986fcd-9c53-44bd-86d3-c2dcf934eb28",
      "metadata": {
        "id": "c2986fcd-9c53-44bd-86d3-c2dcf934eb28"
      },
      "outputs": [],
      "source": [
        "#import libraries\n",
        "import numpy as np\n",
        "import matplotlib.pyplot as plt\n",
        "import pandas as pd\n",
        "import tensorflow as tf\n",
        "import pickle\n",
        "from sklearn.utils import class_weight\n",
        "\n",
        "import warnings\n",
        "warnings.filterwarnings(\"ignore\")\n",
        "\n",
        "from tensorflow.keras.callbacks import  ReduceLROnPlateau, ModelCheckpoint\n",
        "from tensorflow.keras.regularizers import l2\n",
        "from sklearn.metrics import confusion_matrix, ConfusionMatrixDisplay, classification_report"
      ]
    },
    {
      "cell_type": "code",
      "source": [
        "# Load the drive helper and mount\n",
        "from google.colab import drive\n",
        "# This will prompt for authorization\n",
        "drive.mount('/content/drive')"
      ],
      "metadata": {
        "colab": {
          "base_uri": "https://localhost:8080/"
        },
        "id": "VT5SDm_SWtmf",
        "outputId": "69792fc5-5176-4a57-dc36-e582e9ba6655"
      },
      "id": "VT5SDm_SWtmf",
      "execution_count": null,
      "outputs": [
        {
          "output_type": "stream",
          "name": "stdout",
          "text": [
            "Mounted at /content/drive\n"
          ]
        }
      ]
    },
    {
      "cell_type": "markdown",
      "id": "6906acb7",
      "metadata": {
        "id": "6906acb7"
      },
      "source": [
        "***\n",
        "### MODELING\n",
        "***\n",
        "With the previous models achieving a threshold of 80% we explored further usage of pretrained CNN architectures to better the accuracy of the model.\n",
        "The following models were the best models we achieved.\n",
        "1. Use of EfficientNetV2B0 architecture\n",
        "2. Use of ResNet50 architecture\n",
        "\n",
        "\n",
        "***\n",
        "##### EFFICIENTNETV2B0 DATA AUGMENTATION\n",
        "***"
      ]
    },
    {
      "cell_type": "code",
      "execution_count": null,
      "id": "0b14e805",
      "metadata": {
        "id": "0b14e805",
        "outputId": "33c6ccbe-12d6-4152-8a4b-d5c6bc69da6a",
        "colab": {
          "base_uri": "https://localhost:8080/"
        }
      },
      "outputs": [
        {
          "output_type": "stream",
          "name": "stdout",
          "text": [
            "Found 4394 images belonging to 3 classes.\n",
            "Found 1216 images belonging to 3 classes.\n",
            "Found 136 images belonging to 3 classes.\n"
          ]
        }
      ],
      "source": [
        "#ImageDataGenerator for training with augmentation\n",
        "train_generator = tf.keras.preprocessing.image.ImageDataGenerator(\n",
        "    preprocessing_function=tf.keras.applications.efficientnet_v2.preprocess_input,\n",
        "    rotation_range=30,\n",
        "    zoom_range=0.15,\n",
        "    width_shift_range=0.2,\n",
        "    height_shift_range=0.2,\n",
        "    shear_range=0.15,\n",
        "    horizontal_flip=True,\n",
        "    fill_mode=\"nearest\"\n",
        ")\n",
        "\n",
        "# ImageDataGenerator for validation (without augmentation)\n",
        "val_generator = tf.keras.preprocessing.image.ImageDataGenerator(\n",
        "    preprocessing_function=tf.keras.applications.efficientnet_v2.preprocess_input,\n",
        "\n",
        ")\n",
        "\n",
        "# ImageDataGenerator for testing (without augmentation)\n",
        "test_generator = tf.keras.preprocessing.image.ImageDataGenerator(\n",
        "    preprocessing_function=tf.keras.applications.efficientnet_v2.preprocess_input,\n",
        "\n",
        ")\n",
        "\n",
        "# Creating train, validation, and test image flows from data\n",
        "train_data = train_generator.flow_from_directory(\n",
        "    '/content/drive/MyDrive/PlantPathoDetect-/data/Corn (Maize)/Train',\n",
        "    target_size=(224, 224),\n",
        "    color_mode='rgb',\n",
        "    class_mode='categorical',\n",
        "    batch_size=32,\n",
        "    shuffle=True,\n",
        "    seed=0\n",
        ")\n",
        "\n",
        "val_data = val_generator.flow_from_directory(\n",
        "    '/content/drive/MyDrive/PlantPathoDetect-/data/Corn (Maize)/Val',\n",
        "    target_size=(224, 224),\n",
        "    color_mode='rgb',\n",
        "    class_mode='categorical',\n",
        "    batch_size=32,\n",
        "    shuffle=True,\n",
        "    seed=0\n",
        ")\n",
        "\n",
        "test_data = test_generator.flow_from_directory(\n",
        "    '/content/drive/MyDrive/PlantPathoDetect-/Corn (Maize)/Test',\n",
        "    target_size=(224, 224),\n",
        "    color_mode='rgb',\n",
        "    class_mode='categorical',\n",
        "    batch_size=32,\n",
        "    shuffle=False\n",
        ")"
      ]
    },
    {
      "cell_type": "code",
      "execution_count": null,
      "id": "6d6e7938",
      "metadata": {
        "id": "6d6e7938",
        "colab": {
          "base_uri": "https://localhost:8080/"
        },
        "outputId": "28d5b775-9911-44eb-f175-8db185487653"
      },
      "outputs": [
        {
          "output_type": "stream",
          "name": "stdout",
          "text": [
            "{0: 2.412959912136189, 1: 0.7794926379279759, 2: 0.7676450034940601}\n"
          ]
        }
      ],
      "source": [
        "\n",
        "# Extract class indices from train_data\n",
        "y_train = train_data.classes\n",
        "\n",
        "# Compute class weights\n",
        "cls_wt = class_weight.compute_class_weight(\n",
        "    class_weight='balanced',\n",
        "    classes=np.unique(y_train),\n",
        "    y=y_train\n",
        ")\n",
        "\n",
        "# Create a dictionary for class weights\n",
        "class_weights = {i: cls_wt[i] for i in range(len(cls_wt))}\n",
        "\n",
        "print(class_weights)"
      ]
    },
    {
      "cell_type": "code",
      "source": [
        "import tensorflow as tf\n",
        "from tensorflow.keras.layers import Dense\n",
        "from tensorflow.keras.callbacks import EarlyStopping\n",
        "from tensorflow.keras.regularizers import l2\n",
        "\n",
        "# Enable mixed precision for faster training on supported GPUs\n",
        "tf.keras.mixed_precision.set_global_policy('mixed_float16')\n",
        "\n",
        "# ImageDataGenerator for training with fewer augmentations\n",
        "train_generator = tf.keras.preprocessing.image.ImageDataGenerator(\n",
        "    preprocessing_function=tf.keras.applications.efficientnet_v2.preprocess_input,\n",
        "    rotation_range=20,  # Reduced rotation\n",
        "    zoom_range=0.1,     # Reduced zoom\n",
        "    horizontal_flip=True\n",
        ")\n",
        "\n",
        "# ImageDataGenerator for validation and testing (no augmentation)\n",
        "val_generator = tf.keras.preprocessing.image.ImageDataGenerator(\n",
        "    preprocessing_function=tf.keras.applications.efficientnet_v2.preprocess_input\n",
        ")\n",
        "\n",
        "test_generator = tf.keras.preprocessing.image.ImageDataGenerator(\n",
        "    preprocessing_function=tf.keras.applications.efficientnet_v2.preprocess_input\n",
        ")\n",
        "\n",
        "# Load the data with smaller target size (64, 64) and increased batch size\n",
        "train_data = train_generator.flow_from_directory(\n",
        "    '/content/drive/MyDrive/PlantPathoDetect-/data/Corn (Maize)/Train',\n",
        "    target_size=(64, 64),  # Reduced input size\n",
        "    color_mode='rgb',\n",
        "    class_mode='categorical',\n",
        "    batch_size=64,  # Increased batch size\n",
        "    shuffle=True,\n",
        "    seed=0\n",
        ")\n",
        "\n",
        "val_data = val_generator.flow_from_directory(\n",
        "    '/content/drive/MyDrive/PlantPathoDetect-/data/Corn (Maize)/Val',\n",
        "    target_size=(64, 64),\n",
        "    color_mode='rgb',\n",
        "    class_mode='categorical',\n",
        "    batch_size=64\n",
        ")\n",
        "\n",
        "test_data = test_generator.flow_from_directory(\n",
        "    '/content/drive/MyDrive/PlantPathoDetect-/Corn (Maize)/Test',\n",
        "    target_size=(64, 64),\n",
        "    color_mode='rgb',\n",
        "    class_mode='categorical',\n",
        "    batch_size=64,\n",
        "    shuffle=False\n",
        ")\n",
        "\n",
        "# Load pretrained EfficientNet with smaller input size\n",
        "pretrained_model = tf.keras.applications.EfficientNetV2B0(\n",
        "    input_shape=(64, 64, 3),\n",
        "    include_top=False,\n",
        "    weights='imagenet',\n",
        "    pooling='avg'\n",
        ")\n",
        "\n",
        "pretrained_model.trainable = False  # Freeze pretrained layers\n",
        "\n",
        "# Add dense layers with regularization\n",
        "x = Dense(64, activation='swish', kernel_regularizer=l2(0.0001))(pretrained_model.output)\n",
        "x = Dense(32, activation='swish', kernel_regularizer=l2(0.0001))(x)\n",
        "outputs = Dense(train_data.num_classes, activation='softmax')(x)\n",
        "\n",
        "# Create the final model\n",
        "model = tf.keras.Model(inputs=pretrained_model.input, outputs=outputs)\n",
        "\n",
        "# Compile the model with a faster optimizer\n",
        "model.compile(\n",
        "    optimizer=tf.keras.optimizers.RMSprop(learning_rate=0.001),\n",
        "    loss='categorical_crossentropy',\n",
        "    metrics=['accuracy']\n",
        ")\n",
        "\n",
        "# Early stopping to avoid overfitting\n",
        "early_stopping = EarlyStopping(\n",
        "    monitor='val_loss',\n",
        "    patience=5,\n",
        "    restore_best_weights=True\n",
        ")\n",
        "\n",
        "# Train the model with fewer epochs\n",
        "history = model.fit(\n",
        "    train_data,\n",
        "    validation_data=val_data,\n",
        "    epochs=5,  # Fewer epochs\n",
        "    batch_size=64,\n",
        "    callbacks=[early_stopping]\n",
        ")\n",
        "\n",
        "# Evaluate on the test data\n",
        "test_loss, test_accuracy = model.evaluate(test_data)\n",
        "print(f\"Test Loss: {test_loss}, Test Accuracy: {test_accuracy}\")\n"
      ],
      "metadata": {
        "colab": {
          "base_uri": "https://localhost:8080/"
        },
        "id": "8wTanq5-mRZo",
        "outputId": "c00f5575-15b0-4b9f-bdcb-10bf6a6b46fe"
      },
      "id": "8wTanq5-mRZo",
      "execution_count": null,
      "outputs": [
        {
          "output_type": "stream",
          "name": "stdout",
          "text": [
            "Found 4394 images belonging to 3 classes.\n",
            "Found 1216 images belonging to 3 classes.\n",
            "Found 136 images belonging to 3 classes.\n",
            "Downloading data from https://storage.googleapis.com/tensorflow/keras-applications/efficientnet_v2/efficientnetv2-b0_notop.h5\n",
            "\u001b[1m24274472/24274472\u001b[0m \u001b[32m━━━━━━━━━━━━━━━━━━━━\u001b[0m\u001b[37m\u001b[0m \u001b[1m0s\u001b[0m 0us/step\n",
            "Epoch 1/5\n",
            "\u001b[1m69/69\u001b[0m \u001b[32m━━━━━━━━━━━━━━━━━━━━\u001b[0m\u001b[37m\u001b[0m \u001b[1m842s\u001b[0m 12s/step - accuracy: 0.8396 - loss: 0.4495 - val_accuracy: 0.8947 - val_loss: 0.3270\n",
            "Epoch 2/5\n",
            "\u001b[1m69/69\u001b[0m \u001b[32m━━━━━━━━━━━━━━━━━━━━\u001b[0m\u001b[37m\u001b[0m \u001b[1m26s\u001b[0m 375ms/step - accuracy: 0.9422 - loss: 0.1738 - val_accuracy: 0.9128 - val_loss: 0.2300\n",
            "Epoch 3/5\n",
            "\u001b[1m69/69\u001b[0m \u001b[32m━━━━━━━━━━━━━━━━━━━━\u001b[0m\u001b[37m\u001b[0m \u001b[1m26s\u001b[0m 371ms/step - accuracy: 0.9604 - loss: 0.1372 - val_accuracy: 0.9038 - val_loss: 0.2965\n",
            "Epoch 4/5\n",
            "\u001b[1m69/69\u001b[0m \u001b[32m━━━━━━━━━━━━━━━━━━━━\u001b[0m\u001b[37m\u001b[0m \u001b[1m25s\u001b[0m 370ms/step - accuracy: 0.9653 - loss: 0.1286 - val_accuracy: 0.8906 - val_loss: 0.3563\n",
            "Epoch 5/5\n",
            "\u001b[1m69/69\u001b[0m \u001b[32m━━━━━━━━━━━━━━━━━━━━\u001b[0m\u001b[37m\u001b[0m \u001b[1m25s\u001b[0m 363ms/step - accuracy: 0.9564 - loss: 0.1335 - val_accuracy: 0.9128 - val_loss: 0.2546\n",
            "\u001b[1m3/3\u001b[0m \u001b[32m━━━━━━━━━━━━━━━━━━━━\u001b[0m\u001b[37m\u001b[0m \u001b[1m8s\u001b[0m 4s/step - accuracy: 0.8934 - loss: 0.3181\n",
            "Test Loss: 0.2984924614429474, Test Accuracy: 0.9117646813392639\n"
          ]
        }
      ]
    },
    {
      "cell_type": "markdown",
      "id": "e98e75ed",
      "metadata": {
        "id": "e98e75ed"
      },
      "source": [
        "\n",
        "***\n",
        "##### EFFICIENTNETV2B0 MODEL\n",
        "***"
      ]
    },
    {
      "cell_type": "code",
      "execution_count": null,
      "id": "da363e34",
      "metadata": {
        "id": "da363e34"
      },
      "outputs": [],
      "source": [
        "# Modelcheckpoint callback to save the best model\n",
        "checkpoint = ModelCheckpoint(\"TomatoefficientnetV2B0.keras\", monitor=\"val_accuracy\",\n",
        "                             save_best_only=True, verbose=1)\n",
        "\n",
        "# ReduceLROnPlateau callback to reduce learning rate if validation accuracy plateaus\n",
        "reduce_lr = ReduceLROnPlateau(monitor='val_accuracy', factor=0.1, patience=2,\n",
        "                              min_delta=0.0001, verbose=1)"
      ]
    },
    {
      "cell_type": "code",
      "execution_count": null,
      "id": "858b99e6",
      "metadata": {
        "id": "858b99e6",
        "colab": {
          "base_uri": "https://localhost:8080/"
        },
        "outputId": "9a2df67e-e5c5-46a1-b239-e9429429075b"
      },
      "outputs": [
        {
          "output_type": "stream",
          "name": "stdout",
          "text": [
            "Epoch 1/8\n",
            "\u001b[1m69/69\u001b[0m \u001b[32m━━━━━━━━━━━━━━━━━━━━\u001b[0m\u001b[37m\u001b[0m \u001b[1m0s\u001b[0m 467ms/step - accuracy: 0.9353 - loss: 0.2105\n",
            "Epoch 1: val_accuracy improved from -inf to 0.92763, saving model to TomatoefficientnetV2B0.keras\n",
            "\u001b[1m69/69\u001b[0m \u001b[32m━━━━━━━━━━━━━━━━━━━━\u001b[0m\u001b[37m\u001b[0m \u001b[1m59s\u001b[0m 549ms/step - accuracy: 0.9353 - loss: 0.2104 - val_accuracy: 0.9276 - val_loss: 0.1942 - learning_rate: 0.0010\n",
            "Epoch 2/8\n",
            "\u001b[1m69/69\u001b[0m \u001b[32m━━━━━━━━━━━━━━━━━━━━\u001b[0m\u001b[37m\u001b[0m \u001b[1m0s\u001b[0m 305ms/step - accuracy: 0.9492 - loss: 0.1659\n",
            "Epoch 2: val_accuracy improved from 0.92763 to 0.93421, saving model to TomatoefficientnetV2B0.keras\n",
            "\u001b[1m69/69\u001b[0m \u001b[32m━━━━━━━━━━━━━━━━━━━━\u001b[0m\u001b[37m\u001b[0m \u001b[1m26s\u001b[0m 378ms/step - accuracy: 0.9492 - loss: 0.1660 - val_accuracy: 0.9342 - val_loss: 0.1873 - learning_rate: 0.0010\n",
            "Epoch 3/8\n",
            "\u001b[1m69/69\u001b[0m \u001b[32m━━━━━━━━━━━━━━━━━━━━\u001b[0m\u001b[37m\u001b[0m \u001b[1m0s\u001b[0m 305ms/step - accuracy: 0.9512 - loss: 0.1716\n",
            "Epoch 3: val_accuracy did not improve from 0.93421\n",
            "\u001b[1m69/69\u001b[0m \u001b[32m━━━━━━━━━━━━━━━━━━━━\u001b[0m\u001b[37m\u001b[0m \u001b[1m25s\u001b[0m 367ms/step - accuracy: 0.9513 - loss: 0.1715 - val_accuracy: 0.9301 - val_loss: 0.2119 - learning_rate: 0.0010\n",
            "Epoch 4/8\n",
            "\u001b[1m69/69\u001b[0m \u001b[32m━━━━━━━━━━━━━━━━━━━━\u001b[0m\u001b[37m\u001b[0m \u001b[1m0s\u001b[0m 305ms/step - accuracy: 0.9529 - loss: 0.1600\n",
            "Epoch 4: val_accuracy did not improve from 0.93421\n",
            "\n",
            "Epoch 4: ReduceLROnPlateau reducing learning rate to 0.00010000000474974513.\n",
            "\u001b[1m69/69\u001b[0m \u001b[32m━━━━━━━━━━━━━━━━━━━━\u001b[0m\u001b[37m\u001b[0m \u001b[1m26s\u001b[0m 381ms/step - accuracy: 0.9530 - loss: 0.1599 - val_accuracy: 0.9317 - val_loss: 0.2008 - learning_rate: 0.0010\n",
            "Epoch 5/8\n",
            "\u001b[1m69/69\u001b[0m \u001b[32m━━━━━━━━━━━━━━━━━━━━\u001b[0m\u001b[37m\u001b[0m \u001b[1m0s\u001b[0m 308ms/step - accuracy: 0.9662 - loss: 0.1336\n",
            "Epoch 5: val_accuracy improved from 0.93421 to 0.93750, saving model to TomatoefficientnetV2B0.keras\n",
            "\u001b[1m69/69\u001b[0m \u001b[32m━━━━━━━━━━━━━━━━━━━━\u001b[0m\u001b[37m\u001b[0m \u001b[1m26s\u001b[0m 377ms/step - accuracy: 0.9662 - loss: 0.1336 - val_accuracy: 0.9375 - val_loss: 0.1818 - learning_rate: 1.0000e-04\n",
            "Epoch 6/8\n",
            "\u001b[1m69/69\u001b[0m \u001b[32m━━━━━━━━━━━━━━━━━━━━\u001b[0m\u001b[37m\u001b[0m \u001b[1m0s\u001b[0m 305ms/step - accuracy: 0.9601 - loss: 0.1458\n",
            "Epoch 6: val_accuracy did not improve from 0.93750\n",
            "\u001b[1m69/69\u001b[0m \u001b[32m━━━━━━━━━━━━━━━━━━━━\u001b[0m\u001b[37m\u001b[0m \u001b[1m25s\u001b[0m 367ms/step - accuracy: 0.9601 - loss: 0.1456 - val_accuracy: 0.9375 - val_loss: 0.1838 - learning_rate: 1.0000e-04\n",
            "Epoch 7/8\n",
            "\u001b[1m69/69\u001b[0m \u001b[32m━━━━━━━━━━━━━━━━━━━━\u001b[0m\u001b[37m\u001b[0m \u001b[1m0s\u001b[0m 305ms/step - accuracy: 0.9677 - loss: 0.1257\n",
            "Epoch 7: val_accuracy did not improve from 0.93750\n",
            "\n",
            "Epoch 7: ReduceLROnPlateau reducing learning rate to 1.0000000474974514e-05.\n",
            "\u001b[1m69/69\u001b[0m \u001b[32m━━━━━━━━━━━━━━━━━━━━\u001b[0m\u001b[37m\u001b[0m \u001b[1m25s\u001b[0m 366ms/step - accuracy: 0.9677 - loss: 0.1258 - val_accuracy: 0.9375 - val_loss: 0.1836 - learning_rate: 1.0000e-04\n",
            "Epoch 8/8\n",
            "\u001b[1m69/69\u001b[0m \u001b[32m━━━━━━━━━━━━━━━━━━━━\u001b[0m\u001b[37m\u001b[0m \u001b[1m0s\u001b[0m 304ms/step - accuracy: 0.9606 - loss: 0.1491\n",
            "Epoch 8: val_accuracy did not improve from 0.93750\n",
            "\u001b[1m69/69\u001b[0m \u001b[32m━━━━━━━━━━━━━━━━━━━━\u001b[0m\u001b[37m\u001b[0m \u001b[1m25s\u001b[0m 365ms/step - accuracy: 0.9606 - loss: 0.1490 - val_accuracy: 0.9334 - val_loss: 0.1866 - learning_rate: 1.0000e-05\n"
          ]
        }
      ],
      "source": [
        "# Fitting the model\n",
        "history1 = model.fit(\n",
        "    train_data,                 # Training dataset\n",
        "    validation_data=val_data,   # Validation dataset\n",
        "    epochs=8,                   # Set number of epochs\n",
        "    class_weight=class_weights, # Apply class weights if needed\n",
        "    callbacks=[checkpoint, reduce_lr],  # List of callbacks\n",
        "    batch_size=None             # Remove batch_size (handled by the dataset object)\n",
        ")\n"
      ]
    },
    {
      "cell_type": "code",
      "execution_count": null,
      "id": "ff8c6964",
      "metadata": {
        "id": "ff8c6964",
        "colab": {
          "base_uri": "https://localhost:8080/"
        },
        "outputId": "64b19802-0f59-463f-9cda-1c0f9b2f4176"
      },
      "outputs": [
        {
          "output_type": "stream",
          "name": "stdout",
          "text": [
            "    Validation Loss: 0.18658\n",
            "Validation Accuracy: 93.34%\n"
          ]
        }
      ],
      "source": [
        "# Evaluating the Validation data\n",
        "results = model.evaluate(val_data, verbose=0)\n",
        "\n",
        "print(\"    Validation Loss: {:.5f}\".format(results[0]))\n",
        "print(\"Validation Accuracy: {:.2f}%\".format(results[1] * 100))"
      ]
    },
    {
      "cell_type": "code",
      "execution_count": null,
      "id": "db18bdd1",
      "metadata": {
        "id": "db18bdd1",
        "colab": {
          "base_uri": "https://localhost:8080/"
        },
        "outputId": "b16da923-9303-400b-9d0f-c34a12480b62"
      },
      "outputs": [
        {
          "output_type": "stream",
          "name": "stdout",
          "text": [
            "\u001b[1m3/3\u001b[0m \u001b[32m━━━━━━━━━━━━━━━━━━━━\u001b[0m\u001b[37m\u001b[0m \u001b[1m14s\u001b[0m 4s/step\n",
            "                      precision    recall  f1-score   support\n",
            "\n",
            "Cercospora Leaf Spot       0.92      0.85      0.89        41\n",
            "             Healthy       0.94      1.00      0.97        47\n",
            "Northern Leaf Blight       0.92      0.92      0.92        48\n",
            "\n",
            "            accuracy                           0.93       136\n",
            "           macro avg       0.93      0.92      0.92       136\n",
            "        weighted avg       0.93      0.93      0.93       136\n",
            "\n"
          ]
        }
      ],
      "source": [
        "# Obtain class names from the test data generator\n",
        "class_names = list(test_data.class_indices.keys())\n",
        "\n",
        "# Predict on the test data\n",
        "predictions = model.predict(test_data, verbose=1)\n",
        "predicted_classes = np.argmax(predictions, axis=1)\n",
        "\n",
        "# Get true labels\n",
        "true_labels = test_data.classes\n",
        "\n",
        "# Convert true labels to class names\n",
        "true_labels_names = [class_names[label] for label in true_labels]\n",
        "\n",
        "# Convert predicted labels to class names\n",
        "predicted_labels_names = [class_names[label] for label in predicted_classes]\n",
        "\n",
        "# Print classification report\n",
        "print(classification_report(true_labels_names, predicted_labels_names, target_names=class_names))\n"
      ]
    },
    {
      "cell_type": "code",
      "execution_count": null,
      "id": "fc2b2cb9",
      "metadata": {
        "id": "fc2b2cb9",
        "colab": {
          "base_uri": "https://localhost:8080/",
          "height": 624
        },
        "outputId": "3c9b2cd1-0389-4655-b4dd-f3905037628c"
      },
      "outputs": [
        {
          "output_type": "display_data",
          "data": {
            "text/plain": [
              "<Figure size 1000x800 with 0 Axes>"
            ]
          },
          "metadata": {}
        },
        {
          "output_type": "display_data",
          "data": {
            "text/plain": [
              "<Figure size 640x480 with 2 Axes>"
            ],
            "image/png": "[encoded data removed]"
          },
          "metadata": {}
        }
      ],
      "source": [
        "\n",
        "# Compute the confusion matrix\n",
        "cm = confusion_matrix(true_labels, predicted_classes, labels=np.arange(len(class_names)))\n",
        "\n",
        "# Create a confusion matrix display\n",
        "disp = ConfusionMatrixDisplay(confusion_matrix=cm, display_labels=class_names)\n",
        "\n",
        "# Plot the confusion matrix\n",
        "plt.figure(figsize=(10, 8))\n",
        "disp.plot(cmap=plt.cm.Blues)\n",
        "plt.title('Confusion Matrix')\n",
        "plt.xticks(rotation=90)\n",
        "plt.show()"
      ]
    },
    {
      "cell_type": "code",
      "execution_count": null,
      "id": "9db07744",
      "metadata": {
        "id": "9db07744",
        "colab": {
          "base_uri": "https://localhost:8080/",
          "height": 452
        },
        "outputId": "5fb9b22b-caaa-47e2-b865-b2070c1a5247"
      },
      "outputs": [
        {
          "output_type": "display_data",
          "data": {
            "text/plain": [
              "<Figure size 640x480 with 1 Axes>"
            ],
            "image/png": "[encoded data removed]"
          },
          "metadata": {}
        }
      ],
      "source": [
        "# Plotting for accuracy in the model\n",
        "pd.DataFrame(history1.history)[['accuracy','val_accuracy']].plot()\n",
        "plt.title(\"Accuracy\")\n",
        "plt.show()"
      ]
    },
    {
      "cell_type": "code",
      "execution_count": null,
      "id": "62c45939",
      "metadata": {
        "id": "62c45939",
        "colab": {
          "base_uri": "https://localhost:8080/",
          "height": 452
        },
        "outputId": "b06e97a8-d6ea-465f-a091-ab97eeb973c0"
      },
      "outputs": [
        {
          "output_type": "display_data",
          "data": {
            "text/plain": [
              "<Figure size 640x480 with 1 Axes>"
            ],
            "image/png": "[encoded data removed]"
          },
          "metadata": {}
        }
      ],
      "source": [
        "#Plotting for Loss in the Model\n",
        "pd.DataFrame(history1.history)[['loss','val_loss']].plot()\n",
        "plt.title(\"Loss\")\n",
        "plt.show()"
      ]
    },
    {
      "source": [
        "import os\n",
        "\n",
        "# Create the directory if it doesn't exist\n",
        "os.makedirs('pickle_files/models', exist_ok=True)\n",
        "\n",
        "\n",
        "# Saving the model into a pickle\n",
        "with open('pickle_files/models/MaizeefficientnetV2B0.keras', 'wb') as file:\n",
        "    pickle.dump(model, file)"
      ],
      "cell_type": "code",
      "metadata": {
        "id": "cnJmaQtrdRv4"
      },
      "id": "cnJmaQtrdRv4",
      "execution_count": null,
      "outputs": []
    },
    {
      "cell_type": "markdown",
      "id": "ad34569f",
      "metadata": {
        "id": "ad34569f"
      },
      "source": [
        "***\n",
        "Findings and Observations\n",
        "***\n",
        "\n",
        "- This model was able to achieve the desired metrics of of which it achieved 83% accuracy and 83% F1 score.\n",
        "- The F1 score used was weighted as the classes had been weighted to account for the class imbalance.\n",
        "- It is evident that classes generalize well to their classes except miscellaneous trash which has an F1 score of 71%.\n",
        "- The models begin to plateau after 10 epochs in both the accuracy and loss\n"
      ]
    },
    {
      "cell_type": "markdown",
      "id": "d7462ed0",
      "metadata": {
        "id": "d7462ed0"
      },
      "source": [
        "***\n",
        "##### RESNET50 DATA AUGMENTATION\n",
        "***"
      ]
    },
    {
      "cell_type": "code",
      "execution_count": null,
      "id": "00a77d0e",
      "metadata": {
        "id": "00a77d0e",
        "colab": {
          "base_uri": "https://localhost:8080/"
        },
        "outputId": "5690b663-8640-4af7-87b0-a16a8af39999"
      },
      "outputs": [
        {
          "output_type": "stream",
          "name": "stdout",
          "text": [
            "Found 4394 images belonging to 3 classes.\n",
            "Found 1216 images belonging to 3 classes.\n",
            "Found 136 images belonging to 3 classes.\n"
          ]
        }
      ],
      "source": [
        "# ImageDataGenerator for training with augmentation\n",
        "train_generator = tf.keras.preprocessing.image.ImageDataGenerator(\n",
        "    preprocessing_function=tf.keras.applications.resnet50.preprocess_input,\n",
        "    rotation_range=30,\n",
        "    zoom_range=0.15,\n",
        "    width_shift_range=0.2,\n",
        "    height_shift_range=0.2,\n",
        "    shear_range=0.15,\n",
        "    horizontal_flip=True,\n",
        "    fill_mode=\"nearest\"\n",
        ")\n",
        "\n",
        "# ImageDataGenerator for validation (without augmentation)\n",
        "val_generator = tf.keras.preprocessing.image.ImageDataGenerator(\n",
        "    preprocessing_function=tf.keras.applications.resnet50.preprocess_input,\n",
        ")\n",
        "\n",
        "# ImageDataGenerator for testing (without augmentation)\n",
        "test_generator = tf.keras.preprocessing.image.ImageDataGenerator(\n",
        "    preprocessing_function=tf.keras.applications.resnet50.preprocess_input,\n",
        ")\n",
        "\n",
        "# Creating train, validation, and test image flows from directories\n",
        "train_data = train_generator.flow_from_directory(\n",
        "    '/content/drive/MyDrive/PlantPathoDetect-/data/Corn (Maize)/Train',\n",
        "    target_size=(224, 224),\n",
        "    color_mode='rgb',\n",
        "    class_mode='categorical',\n",
        "    batch_size=32,\n",
        "    shuffle=True,\n",
        "    seed=0\n",
        ")\n",
        "\n",
        "val_data = val_generator.flow_from_directory(\n",
        "    '/content/drive/MyDrive/PlantPathoDetect-/data/Corn (Maize)/Val',\n",
        "    target_size=(224, 224),\n",
        "    color_mode='rgb',\n",
        "    class_mode='categorical',\n",
        "    batch_size=32,\n",
        "    shuffle=True,\n",
        "    seed=0\n",
        ")\n",
        "\n",
        "test_data = test_generator.flow_from_directory(\n",
        "    '/content/drive/MyDrive/PlantPathoDetect-/Corn (Maize)/Test',\n",
        "    target_size=(224, 224),\n",
        "    color_mode='rgb',\n",
        "    class_mode='categorical',\n",
        "    batch_size=32,\n",
        "    shuffle=False\n",
        ")"
      ]
    },
    {
      "cell_type": "code",
      "execution_count": null,
      "id": "16acb975",
      "metadata": {
        "id": "16acb975",
        "colab": {
          "base_uri": "https://localhost:8080/"
        },
        "outputId": "32987467-37cc-4e93-cb91-1dbde8ddc951"
      },
      "outputs": [
        {
          "output_type": "stream",
          "name": "stdout",
          "text": [
            "{0: 2.412959912136189, 1: 0.7794926379279759, 2: 0.7676450034940601}\n"
          ]
        }
      ],
      "source": [
        "\n",
        "# Extract class indices from train_data\n",
        "y_train = train_data.classes\n",
        "\n",
        "# Compute class weights\n",
        "cls_wt = class_weight.compute_class_weight(\n",
        "    class_weight='balanced',\n",
        "    classes=np.unique(y_train),\n",
        "    y=y_train\n",
        ")\n",
        "\n",
        "# Create a dictionary for class weights\n",
        "class_weights = {i: cls_wt[i] for i in range(len(cls_wt))}\n",
        "\n",
        "print(class_weights)"
      ]
    },
    {
      "cell_type": "markdown",
      "id": "21306a61",
      "metadata": {
        "id": "21306a61"
      },
      "source": [
        "\n",
        "***\n",
        "##### RESNET50 MODEL\n",
        "***"
      ]
    },
    {
      "cell_type": "code",
      "execution_count": null,
      "id": "4d0ecec0",
      "metadata": {
        "id": "4d0ecec0",
        "colab": {
          "base_uri": "https://localhost:8080/"
        },
        "outputId": "c831aaa6-a5c5-41c1-e9cc-889e68409919"
      },
      "outputs": [
        {
          "output_type": "stream",
          "name": "stdout",
          "text": [
            "Found 4394 images belonging to 3 classes.\n",
            "Found 1216 images belonging to 3 classes.\n",
            "Found 136 images belonging to 3 classes.\n",
            "Downloading data from https://storage.googleapis.com/tensorflow/keras-applications/resnet/resnet50_weights_tf_dim_ordering_tf_kernels_notop.h5\n",
            "\u001b[1m94765736/94765736\u001b[0m \u001b[32m━━━━━━━━━━━━━━━━━━━━\u001b[0m\u001b[37m\u001b[0m \u001b[1m0s\u001b[0m 0us/step\n",
            "Epoch 1/20\n",
            "\u001b[1m69/69\u001b[0m \u001b[32m━━━━━━━━━━━━━━━━━━━━\u001b[0m\u001b[37m\u001b[0m \u001b[1m47s\u001b[0m 462ms/step - accuracy: 0.4695 - loss: 0.9999 - val_accuracy: 0.4836 - val_loss: 1.0127\n",
            "Epoch 2/20\n",
            "\u001b[1m69/69\u001b[0m \u001b[32m━━━━━━━━━━━━━━━━━━━━\u001b[0m\u001b[37m\u001b[0m \u001b[1m21s\u001b[0m 299ms/step - accuracy: 0.6234 - loss: 0.8068 - val_accuracy: 0.6127 - val_loss: 0.9350\n",
            "Epoch 3/20\n",
            "\u001b[1m69/69\u001b[0m \u001b[32m━━━━━━━━━━━━━━━━━━━━\u001b[0m\u001b[37m\u001b[0m \u001b[1m20s\u001b[0m 292ms/step - accuracy: 0.7127 - loss: 0.6814 - val_accuracy: 0.7212 - val_loss: 0.7743\n",
            "Epoch 4/20\n",
            "\u001b[1m69/69\u001b[0m \u001b[32m━━━━━━━━━━━━━━━━━━━━\u001b[0m\u001b[37m\u001b[0m \u001b[1m20s\u001b[0m 297ms/step - accuracy: 0.7414 - loss: 0.6222 - val_accuracy: 0.7484 - val_loss: 0.7014\n",
            "Epoch 5/20\n",
            "\u001b[1m69/69\u001b[0m \u001b[32m━━━━━━━━━━━━━━━━━━━━\u001b[0m\u001b[37m\u001b[0m \u001b[1m21s\u001b[0m 308ms/step - accuracy: 0.8204 - loss: 0.4981 - val_accuracy: 0.7887 - val_loss: 0.5877\n",
            "Epoch 6/20\n",
            "\u001b[1m69/69\u001b[0m \u001b[32m━━━━━━━━━━━━━━━━━━━━\u001b[0m\u001b[37m\u001b[0m \u001b[1m40s\u001b[0m 298ms/step - accuracy: 0.8304 - loss: 0.4770 - val_accuracy: 0.8117 - val_loss: 0.5463\n",
            "Epoch 7/20\n",
            "\u001b[1m69/69\u001b[0m \u001b[32m━━━━━━━━━━━━━━━━━━━━\u001b[0m\u001b[37m\u001b[0m \u001b[1m20s\u001b[0m 294ms/step - accuracy: 0.8381 - loss: 0.4627 - val_accuracy: 0.7262 - val_loss: 0.7371\n",
            "Epoch 8/20\n",
            "\u001b[1m69/69\u001b[0m \u001b[32m━━━━━━━━━━━━━━━━━━━━\u001b[0m\u001b[37m\u001b[0m \u001b[1m21s\u001b[0m 298ms/step - accuracy: 0.8208 - loss: 0.4731 - val_accuracy: 0.8141 - val_loss: 0.5426\n",
            "Epoch 9/20\n",
            "\u001b[1m69/69\u001b[0m \u001b[32m━━━━━━━━━━━━━━━━━━━━\u001b[0m\u001b[37m\u001b[0m \u001b[1m20s\u001b[0m 292ms/step - accuracy: 0.8489 - loss: 0.4125 - val_accuracy: 0.8084 - val_loss: 0.5510\n",
            "Epoch 10/20\n",
            "\u001b[1m69/69\u001b[0m \u001b[32m━━━━━━━━━━━━━━━━━━━━\u001b[0m\u001b[37m\u001b[0m \u001b[1m21s\u001b[0m 294ms/step - accuracy: 0.8585 - loss: 0.3976 - val_accuracy: 0.8273 - val_loss: 0.5012\n",
            "Epoch 11/20\n",
            "\u001b[1m69/69\u001b[0m \u001b[32m━━━━━━━━━━━━━━━━━━━━\u001b[0m\u001b[37m\u001b[0m \u001b[1m21s\u001b[0m 307ms/step - accuracy: 0.8470 - loss: 0.3960 - val_accuracy: 0.8215 - val_loss: 0.4985\n",
            "Epoch 12/20\n",
            "\u001b[1m69/69\u001b[0m \u001b[32m━━━━━━━━━━━━━━━━━━━━\u001b[0m\u001b[37m\u001b[0m \u001b[1m21s\u001b[0m 298ms/step - accuracy: 0.8497 - loss: 0.4185 - val_accuracy: 0.7714 - val_loss: 0.5812\n",
            "Epoch 13/20\n",
            "\u001b[1m69/69\u001b[0m \u001b[32m━━━━━━━━━━━━━━━━━━━━\u001b[0m\u001b[37m\u001b[0m \u001b[1m41s\u001b[0m 305ms/step - accuracy: 0.8363 - loss: 0.4248 - val_accuracy: 0.8158 - val_loss: 0.5316\n",
            "Epoch 14/20\n",
            "\u001b[1m69/69\u001b[0m \u001b[32m━━━━━━━━━━━━━━━━━━━━\u001b[0m\u001b[37m\u001b[0m \u001b[1m22s\u001b[0m 316ms/step - accuracy: 0.8732 - loss: 0.3510 - val_accuracy: 0.8331 - val_loss: 0.4718\n",
            "Epoch 15/20\n",
            "\u001b[1m69/69\u001b[0m \u001b[32m━━━━━━━━━━━━━━━━━━━━\u001b[0m\u001b[37m\u001b[0m \u001b[1m21s\u001b[0m 303ms/step - accuracy: 0.8748 - loss: 0.3531 - val_accuracy: 0.8339 - val_loss: 0.4835\n",
            "Epoch 16/20\n",
            "\u001b[1m69/69\u001b[0m \u001b[32m━━━━━━━━━━━━━━━━━━━━\u001b[0m\u001b[37m\u001b[0m \u001b[1m21s\u001b[0m 299ms/step - accuracy: 0.8383 - loss: 0.4104 - val_accuracy: 0.8224 - val_loss: 0.5381\n",
            "Epoch 17/20\n",
            "\u001b[1m69/69\u001b[0m \u001b[32m━━━━━━━━━━━━━━━━━━━━\u001b[0m\u001b[37m\u001b[0m \u001b[1m21s\u001b[0m 303ms/step - accuracy: 0.8603 - loss: 0.3700 - val_accuracy: 0.8298 - val_loss: 0.4967\n",
            "Epoch 18/20\n",
            "\u001b[1m69/69\u001b[0m \u001b[32m━━━━━━━━━━━━━━━━━━━━\u001b[0m\u001b[37m\u001b[0m \u001b[1m21s\u001b[0m 306ms/step - accuracy: 0.8709 - loss: 0.3460 - val_accuracy: 0.6735 - val_loss: 0.8148\n",
            "Epoch 19/20\n",
            "\u001b[1m69/69\u001b[0m \u001b[32m━━━━━━━━━━━━━━━━━━━━\u001b[0m\u001b[37m\u001b[0m \u001b[1m20s\u001b[0m 295ms/step - accuracy: 0.8585 - loss: 0.3731 - val_accuracy: 0.8520 - val_loss: 0.4442\n",
            "Epoch 20/20\n",
            "\u001b[1m69/69\u001b[0m \u001b[32m━━━━━━━━━━━━━━━━━━━━\u001b[0m\u001b[37m\u001b[0m \u001b[1m21s\u001b[0m 299ms/step - accuracy: 0.8753 - loss: 0.3505 - val_accuracy: 0.8289 - val_loss: 0.5193\n"
          ]
        },
        {
          "output_type": "execute_result",
          "data": {
            "text/plain": [
              "<keras.src.callbacks.history.History at 0x7b1710da0dd0>"
            ]
          },
          "metadata": {},
          "execution_count": 18
        }
      ],
      "source": [
        "from tensorflow.keras.preprocessing.image import ImageDataGenerator\n",
        "\n",
        "# Initialize the ImageDataGenerator objects\n",
        "train_generator = ImageDataGenerator(rescale=1.0 / 255)\n",
        "val_generator = ImageDataGenerator(rescale=1.0 / 255)\n",
        "test_generator = ImageDataGenerator(rescale=1.0 / 255)\n",
        "\n",
        "# Load the data with the correct target size (64, 64)\n",
        "train_data = train_generator.flow_from_directory(\n",
        "    '/content/drive/MyDrive/PlantPathoDetect-/data/Corn (Maize)/Train',\n",
        "    target_size=(64, 64),  # Ensure the target size is (64, 64)\n",
        "    color_mode='rgb',\n",
        "    class_mode='categorical',\n",
        "    batch_size=64,\n",
        "    shuffle=True,\n",
        "    seed=0\n",
        ")\n",
        "\n",
        "val_data = val_generator.flow_from_directory(\n",
        "    '/content/drive/MyDrive/PlantPathoDetect-/data/Corn (Maize)/Val',\n",
        "    target_size=(64, 64),\n",
        "    color_mode='rgb',\n",
        "    class_mode='categorical',\n",
        "    batch_size=64\n",
        ")\n",
        "\n",
        "test_data = test_generator.flow_from_directory(\n",
        "    '/content/drive/MyDrive/PlantPathoDetect-/Corn (Maize)/Test',\n",
        "    target_size=(64, 64),\n",
        "    color_mode='rgb',\n",
        "    class_mode='categorical',\n",
        "    batch_size=64,\n",
        "    shuffle=False\n",
        ")\n",
        "\n",
        "# Ensure the model input shape matches (64, 64, 3)\n",
        "import tensorflow as tf\n",
        "from tensorflow.keras.applications import ResNet50\n",
        "from tensorflow.keras.layers import Dense\n",
        "from tensorflow.keras.callbacks import EarlyStopping\n",
        "\n",
        "# Load the pretrained model with the new input size\n",
        "pretrained_model = ResNet50(\n",
        "    input_shape=(64, 64, 3),  # Adjusted input size\n",
        "    include_top=False,\n",
        "    weights='imagenet',\n",
        "    pooling='max'  # Using max pooling for downsampling\n",
        ")\n",
        "\n",
        "# Freeze the pretrained layers\n",
        "pretrained_model.trainable = False\n",
        "\n",
        "# Add custom layers\n",
        "x = Dense(128, activation='relu')(pretrained_model.output)\n",
        "x = Dense(256, activation='relu')(x)\n",
        "outputs = Dense(train_data.num_classes, activation='softmax')(x)\n",
        "\n",
        "# Build the model\n",
        "model = tf.keras.Model(inputs=pretrained_model.input, outputs=outputs)\n",
        "\n",
        "# Compile the model\n",
        "model.compile(\n",
        "    optimizer='adam',\n",
        "    loss='categorical_crossentropy',\n",
        "    metrics=['accuracy']\n",
        ")\n",
        "\n",
        "# Train the model\n",
        "model.fit(\n",
        "    train_data,\n",
        "    validation_data=val_data,\n",
        "    epochs=20,\n",
        "    batch_size=64\n",
        ")\n"
      ]
    },
    {
      "cell_type": "code",
      "execution_count": null,
      "id": "ea7ee3b6",
      "metadata": {
        "id": "ea7ee3b6"
      },
      "outputs": [],
      "source": [
        "# Define callbacks\n",
        "checkpoint = ModelCheckpoint(\"resnet50.keras\", monitor=\"val_accuracy\",\n",
        "                             save_best_only=True, verbose=1)\n",
        "reduce_lr = ReduceLROnPlateau(monitor='val_accuracy', factor=0.1, patience=2,\n",
        "                              min_delta=0.0001, verbose=1)"
      ]
    },
    {
      "cell_type": "code",
      "source": [
        "results = model.evaluate(val_data, verbose=0)\n",
        "\n",
        "print(\"    Validation Loss: {:.5f}\".format(results[0]))\n",
        "print(\"Validation Accuracy: {:.2f}%\".format(results[1] * 100))"
      ],
      "metadata": {
        "id": "xBOJbrHNUad2",
        "colab": {
          "base_uri": "https://localhost:8080/"
        },
        "outputId": "84a3981f-d58d-453a-b6bb-3234d665afbb"
      },
      "id": "xBOJbrHNUad2",
      "execution_count": null,
      "outputs": [
        {
          "output_type": "stream",
          "name": "stdout",
          "text": [
            "    Validation Loss: 0.51935\n",
            "Validation Accuracy: 82.89%\n"
          ]
        }
      ]
    },
    {
      "cell_type": "code",
      "execution_count": null,
      "id": "4c625d30-5cc9-44bc-977a-f68b4abb0471",
      "metadata": {
        "id": "4c625d30-5cc9-44bc-977a-f68b4abb0471",
        "colab": {
          "base_uri": "https://localhost:8080/"
        },
        "outputId": "24f6ed31-5647-4a6b-eca8-b63389e18fa8"
      },
      "outputs": [
        {
          "output_type": "stream",
          "name": "stdout",
          "text": [
            "\u001b[1m3/3\u001b[0m \u001b[32m━━━━━━━━━━━━━━━━━━━━\u001b[0m\u001b[37m\u001b[0m \u001b[1m11s\u001b[0m 3s/step\n",
            "                      precision    recall  f1-score   support\n",
            "\n",
            "Cercospora Leaf Spot       0.96      0.59      0.73        41\n",
            "             Healthy       0.81      0.94      0.87        47\n",
            "Northern Leaf Blight       0.75      0.90      0.82        48\n",
            "\n",
            "            accuracy                           0.82       136\n",
            "           macro avg       0.84      0.81      0.81       136\n",
            "        weighted avg       0.84      0.82      0.81       136\n",
            "\n"
          ]
        }
      ],
      "source": [
        "# Obtain class names from the test data generator\n",
        "class_names = list(test_data.class_indices.keys())\n",
        "\n",
        "# Predict on the test data\n",
        "predictions = model.predict(test_data, verbose=1)\n",
        "predicted_classes = np.argmax(predictions, axis=1)\n",
        "\n",
        "# Get true labels\n",
        "true_labels = test_data.classes\n",
        "\n",
        "# Convert true labels to class names\n",
        "true_labels_names = [class_names[label] for label in true_labels]\n",
        "\n",
        "# Convert predicted labels to class names\n",
        "predicted_labels_names = [class_names[label] for label in predicted_classes]\n",
        "\n",
        "# Print classification report\n",
        "print(classification_report(true_labels_names, predicted_labels_names, target_names=class_names))\n"
      ]
    },
    {
      "cell_type": "code",
      "execution_count": null,
      "id": "7a0233bb-6516-49dc-8452-7327f3af9a3d",
      "metadata": {
        "id": "7a0233bb-6516-49dc-8452-7327f3af9a3d",
        "colab": {
          "base_uri": "https://localhost:8080/",
          "height": 624
        },
        "outputId": "80321944-f851-44f7-e80d-0c8c24fea325"
      },
      "outputs": [
        {
          "output_type": "display_data",
          "data": {
            "text/plain": [
              "<Figure size 1000x800 with 0 Axes>"
            ]
          },
          "metadata": {}
        },
        {
          "output_type": "display_data",
          "data": {
            "text/plain": [
              "<Figure size 640x480 with 2 Axes>"
            ],
            "image/png": "[encoded data removed]"
          },
          "metadata": {}
        }
      ],
      "source": [
        "# Compute the confusion matrix\n",
        "cm = confusion_matrix(true_labels, predicted_classes, labels=np.arange(len(class_names)))\n",
        "\n",
        "# Create a confusion matrix display\n",
        "disp = ConfusionMatrixDisplay(confusion_matrix=cm, display_labels=class_names)\n",
        "\n",
        "# Plot the confusion matrix\n",
        "plt.figure(figsize=(10, 8))\n",
        "disp.plot(cmap=plt.cm.Blues)\n",
        "plt.title('Confusion Matrix')\n",
        "plt.xticks(rotation=90)\n",
        "plt.show()"
      ]
    },
    {
      "cell_type": "code",
      "execution_count": null,
      "id": "b5d11725-32cf-4e3d-9e62-91e12e5dfe31",
      "metadata": {
        "id": "b5d11725-32cf-4e3d-9e62-91e12e5dfe31"
      },
      "outputs": [],
      "source": [
        "# Saving the model into a pickle\n",
        "with open('/content/Maizeresnet50.pkl', 'wb') as file:\n",
        "    pickle.dump(model, file)\n"
      ]
    },
    {
      "cell_type": "markdown",
      "id": "2b61bd56-9b76-4333-a0ac-f559a14756e6",
      "metadata": {
        "id": "2b61bd56-9b76-4333-a0ac-f559a14756e6"
      },
      "source": [
        "***\n",
        "Findings and Observations\n",
        "***\n",
        "- ResNet50 CNN architecture was able to give us the best model with an accuracy of 85% and an F1 score of 85%\n",
        "- The F1 score used was weighted as the classes had been weighted to account for the class imbalance.\n",
        "- Plastics classification was greatly improved to 83% while most of the other models remianed constant or showed better improvement"
      ]
    }
  ],
  "metadata": {
    "kernelspec": {
      "display_name": "Python 3",
      "name": "python3"
    },
    "language_info": {
      "name": "python"
    },
    "colab": {
      "provenance": [],
      "gpuType": "T4",
      "include_colab_link": true
    },
    "accelerator": "GPU"
  },
  "nbformat": 4,
  "nbformat_minor": 5
}