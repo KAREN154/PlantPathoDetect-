{
  "nbformat": 4,
  "nbformat_minor": 0,
  "metadata": {
    "colab": {
      "provenance": [],
      "authorship_tag": "ABX9TyOBDrl0E5AB0PkOdRjcUgDh",
      "include_colab_link": true
    },
    "kernelspec": {
      "name": "python3",
      "display_name": "Python 3"
    },
    "language_info": {
      "name": "python"
    }
  },
  "cells": [
    {
      "cell_type": "markdown",
      "metadata": {
        "id": "view-in-github",
        "colab_type": "text"
      },
      "source": [
        "<a href=\"https://colab.research.google.com/github/KAREN154/PlantPathoDetect-/blob/main/Baseline_Cnn_Model.ipynb\" target=\"_parent\"><img src=\"https://colab.research.google.com/assets/colab-badge.svg\" alt=\"Open In Colab\"/></a>"
      ]
    },
    {
      "cell_type": "markdown",
      "source": [
        "### MODELING"
      ],
      "metadata": {
        "id": "YFzKETNlC1jG"
      }
    },
    {
      "cell_type": "markdown",
      "source": [
        "\n",
        "\n",
        "To perform the modeling, CNN models were considerd for the image classififcation problem we have because of their ability of capture spatial hierarchies, reduce computational complexity, and leverage hierarchical feature learning in images. Their design principles, including local connectivity, parameter sharing, and pooling, make them particularly well-suited for processing and understanding visual data."
      ],
      "metadata": {
        "id": "w3oz5IkkCyl1"
      }
    },
    {
      "cell_type": "code",
      "source": [
        "# import Libaries\n",
        "import numpy as np\n",
        "import pickle\n",
        "import matplotlib.pyplot as ply\n",
        "from tensorflow.keras.preprocessing.image import ImageDataGenerator\n",
        "from tensorflow.keras.models import Sequential\n",
        "from tensorflow.keras.layers import Conv2D, MaxPooling2D, Flatten, Dense, Dropout\n",
        "import pandas as pd\n",
        "import tensorflow as tf\n"
      ],
      "metadata": {
        "id": "vswrFqNrGNeT"
      },
      "execution_count": null,
      "outputs": []
    },
    {
      "cell_type": "markdown",
      "source": [],
      "metadata": {
        "id": "3XZe_xR-GJUS"
      }
    },
    {
      "cell_type": "code",
      "source": [
        "from google.colab import drive\n",
        "drive.mount('/content/drive')"
      ],
      "metadata": {
        "colab": {
          "base_uri": "https://localhost:8080/"
        },
        "id": "FhmdHy4oHLI3",
        "outputId": "d9eae84a-b0a1-4e7c-d836-5c104394a345"
      },
      "execution_count": null,
      "outputs": [
        {
          "output_type": "stream",
          "name": "stdout",
          "text": [
            "Mounted at /content/drive\n"
          ]
        }
      ]
    },
    {
      "cell_type": "code",
      "execution_count": null,
      "metadata": {
        "colab": {
          "base_uri": "https://localhost:8080/"
        },
        "id": "WW9wc-HVCu_m",
        "outputId": "afcbfcd4-d666-490f-bc2b-c236c09e0078"
      },
      "outputs": [
        {
          "output_type": "stream",
          "name": "stdout",
          "text": [
            "Found 5702 images belonging to 3 classes.\n",
            "Found 1282 images belonging to 3 classes.\n",
            "Found 144 images belonging to 3 classes.\n"
          ]
        }
      ],
      "source": [
        "#train data generator\n",
        "train_datagen = ImageDataGenerator(\n",
        "         rescale=1./255)\n",
        "\n",
        "train_potato = train_datagen.flow_from_directory(\n",
        "    '/content/drive/MyDrive/PlantPathoDetect-/data/Potato/Train',\n",
        "    target_size=(224, 224),\n",
        "    batch_size=32,\n",
        "    class_mode='categorical'\n",
        ")\n",
        "#Val data generator\n",
        "val_datagen = ImageDataGenerator(rescale = 1./255)\n",
        "val_potato = val_datagen.flow_from_directory(\n",
        "    '/content/drive/MyDrive/PlantPathoDetect-/data/Potato/Val',\n",
        "    target_size=(224, 224),\n",
        "    batch_size=32,\n",
        "    class_mode='categorical'\n",
        ")\n",
        "#Test Data Generator\n",
        "test_datagen = ImageDataGenerator(rescale=1./255)\n",
        "test_potato = test_datagen.flow_from_directory(\n",
        "    '/content/drive/MyDrive/PlantPathoDetect-/data/Potato/Test',\n",
        "    target_size=(224, 224),\n",
        "    batch_size=32,\n",
        "    class_mode='categorical'\n",
        ")"
      ]
    },
    {
      "cell_type": "code",
      "source": [
        "#train data generator\n",
        "train_datagen = ImageDataGenerator(\n",
        "         rescale=1./255)\n",
        "\n",
        "train_maize = train_datagen.flow_from_directory(\n",
        "    '/content/drive/MyDrive/PlantPathoDetect-/data/Corn (Maize)/Train',\n",
        "    target_size=(224, 224),\n",
        "    batch_size=32,\n",
        "    class_mode='categorical'\n",
        ")\n",
        "#Val data generator\n",
        "val_datagen = ImageDataGenerator(rescale = 1./255)\n",
        "val_maize = val_datagen.flow_from_directory(\n",
        "    '/content/drive/MyDrive/PlantPathoDetect-/data/Corn (Maize)/Val',\n",
        "    target_size=(224, 224),\n",
        "    batch_size=32,\n",
        "    class_mode='categorical'\n",
        ")\n",
        "#Test Data Generator\n",
        "test_datagen = ImageDataGenerator(rescale=1./255)\n",
        "test_maize = test_datagen.flow_from_directory(\n",
        "    '/content/drive/MyDrive/PlantPathoDetect-/data/Corn (Maize)/Test',\n",
        "    target_size=(224, 224),\n",
        "    batch_size=32,\n",
        "    class_mode='categorical'\n",
        ")"
      ],
      "metadata": {
        "id": "jYRu5UHeVZK7",
        "colab": {
          "base_uri": "https://localhost:8080/"
        },
        "outputId": "810592ba-d9c0-44b1-de83-83633ad295df"
      },
      "execution_count": null,
      "outputs": [
        {
          "output_type": "stream",
          "name": "stdout",
          "text": [
            "Found 4394 images belonging to 3 classes.\n",
            "Found 1216 images belonging to 3 classes.\n",
            "Found 0 images belonging to 3 classes.\n"
          ]
        }
      ]
    },
    {
      "cell_type": "code",
      "source": [
        "#train data generator\n",
        "train_datagen = ImageDataGenerator(\n",
        "         rescale=1./255)\n",
        "\n",
        "train_tomato = train_datagen.flow_from_directory(\n",
        "    '/content/drive/MyDrive/PlantPathoDetect-/data/Tomato/Train',\n",
        "    target_size=(224, 224),\n",
        "    batch_size=32,\n",
        "    class_mode='categorical'\n",
        ")\n",
        "#Val data generator\n",
        "val_datagen = ImageDataGenerator(rescale = 1./255)\n",
        "val_tomato = val_datagen.flow_from_directory(\n",
        "    '/content/drive/MyDrive/PlantPathoDetect-/data/Tomato/Val',\n",
        "    target_size=(224, 224),\n",
        "    batch_size=32,\n",
        "    class_mode='categorical'\n",
        ")\n",
        "#Test Data Generator\n",
        "test_datagen = ImageDataGenerator(rescale=1./255)\n",
        "test_tomato = test_datagen.flow_from_directory(\n",
        "    '/content/drive/MyDrive/PlantPathoDetect-/data/Tomato/Test',\n",
        "    target_size=(224, 224),\n",
        "    batch_size=32,\n",
        "    class_mode='categorical'\n",
        ")"
      ],
      "metadata": {
        "colab": {
          "base_uri": "https://localhost:8080/"
        },
        "id": "cXRgEZ5hVchd",
        "outputId": "f8d64dd1-7ff0-4a3a-86bf-9e755d3c880d"
      },
      "execution_count": null,
      "outputs": [
        {
          "output_type": "stream",
          "name": "stdout",
          "text": [
            "Found 11105 images belonging to 6 classes.\n",
            "Found 2495 images belonging to 6 classes.\n",
            "Found 280 images belonging to 6 classes.\n"
          ]
        }
      ]
    },
    {
      "source": [
        "from google.colab import drive\n",
        "drive.mount('/content/drive')"
      ],
      "cell_type": "code",
      "metadata": {
        "id": "lJgJMFRIHGZ8",
        "colab": {
          "base_uri": "https://localhost:8080/"
        },
        "outputId": "863e3b42-78e5-46af-d572-702f28259289"
      },
      "execution_count": null,
      "outputs": [
        {
          "output_type": "stream",
          "name": "stdout",
          "text": [
            "Drive already mounted at /content/drive; to attempt to forcibly remount, call drive.mount(\"/content/drive\", force_remount=True).\n"
          ]
        }
      ]
    }
  ]
}