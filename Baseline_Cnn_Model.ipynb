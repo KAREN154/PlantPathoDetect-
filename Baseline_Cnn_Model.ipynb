{
  "cells": [
    {
      "cell_type": "markdown",
      "metadata": {
        "id": "view-in-github",
        "colab_type": "text"
      },
      "source": [
        "<a href=\"https://colab.research.google.com/github/KAREN154/PlantPathoDetect-/blob/main/Baseline_Cnn_Model.ipynb\" target=\"_parent\"><img src=\"https://colab.research.google.com/assets/colab-badge.svg\" alt=\"Open In Colab\"/></a>"
      ]
    },
    {
      "cell_type": "markdown",
      "metadata": {
        "id": "YFzKETNlC1jG"
      },
      "source": [
        "### MODELING"
      ]
    },
    {
      "cell_type": "markdown",
      "metadata": {
        "id": "w3oz5IkkCyl1"
      },
      "source": [
        "\n",
        "\n",
        "To perform the modeling, CNN models were considerd for the image classififcation problem we have because of their ability of capture spatial hierarchies, reduce computational complexity, and leverage hierarchical feature learning in images. Their design principles, including local connectivity, parameter sharing, and pooling, make them particularly well-suited for processing and understanding visual data."
      ]
    },
    {
      "cell_type": "code",
      "execution_count": null,
      "metadata": {
        "id": "vswrFqNrGNeT"
      },
      "outputs": [],
      "source": [
        "# import Libaries\n",
        "import numpy as np\n",
        "import pickle\n",
        "import matplotlib.pyplot as ply\n",
        "from tensorflow.keras.preprocessing.image import ImageDataGenerator\n",
        "from tensorflow.keras.models import Sequential\n",
        "from tensorflow.keras.layers import Conv2D, MaxPooling2D, Flatten, Dense, Dropout\n",
        "import pandas as pd\n",
        "import tensorflow as tf\n"
      ]
    },
    {
      "cell_type": "markdown",
      "metadata": {
        "id": "3XZe_xR-GJUS"
      },
      "source": []
    },
    {
      "cell_type": "code",
      "execution_count": null,
      "metadata": {
        "colab": {
          "base_uri": "https://localhost:8080/"
        },
        "id": "FhmdHy4oHLI3",
        "outputId": "29487279-f306-4967-ee67-bb90b084c386"
      },
      "outputs": [
        {
          "name": "stdout",
          "output_type": "stream",
          "text": [
            "Mounted at /content/drive\n"
          ]
        }
      ],
      "source": [
        "from google.colab import drive\n",
        "drive.mount('/content/drive')"
      ]
    },
    {
      "cell_type": "code",
      "execution_count": null,
      "metadata": {
        "colab": {
          "base_uri": "https://localhost:8080/"
        },
        "id": "WW9wc-HVCu_m",
        "outputId": "ee4337a6-8bb6-42a2-8f10-9c8e1459a114"
      },
      "outputs": [
        {
          "name": "stdout",
          "output_type": "stream",
          "text": [
            "Found 5702 images belonging to 3 classes.\n",
            "Found 1282 images belonging to 3 classes.\n",
            "Found 144 images belonging to 3 classes.\n"
          ]
        }
      ],
      "source": [
        "#train data generator\n",
        "train_datagen = ImageDataGenerator(\n",
        "         rescale=1./255)\n",
        "\n",
        "train_potato = train_datagen.flow_from_directory(\n",
        "    '/content/drive/MyDrive/PlantPathoDetect-/data/Potato/Train',\n",
        "    target_size=(224, 224),\n",
        "    batch_size=32,\n",
        "    class_mode='categorical'\n",
        ")\n",
        "#Val data generator\n",
        "val_datagen = ImageDataGenerator(rescale = 1./255)\n",
        "val_potato = val_datagen.flow_from_directory(\n",
        "    '/content/drive/MyDrive/PlantPathoDetect-/data/Potato/Val',\n",
        "    target_size=(224, 224),\n",
        "    batch_size=32,\n",
        "    class_mode='categorical'\n",
        ")\n",
        "#Test Data Generator\n",
        "test_datagen = ImageDataGenerator(rescale=1./255)\n",
        "test_potato = test_datagen.flow_from_directory(\n",
        "    '/content/drive/MyDrive/PlantPathoDetect-/data/Potato/Test',\n",
        "    target_size=(224, 224),\n",
        "    batch_size=32,\n",
        "    class_mode='categorical'\n",
        ")"
      ]
    },
    {
      "cell_type": "code",
      "execution_count": null,
      "metadata": {
        "colab": {
          "base_uri": "https://localhost:8080/"
        },
        "id": "jYRu5UHeVZK7",
        "outputId": "a51abd9c-c10a-43d9-ef6b-3594faa0496b"
      },
      "outputs": [
        {
          "name": "stdout",
          "output_type": "stream",
          "text": [
            "Found 4394 images belonging to 3 classes.\n",
            "Found 1216 images belonging to 3 classes.\n",
            "Found 0 images belonging to 3 classes.\n"
          ]
        }
      ],
      "source": [
        "#train data generator\n",
        "train_datagen = ImageDataGenerator(\n",
        "         rescale=1./255)\n",
        "\n",
        "train_maize = train_datagen.flow_from_directory(\n",
        "    '/content/drive/MyDrive/PlantPathoDetect-/data/Corn (Maize)/Train',\n",
        "    target_size=(224, 224),\n",
        "    batch_size=32,\n",
        "    class_mode='categorical'\n",
        ")\n",
        "#Val data generator\n",
        "val_datagen = ImageDataGenerator(rescale = 1./255)\n",
        "val_maize = val_datagen.flow_from_directory(\n",
        "    '/content/drive/MyDrive/PlantPathoDetect-/data/Corn (Maize)/Val',\n",
        "    target_size=(224, 224),\n",
        "    batch_size=32,\n",
        "    class_mode='categorical'\n",
        ")\n",
        "#Test Data Generator\n",
        "test_datagen = ImageDataGenerator(rescale=1./255)\n",
        "test_maize = test_datagen.flow_from_directory(\n",
        "    '/content/drive/MyDrive/PlantPathoDetect-/data/Corn (Maize)/Test',\n",
        "    target_size=(224, 224),\n",
        "    batch_size=32,\n",
        "    class_mode='categorical'\n",
        ")"
      ]
    },
    {
      "cell_type": "code",
      "execution_count": null,
      "metadata": {
        "colab": {
          "base_uri": "https://localhost:8080/"
        },
        "id": "cXRgEZ5hVchd",
        "outputId": "5e48cb0c-864f-4c83-bcbb-a1307bbf5338"
      },
      "outputs": [
        {
          "name": "stdout",
          "output_type": "stream",
          "text": [
            "Found 11105 images belonging to 6 classes.\n",
            "Found 2495 images belonging to 6 classes.\n",
            "Found 280 images belonging to 6 classes.\n"
          ]
        }
      ],
      "source": [
        "#train data generator\n",
        "train_datagen = ImageDataGenerator(\n",
        "         rescale=1./255)\n",
        "\n",
        "train_tomato = train_datagen.flow_from_directory(\n",
        "    '/content/drive/MyDrive/PlantPathoDetect-/data/Tomato/Train',\n",
        "    target_size=(224, 224),\n",
        "    batch_size=32,\n",
        "    class_mode='categorical'\n",
        ")\n",
        "#Val data generator\n",
        "val_datagen = ImageDataGenerator(rescale = 1./255)\n",
        "val_tomato = val_datagen.flow_from_directory(\n",
        "    '/content/drive/MyDrive/PlantPathoDetect-/data/Tomato/Val',\n",
        "    target_size=(224, 224),\n",
        "    batch_size=32,\n",
        "    class_mode='categorical'\n",
        ")\n",
        "#Test Data Generator\n",
        "test_datagen = ImageDataGenerator(rescale=1./255)\n",
        "test_tomato = test_datagen.flow_from_directory(\n",
        "    '/content/drive/MyDrive/PlantPathoDetect-/data/Tomato/Test',\n",
        "    target_size=(224, 224),\n",
        "    batch_size=32,\n",
        "    class_mode='categorical'\n",
        ")"
      ]
    },
    {
      "cell_type": "code",
      "execution_count": null,
      "metadata": {
        "colab": {
          "base_uri": "https://localhost:8080/"
        },
        "id": "lJgJMFRIHGZ8",
        "outputId": "bb4dded3-7157-45a0-85ed-fb06263d3da8"
      },
      "outputs": [
        {
          "name": "stdout",
          "output_type": "stream",
          "text": [
            "Drive already mounted at /content/drive; to attempt to forcibly remount, call drive.mount(\"/content/drive\", force_remount=True).\n"
          ]
        }
      ],
      "source": [
        "from google.colab import drive\n",
        "drive.mount('/content/drive')"
      ]
    },
    {
      "cell_type": "markdown",
      "metadata": {
        "id": "n3lF5iIDYorq"
      },
      "source": [
        "\n",
        "BASELINE CNN MODEL"
      ]
    },
    {
      "cell_type": "code",
      "execution_count": null,
      "metadata": {
        "colab": {
          "base_uri": "https://localhost:8080/"
        },
        "id": "rfUsQw5PaxDd",
        "outputId": "62ea789c-2856-4943-e171-6bfa9a72f389"
      },
      "outputs": [
        {
          "name": "stderr",
          "output_type": "stream",
          "text": [
            "/usr/local/lib/python3.10/dist-packages/keras/src/layers/convolutional/base_conv.py:107: UserWarning: Do not pass an `input_shape`/`input_dim` argument to a layer. When using Sequential models, prefer using an `Input(shape)` object as the first layer in the model instead.\n",
            "  super().__init__(activity_regularizer=activity_regularizer, **kwargs)\n"
          ]
        }
      ],
      "source": [
        "def build_cnn_model(input_shape, num_classes):\n",
        "    model = Sequential()\n",
        "\n",
        "    # Convolutional Layer 1\n",
        "    model.add(Conv2D(32, (3, 3), activation='relu', input_shape=input_shape))\n",
        "    model.add(MaxPooling2D(pool_size=(2, 2)))\n",
        "\n",
        "    # Convolutional Layer 2\n",
        "    model.add(Conv2D(64, (3, 3), activation='relu'))\n",
        "    model.add(MaxPooling2D(pool_size=(2, 2)))\n",
        "\n",
        "    # Convolutional Layer 3\n",
        "    model.add(Conv2D(128, (3, 3), activation='relu'))\n",
        "    model.add(MaxPooling2D(pool_size=(2, 2)))\n",
        "\n",
        "    # Flatten and Fully Connected Layers\n",
        "    model.add(Flatten())\n",
        "    model.add(Dense(128, activation='relu'))\n",
        "    model.add(Dropout(0.5))\n",
        "    model.add(Dense(num_classes, activation='softmax'))\n",
        "\n",
        "    return model\n",
        "\n",
        "input_shape = (224, 224, 3)\n",
        "num_classes = 3  # Changed from 8 to 3 to match tomato dataset\n",
        "\n",
        "model = build_cnn_model(input_shape, num_classes)\n",
        "\n",
        "# compiling the model\n",
        "model.compile(optimizer='adam',\n",
        "              loss='categorical_crossentropy',\n",
        "              metrics=['accuracy'])\n",
        "\n",
        "# # Fitting the model\n",
        "# history = model.fit(train_tomato, # Changed from train_potato to train_tomato\n",
        "#                     epochs=10,\n",
        "#                     validation_data=val_tomato # changed from train_potato to val_tomato\n",
        "# )"
      ]
    },
    {
      "cell_type": "code",
      "execution_count": null,
      "metadata": {
        "colab": {
          "base_uri": "https://localhost:8080/"
        },
        "id": "O0HC04qmaJqN",
        "outputId": "fea6b946-65e4-4b68-8a9a-4925d55395aa"
      },
      "outputs": [
        {
          "name": "stdout",
          "output_type": "stream",
          "text": [
            "Epoch 1/10\n"
          ]
        },
        {
          "name": "stderr",
          "output_type": "stream",
          "text": [
            "/usr/local/lib/python3.10/dist-packages/keras/src/trainers/data_adapters/py_dataset_adapter.py:122: UserWarning: Your `PyDataset` class should call `super().__init__(**kwargs)` in its constructor. `**kwargs` can include `workers`, `use_multiprocessing`, `max_queue_size`. Do not pass these arguments to `fit()`, as they will be ignored.\n",
            "  self._warn_if_super_not_called()\n"
          ]
        },
        {
          "name": "stdout",
          "output_type": "stream",
          "text": [
            "\u001b[1m179/179\u001b[0m \u001b[32m━━━━━━━━━━━━━━━━━━━━\u001b[0m\u001b[37m\u001b[0m \u001b[1m1152s\u001b[0m 6s/step - accuracy: 0.6707 - loss: 0.7821 - val_accuracy: 0.9188 - val_loss: 0.2123\n",
            "Epoch 2/10\n",
            "\u001b[1m179/179\u001b[0m \u001b[32m━━━━━━━━━━━━━━━━━━━━\u001b[0m\u001b[37m\u001b[0m \u001b[1m897s\u001b[0m 5s/step - accuracy: 0.9175 - loss: 0.2083 - val_accuracy: 0.9653 - val_loss: 0.0925\n",
            "Epoch 3/10\n",
            "\u001b[1m179/179\u001b[0m \u001b[32m━━━━━━━━━━━━━━━━━━━━\u001b[0m\u001b[37m\u001b[0m \u001b[1m975s\u001b[0m 5s/step - accuracy: 0.9575 - loss: 0.1165 - val_accuracy: 0.9740 - val_loss: 0.0868\n",
            "Epoch 4/10\n",
            "\u001b[1m179/179\u001b[0m \u001b[32m━━━━━━━━━━━━━━━━━━━━\u001b[0m\u001b[37m\u001b[0m \u001b[1m887s\u001b[0m 5s/step - accuracy: 0.9625 - loss: 0.0993 - val_accuracy: 0.9795 - val_loss: 0.0475\n",
            "Epoch 5/10\n",
            "\u001b[1m179/179\u001b[0m \u001b[32m━━━━━━━━━━━━━━━━━━━━\u001b[0m\u001b[37m\u001b[0m \u001b[1m937s\u001b[0m 5s/step - accuracy: 0.9661 - loss: 0.1086 - val_accuracy: 0.9933 - val_loss: 0.0238\n",
            "Epoch 6/10\n",
            "\u001b[1m179/179\u001b[0m \u001b[32m━━━━━━━━━━━━━━━━━━━━\u001b[0m\u001b[37m\u001b[0m \u001b[1m891s\u001b[0m 5s/step - accuracy: 0.9861 - loss: 0.0472 - val_accuracy: 0.9814 - val_loss: 0.0640\n",
            "Epoch 7/10\n",
            "\u001b[1m179/179\u001b[0m \u001b[32m━━━━━━━━━━━━━━━━━━━━\u001b[0m\u001b[37m\u001b[0m \u001b[1m919s\u001b[0m 5s/step - accuracy: 0.9636 - loss: 0.1059 - val_accuracy: 0.9949 - val_loss: 0.0130\n",
            "Epoch 8/10\n",
            "\u001b[1m179/179\u001b[0m \u001b[32m━━━━━━━━━━━━━━━━━━━━\u001b[0m\u001b[37m\u001b[0m \u001b[1m891s\u001b[0m 5s/step - accuracy: 0.9868 - loss: 0.0433 - val_accuracy: 0.9967 - val_loss: 0.0164\n",
            "Epoch 9/10\n",
            "\u001b[1m179/179\u001b[0m \u001b[32m━━━━━━━━━━━━━━━━━━━━\u001b[0m\u001b[37m\u001b[0m \u001b[1m897s\u001b[0m 5s/step - accuracy: 0.9891 - loss: 0.0365 - val_accuracy: 0.9867 - val_loss: 0.0358\n",
            "Epoch 10/10\n",
            "\u001b[1m179/179\u001b[0m \u001b[32m━━━━━━━━━━━━━━━━━━━━\u001b[0m\u001b[37m\u001b[0m \u001b[1m893s\u001b[0m 5s/step - accuracy: 0.9802 - loss: 0.0544 - val_accuracy: 0.9951 - val_loss: 0.0143\n"
          ]
        }
      ],
      "source": [
        "# Fitting the model\n",
        "history = model.fit(train_potato,\n",
        "                    epochs=10,\n",
        "                    validation_data=train_potato\n",
        ")"
      ]
    },
    {
      "cell_type": "code",
      "execution_count": null,
      "metadata": {
        "colab": {
          "base_uri": "https://localhost:8080/"
        },
        "id": "I3XvVwofUDZ5",
        "outputId": "18ee53fa-289f-45e0-b6be-28d00c020a95"
      },
      "outputs": [
        {
          "name": "stderr",
          "output_type": "stream",
          "text": [
            "/usr/local/lib/python3.10/dist-packages/keras/src/trainers/data_adapters/py_dataset_adapter.py:122: UserWarning: Your `PyDataset` class should call `super().__init__(**kwargs)` in its constructor. `**kwargs` can include `workers`, `use_multiprocessing`, `max_queue_size`. Do not pass these arguments to `fit()`, as they will be ignored.\n",
            "  self._warn_if_super_not_called()\n"
          ]
        },
        {
          "name": "stdout",
          "output_type": "stream",
          "text": [
            "   Test Loss: 0.04946\n",
            "Test Accuracy: 97.92%\n"
          ]
        }
      ],
      "source": [
        "# Evaluating the Test data\n",
        "results = model.evaluate(test_potato, verbose=0)\n",
        "\n",
        "print(\"   Test Loss: {:.5f}\".format(results[0]))\n",
        "print(\"Test Accuracy: {:.2f}%\".format(results[1] * 100))"
      ]
    },
    {
      "cell_type": "code",
      "execution_count": null,
      "metadata": {
        "colab": {
          "base_uri": "https://localhost:8080/"
        },
        "id": "MKnNh9eJVgK9",
        "outputId": "4c019cf2-7aab-4688-a564-caa033b79f8e"
      },
      "outputs": [
        {
          "name": "stderr",
          "output_type": "stream",
          "text": [
            "/usr/local/lib/python3.10/dist-packages/keras/src/layers/convolutional/base_conv.py:107: UserWarning: Do not pass an `input_shape`/`input_dim` argument to a layer. When using Sequential models, prefer using an `Input(shape)` object as the first layer in the model instead.\n",
            "  super().__init__(activity_regularizer=activity_regularizer, **kwargs)\n"
          ]
        }
      ],
      "source": [
        "def build_cnn_model(input_shape, num_classes):\n",
        "    model = Sequential()\n",
        "\n",
        "    # Convolutional Layer 1\n",
        "    model.add(Conv2D(32, (3, 3), activation='relu', input_shape=input_shape))\n",
        "    model.add(MaxPooling2D(pool_size=(2, 2)))\n",
        "\n",
        "    # Convolutional Layer 2\n",
        "    model.add(Conv2D(64, (3, 3), activation='relu'))\n",
        "    model.add(MaxPooling2D(pool_size=(2, 2)))\n",
        "\n",
        "    # Convolutional Layer 3\n",
        "    model.add(Conv2D(128, (3, 3), activation='relu'))\n",
        "    model.add(MaxPooling2D(pool_size=(2, 2)))\n",
        "\n",
        "    # Flatten and Fully Connected Layers\n",
        "    model.add(Flatten())\n",
        "    model.add(Dense(128, activation='relu'))\n",
        "    model.add(Dropout(0.5))\n",
        "    model.add(Dense(num_classes, activation='softmax'))\n",
        "\n",
        "    return model\n",
        "\n",
        "input_shape = (224, 224, 3)\n",
        "num_classes = 6  # Changed from 3 to 6 to match the actual number of classes in train_tomato\n",
        "\n",
        "model = build_cnn_model(input_shape, num_classes)\n",
        "\n",
        "# compiling the model\n",
        "model.compile(optimizer='adam',\n",
        "              loss='categorical_crossentropy',\n",
        "              metrics=['accuracy'])"
      ]
    },
    {
      "cell_type": "code",
      "execution_count": null,
      "metadata": {
        "colab": {
          "background_save": true,
          "base_uri": "https://localhost:8080/"
        },
        "id": "UKou220aVpu-",
        "outputId": "d2982602-1089-4713-c402-d051580aeee0"
      },
      "outputs": [
        {
          "name": "stdout",
          "output_type": "stream",
          "text": [
            "Epoch 1/10\n"
          ]
        },
        {
          "name": "stderr",
          "output_type": "stream",
          "text": [
            "/usr/local/lib/python3.10/dist-packages/keras/src/trainers/data_adapters/py_dataset_adapter.py:122: UserWarning: Your `PyDataset` class should call `super().__init__(**kwargs)` in its constructor. `**kwargs` can include `workers`, `use_multiprocessing`, `max_queue_size`. Do not pass these arguments to `fit()`, as they will be ignored.\n",
            "  self._warn_if_super_not_called()\n"
          ]
        },
        {
          "name": "stdout",
          "output_type": "stream",
          "text": [
            "\u001b[1m348/348\u001b[0m \u001b[32m━━━━━━━━━━━━━━━━━━━━\u001b[0m\u001b[37m\u001b[0m \u001b[1m2417s\u001b[0m 7s/step - accuracy: 0.5487 - loss: 1.1493 - val_accuracy: 0.7929 - val_loss: 0.5414\n",
            "Epoch 2/10\n",
            "\u001b[1m348/348\u001b[0m \u001b[32m━━━━━━━━━━━━━━━━━━━━\u001b[0m\u001b[37m\u001b[0m \u001b[1m1711s\u001b[0m 5s/step - accuracy: 0.8129 - loss: 0.5105 - val_accuracy: 0.8959 - val_loss: 0.3070\n",
            "Epoch 3/10\n",
            "\u001b[1m348/348\u001b[0m \u001b[32m━━━━━━━━━━━━━━━━━━━━\u001b[0m\u001b[37m\u001b[0m \u001b[1m1688s\u001b[0m 5s/step - accuracy: 0.8632 - loss: 0.3865 - val_accuracy: 0.9267 - val_loss: 0.2106\n",
            "Epoch 4/10\n",
            "\u001b[1m348/348\u001b[0m \u001b[32m━━━━━━━━━━━━━━━━━━━━\u001b[0m\u001b[37m\u001b[0m \u001b[1m1697s\u001b[0m 5s/step - accuracy: 0.8971 - loss: 0.2876 - val_accuracy: 0.9425 - val_loss: 0.1501\n",
            "Epoch 5/10\n",
            "\u001b[1m348/348\u001b[0m \u001b[32m━━━━━━━━━━━━━━━━━━━━\u001b[0m\u001b[37m\u001b[0m \u001b[1m1736s\u001b[0m 5s/step - accuracy: 0.9177 - loss: 0.2402 - val_accuracy: 0.9707 - val_loss: 0.0900\n",
            "Epoch 6/10\n",
            "\u001b[1m348/348\u001b[0m \u001b[32m━━━━━━━━━━━━━━━━━━━━\u001b[0m\u001b[37m\u001b[0m \u001b[1m1756s\u001b[0m 5s/step - accuracy: 0.9362 - loss: 0.1937 - val_accuracy: 0.9766 - val_loss: 0.0773\n",
            "Epoch 7/10\n",
            "\u001b[1m348/348\u001b[0m \u001b[32m━━━━━━━━━━━━━━━━━━━━\u001b[0m\u001b[37m\u001b[0m \u001b[1m1694s\u001b[0m 5s/step - accuracy: 0.9479 - loss: 0.1472 - val_accuracy: 0.9869 - val_loss: 0.0518\n",
            "Epoch 8/10\n",
            "\u001b[1m348/348\u001b[0m \u001b[32m━━━━━━━━━━━━━━━━━━━━\u001b[0m\u001b[37m\u001b[0m \u001b[1m1688s\u001b[0m 5s/step - accuracy: 0.9498 - loss: 0.1492 - val_accuracy: 0.9910 - val_loss: 0.0327\n",
            "Epoch 9/10\n",
            "\u001b[1m348/348\u001b[0m \u001b[32m━━━━━━━━━━━━━━━━━━━━\u001b[0m\u001b[37m\u001b[0m \u001b[1m1677s\u001b[0m 5s/step - accuracy: 0.9641 - loss: 0.0998 - val_accuracy: 0.9796 - val_loss: 0.0617\n",
            "Epoch 10/10\n",
            "\u001b[1m348/348\u001b[0m \u001b[32m━━━━━━━━━━━━━━━━━━━━\u001b[0m\u001b[37m\u001b[0m \u001b[1m1687s\u001b[0m 5s/step - accuracy: 0.9567 - loss: 0.1271 - val_accuracy: 0.9783 - val_loss: 0.0605\n"
          ]
        }
      ],
      "source": [
        "# Fitting the model\n",
        "history = model.fit(train_tomato,\n",
        "                    epochs=10,\n",
        "                    validation_data=train_tomato\n",
        ")"
      ]
    },
    {
      "cell_type": "code",
      "source": [
        "# Evaluating the Test data\n",
        "results = model.evaluate(test_tomato, verbose=0)\n",
        "\n",
        "print(\"   Test Loss: {:.5f}\".format(results[0]))\n",
        "print(\"Test Accuracy: {:.2f}%\".format(results[1] * 100))"
      ],
      "metadata": {
        "colab": {
          "base_uri": "https://localhost:8080/"
        },
        "id": "6UkZV9nrGTXc",
        "outputId": "f126019a-4519-43ab-8e8b-e0b98ff84926"
      },
      "execution_count": 8,
      "outputs": [
        {
          "output_type": "stream",
          "name": "stderr",
          "text": [
            "/usr/local/lib/python3.10/dist-packages/keras/src/trainers/data_adapters/py_dataset_adapter.py:122: UserWarning: Your `PyDataset` class should call `super().__init__(**kwargs)` in its constructor. `**kwargs` can include `workers`, `use_multiprocessing`, `max_queue_size`. Do not pass these arguments to `fit()`, as they will be ignored.\n",
            "  self._warn_if_super_not_called()\n"
          ]
        },
        {
          "output_type": "stream",
          "name": "stdout",
          "text": [
            "   Test Loss: 0.23700\n",
            "Test Accuracy: 91.43%\n"
          ]
        }
      ]
    },
    {
      "cell_type": "code",
      "source": [
        "def build_cnn_model(input_shape, num_classes):\n",
        "    model = Sequential()\n",
        "\n",
        "    # Convolutional Layer 1\n",
        "    model.add(Conv2D(32, (3, 3), activation='relu', input_shape=input_shape))\n",
        "    model.add(MaxPooling2D(pool_size=(2, 2)))\n",
        "\n",
        "    # Convolutional Layer 2\n",
        "    model.add(Conv2D(64, (3, 3), activation='relu'))\n",
        "    model.add(MaxPooling2D(pool_size=(2, 2)))\n",
        "\n",
        "    # Convolutional Layer 3\n",
        "    model.add(Conv2D(128, (3, 3), activation='relu'))\n",
        "    model.add(MaxPooling2D(pool_size=(2, 2)))\n",
        "\n",
        "    # Flatten and Fully Connected Layers\n",
        "    model.add(Flatten())\n",
        "    model.add(Dense(128, activation='relu'))\n",
        "    model.add(Dropout(0.5))\n",
        "    model.add(Dense(num_classes, activation='softmax'))\n",
        "\n",
        "    return model\n",
        "\n",
        "input_shape = (224, 224, 3)\n",
        "num_classes = 3  # Changed from 8 to 3 to match tomato dataset\n",
        "\n",
        "model = build_cnn_model(input_shape, num_classes)\n",
        "\n",
        "# compiling the model\n",
        "model.compile(optimizer='adam',\n",
        "              loss='categorical_crossentropy',\n",
        "              metrics=['accuracy'])\n",
        "\n",
        ""
      ],
      "metadata": {
        "colab": {
          "base_uri": "https://localhost:8080/"
        },
        "id": "QQVe1fhNMjOc",
        "outputId": "5f9c685b-2843-49c1-eb30-b2a1e82b2b3f"
      },
      "execution_count": 9,
      "outputs": [
        {
          "output_type": "stream",
          "name": "stderr",
          "text": [
            "/usr/local/lib/python3.10/dist-packages/keras/src/layers/convolutional/base_conv.py:107: UserWarning: Do not pass an `input_shape`/`input_dim` argument to a layer. When using Sequential models, prefer using an `Input(shape)` object as the first layer in the model instead.\n",
            "  super().__init__(activity_regularizer=activity_regularizer, **kwargs)\n"
          ]
        }
      ]
    },
    {
      "cell_type": "code",
      "source": [
        "# Fitting the model\n",
        "history = model.fit(train_maize,\n",
        "                    epochs=10,\n",
        "                    validation_data=train_maize\n",
        ")"
      ],
      "metadata": {
        "colab": {
          "base_uri": "https://localhost:8080/"
        },
        "id": "7rJlKZwfNNS7",
        "outputId": "d80e95e1-b56c-4c26-c000-5adbea83c2aa"
      },
      "execution_count": null,
      "outputs": [
        {
          "metadata": {
            "tags": null
          },
          "name": "stdout",
          "output_type": "stream",
          "text": [
            "Epoch 1/10\n"
          ]
        },
        {
          "metadata": {
            "tags": null
          },
          "name": "stderr",
          "output_type": "stream",
          "text": [
            "/usr/local/lib/python3.10/dist-packages/keras/src/trainers/data_adapters/py_dataset_adapter.py:122: UserWarning: Your `PyDataset` class should call `super().__init__(**kwargs)` in its constructor. `**kwargs` can include `workers`, `use_multiprocessing`, `max_queue_size`. Do not pass these arguments to `fit()`, as they will be ignored.\n",
            "  self._warn_if_super_not_called()\n"
          ]
        },
        {
          "output_type": "stream",
          "name": "stdout",
          "text": [
            "\u001b[1m138/138\u001b[0m \u001b[32m━━━━━━━━━━━━━━━━━━━━\u001b[0m\u001b[37m\u001b[0m \u001b[1m1134s\u001b[0m 8s/step - accuracy: 0.7332 - loss: 0.9082 - val_accuracy: 0.8924 - val_loss: 0.2816\n",
            "Epoch 2/10\n",
            "\u001b[1m138/138\u001b[0m \u001b[32m━━━━━━━━━━━━━━━━━━━━\u001b[0m\u001b[37m\u001b[0m \u001b[1m692s\u001b[0m 5s/step - accuracy: 0.9177 - loss: 0.2308 - val_accuracy: 0.9661 - val_loss: 0.1095\n",
            "Epoch 3/10\n",
            "\u001b[1m133/138\u001b[0m \u001b[32m━━━━━━━━━━━━━━━━━━━\u001b[0m\u001b[37m━\u001b[0m \u001b[1m18s\u001b[0m 4s/step - accuracy: 0.9547 - loss: 0.1293"
          ]
        }
      ]
    },
    {
      "cell_type": "code",
      "execution_count": null,
      "metadata": {
        "id": "4ad-E9g-Yzgi"
      },
      "outputs": [],
      "source": [
        "def build_cnn_model(input_shape, num_classes):\n",
        "  model = Sequential(\n",
        "\n",
        "  )"
      ]
    }
  ],
  "metadata": {
    "colab": {
      "provenance": [],
      "authorship_tag": "ABX9TyMRZX+Vhmpqlcjuvs+3WSCZ",
      "include_colab_link": true
    },
    "kernelspec": {
      "display_name": "Python 3",
      "name": "python3"
    },
    "language_info": {
      "name": "python"
    }
  },
  "nbformat": 4,
  "nbformat_minor": 0
}