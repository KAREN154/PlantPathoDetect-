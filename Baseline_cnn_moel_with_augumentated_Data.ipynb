{
  "nbformat": 4,
  "nbformat_minor": 0,
  "metadata": {
    "colab": {
      "provenance": [],
      "authorship_tag": "ABX9TyOBUmltnZZgYTMuPHec0hwS",
      "include_colab_link": true
    },
    "kernelspec": {
      "name": "python3",
      "display_name": "Python 3"
    },
    "language_info": {
      "name": "python"
    }
  },
  "cells": [
    {
      "cell_type": "markdown",
      "metadata": {
        "id": "view-in-github",
        "colab_type": "text"
      },
      "source": [
        "<a href=\"https://colab.research.google.com/github/KAREN154/PlantPathoDetect-/blob/main/Baseline_cnn_moel_with_augumentated_Data.ipynb\" target=\"_parent\"><img src=\"https://colab.research.google.com/assets/colab-badge.svg\" alt=\"Open In Colab\"/></a>"
      ]
    },
    {
      "cell_type": "code",
      "execution_count": 1,
      "metadata": {
        "id": "fj-bc8uPw7PK"
      },
      "outputs": [],
      "source": [
        "# import Libaries\n",
        "import numpy as np\n",
        "import pickle\n",
        "import matplotlib.pyplot as ply\n",
        "from tensorflow.keras.preprocessing.image import ImageDataGenerator\n",
        "from tensorflow.keras.models import Sequential\n",
        "from tensorflow.keras.layers import Conv2D, MaxPooling2D, Flatten, Dense, Dropout\n",
        "import pandas as pd\n",
        "import tensorflow as tf"
      ]
    },
    {
      "cell_type": "code",
      "source": [
        "from google.colab import drive\n",
        "drive.mount('/content/drive')"
      ],
      "metadata": {
        "colab": {
          "base_uri": "https://localhost:8080/"
        },
        "id": "grTlopjezsTh",
        "outputId": "db038ca2-3cd7-4a6e-d5c1-e68468450f51"
      },
      "execution_count": 2,
      "outputs": [
        {
          "output_type": "stream",
          "name": "stdout",
          "text": [
            "Mounted at /content/drive\n"
          ]
        }
      ]
    },
    {
      "cell_type": "code",
      "source": [
        "\n",
        "#Val data generator\n",
        "val_datagen = ImageDataGenerator(rescale = 1./255)\n",
        "val_potato = val_datagen.flow_from_directory(\n",
        "    '/content/drive/MyDrive/PlantPathoDetect-/data/Potato/Val',\n",
        "    target_size=(224, 224),\n",
        "    batch_size=32,\n",
        "    class_mode='categorical'\n",
        ")\n",
        "#Test Data Generator\n",
        "test_datagen = ImageDataGenerator(rescale=1./255)\n",
        "test_potato = test_datagen.flow_from_directory(\n",
        "    '/content/drive/MyDrive/PlantPathoDetect-/data/Potato/Test',\n",
        "    target_size=(224, 224),\n",
        "    batch_size=32,\n",
        "    class_mode='categorical'\n",
        ")\n",
        "\n",
        "#Test Data Generator\n",
        "train_datagen = ImageDataGenerator(rescale=1./255)\n",
        "train_augmented_potato = train_datagen.flow_from_directory(\n",
        "    '/content/drive/MyDrive/PlantPathoDetect-/data/Potato/Train_augmented',\n",
        "    target_size=(224, 224),\n",
        "    batch_size=32,\n",
        "    class_mode='categorical'\n",
        ")\n"
      ],
      "metadata": {
        "colab": {
          "base_uri": "https://localhost:8080/"
        },
        "id": "p5IfeZvT0Wt6",
        "outputId": "b7931e14-f130-4464-bb86-d7540bfe6969"
      },
      "execution_count": 3,
      "outputs": [
        {
          "output_type": "stream",
          "name": "stdout",
          "text": [
            "Found 1282 images belonging to 3 classes.\n",
            "Found 144 images belonging to 3 classes.\n",
            "Found 17106 images belonging to 3 classes.\n"
          ]
        }
      ]
    },
    {
      "cell_type": "code",
      "source": [
        "def build_cnn_model(input_shape, num_classes):\n",
        "    model = Sequential()\n",
        "\n",
        "    # Convolutional Layer 1\n",
        "    model.add(Conv2D(32, (3, 3), activation='relu', input_shape=input_shape))\n",
        "    model.add(MaxPooling2D(pool_size=(2, 2)))\n",
        "\n",
        "    # Convolutional Layer 2\n",
        "    model.add(Conv2D(64, (3, 3), activation='relu'))\n",
        "    model.add(MaxPooling2D(pool_size=(2, 2)))\n",
        "\n",
        "    # Convolutional Layer 3\n",
        "    model.add(Conv2D(128, (3, 3), activation='relu'))\n",
        "    model.add(MaxPooling2D(pool_size=(2, 2)))\n",
        "\n",
        "    # Flatten and Fully Connected Layers\n",
        "    model.add(Flatten())\n",
        "    model.add(Dense(128, activation='relu'))\n",
        "    model.add(Dropout(0.5))\n",
        "    model.add(Dense(num_classes, activation='softmax'))\n",
        "\n",
        "    return model\n",
        "\n",
        "input_shape = (224, 224, 3)\n",
        "num_classes = 3  # Changed from 8 to 3 to match tomato dataset\n",
        "\n",
        "model = build_cnn_model(input_shape, num_classes)\n",
        "\n",
        "# compiling the model\n",
        "model.compile(optimizer='adam',\n",
        "              loss='categorical_crossentropy',\n",
        "              metrics=['accuracy'])\n",
        "\n",
        "# # Fitting the model\n",
        "# history = model.fit(train_tomato, # Changed from train_potato to train_tomato\n",
        "#                     epochs=10,\n",
        "#                     validation_data=val_tomato # changed from train_potato to val_tomato\n",
        "# )"
      ],
      "metadata": {
        "colab": {
          "base_uri": "https://localhost:8080/"
        },
        "id": "5TsXUEIy0A2b",
        "outputId": "b3802e99-2c79-4095-8f33-87aa4c1cf4e0"
      },
      "execution_count": null,
      "outputs": [
        {
          "output_type": "stream",
          "name": "stderr",
          "text": [
            "/usr/local/lib/python3.10/dist-packages/keras/src/layers/convolutional/base_conv.py:107: UserWarning: Do not pass an `input_shape`/`input_dim` argument to a layer. When using Sequential models, prefer using an `Input(shape)` object as the first layer in the model instead.\n",
            "  super().__init__(activity_regularizer=activity_regularizer, **kwargs)\n"
          ]
        }
      ]
    },
    {
      "cell_type": "code",
      "source": [
        "# Fitting the model\n",
        "history = model.fit(train_augmented_potato,\n",
        "                    epochs=10,\n",
        "                    validation_data=val_potato\n",
        ")"
      ],
      "metadata": {
        "colab": {
          "base_uri": "https://localhost:8080/"
        },
        "id": "rAdHZtRv1ZSQ",
        "outputId": "95449940-e70f-4998-c57f-76a48a5b744a"
      },
      "execution_count": null,
      "outputs": [
        {
          "metadata": {
            "tags": null
          },
          "name": "stdout",
          "output_type": "stream",
          "text": [
            "Epoch 1/10\n"
          ]
        },
        {
          "metadata": {
            "tags": null
          },
          "name": "stderr",
          "output_type": "stream",
          "text": [
            "/usr/local/lib/python3.10/dist-packages/keras/src/trainers/data_adapters/py_dataset_adapter.py:122: UserWarning: Your `PyDataset` class should call `super().__init__(**kwargs)` in its constructor. `**kwargs` can include `workers`, `use_multiprocessing`, `max_queue_size`. Do not pass these arguments to `fit()`, as they will be ignored.\n",
            "  self._warn_if_super_not_called()\n"
          ]
        },
        {
          "output_type": "stream",
          "name": "stdout",
          "text": [
            "\u001b[1m535/535\u001b[0m \u001b[32m━━━━━━━━━━━━━━━━━━━━\u001b[0m\u001b[37m\u001b[0m \u001b[1m6904s\u001b[0m 13s/step - accuracy: 0.6094 - loss: 0.8621 - val_accuracy: 0.9165 - val_loss: 0.2276\n",
            "Epoch 2/10\n",
            "\u001b[1m535/535\u001b[0m \u001b[32m━━━━━━━━━━━━━━━━━━━━\u001b[0m\u001b[37m\u001b[0m \u001b[1m1967s\u001b[0m 4s/step - accuracy: 0.8540 - loss: 0.3828 - val_accuracy: 0.9649 - val_loss: 0.1012\n",
            "Epoch 3/10\n",
            "\u001b[1m535/535\u001b[0m \u001b[32m━━━━━━━━━━━━━━━━━━━━\u001b[0m\u001b[37m\u001b[0m \u001b[1m1979s\u001b[0m 4s/step - accuracy: 0.9145 - loss: 0.2419 - val_accuracy: 0.9821 - val_loss: 0.0574\n",
            "Epoch 4/10\n",
            "\u001b[1m535/535\u001b[0m \u001b[32m━━━━━━━━━━━━━━━━━━━━\u001b[0m\u001b[37m\u001b[0m \u001b[1m1946s\u001b[0m 4s/step - accuracy: 0.9400 - loss: 0.1738 - val_accuracy: 0.9860 - val_loss: 0.0456\n",
            "Epoch 5/10\n",
            "\u001b[1m535/535\u001b[0m \u001b[32m━━━━━━━━━━━━━━━━━━━━\u001b[0m\u001b[37m\u001b[0m \u001b[1m2033s\u001b[0m 4s/step - accuracy: 0.9518 - loss: 0.1413 - val_accuracy: 0.9938 - val_loss: 0.0244\n",
            "Epoch 6/10\n",
            "\u001b[1m535/535\u001b[0m \u001b[32m━━━━━━━━━━━━━━━━━━━━\u001b[0m\u001b[37m\u001b[0m \u001b[1m1984s\u001b[0m 4s/step - accuracy: 0.9561 - loss: 0.1238 - val_accuracy: 0.9914 - val_loss: 0.0339\n",
            "Epoch 7/10\n",
            "\u001b[1m535/535\u001b[0m \u001b[32m━━━━━━━━━━━━━━━━━━━━\u001b[0m\u001b[37m\u001b[0m \u001b[1m2004s\u001b[0m 4s/step - accuracy: 0.9707 - loss: 0.0877 - val_accuracy: 0.9930 - val_loss: 0.0245\n",
            "Epoch 8/10\n",
            "\u001b[1m535/535\u001b[0m \u001b[32m━━━━━━━━━━━━━━━━━━━━\u001b[0m\u001b[37m\u001b[0m \u001b[1m2039s\u001b[0m 4s/step - accuracy: 0.9714 - loss: 0.0870 - val_accuracy: 0.9766 - val_loss: 0.0664\n",
            "Epoch 9/10\n",
            "\u001b[1m535/535\u001b[0m \u001b[32m━━━━━━━━━━━━━━━━━━━━\u001b[0m\u001b[37m\u001b[0m \u001b[1m1956s\u001b[0m 4s/step - accuracy: 0.9754 - loss: 0.0742 - val_accuracy: 0.9906 - val_loss: 0.0253\n",
            "Epoch 10/10\n",
            "\u001b[1m535/535\u001b[0m \u001b[32m━━━━━━━━━━━━━━━━━━━━\u001b[0m\u001b[37m\u001b[0m \u001b[1m2041s\u001b[0m 4s/step - accuracy: 0.9831 - loss: 0.0488 - val_accuracy: 0.9914 - val_loss: 0.0242\n"
          ]
        }
      ]
    },
    {
      "cell_type": "code",
      "source": [
        "# Evaluating the Test data\n",
        "results = model.evaluate(test_potato, verbose=0)\n",
        "\n",
        "print(\"   Test Loss: {:.5f}\".format(results[0]))\n",
        "print(\"Test Accuracy: {:.2f}%\".format(results[1] * 100))"
      ],
      "metadata": {
        "colab": {
          "base_uri": "https://localhost:8080/",
          "height": 220
        },
        "id": "-ta9dhBzRIl4",
        "outputId": "6eabc4e2-6252-4501-b15b-64ce9b4d740f"
      },
      "execution_count": null,
      "outputs": [
        {
          "output_type": "error",
          "ename": "NameError",
          "evalue": "name 'model' is not defined",
          "traceback": [
            "\u001b[0;31m---------------------------------------------------------------------------\u001b[0m",
            "\u001b[0;31mNameError\u001b[0m                                 Traceback (most recent call last)",
            "\u001b[0;32m<ipython-input-2-91aeb2f892a6>\u001b[0m in \u001b[0;36m<cell line: 2>\u001b[0;34m()\u001b[0m\n\u001b[1;32m      1\u001b[0m \u001b[0;31m# Evaluating the Test data\u001b[0m\u001b[0;34m\u001b[0m\u001b[0;34m\u001b[0m\u001b[0m\n\u001b[0;32m----> 2\u001b[0;31m \u001b[0mresults\u001b[0m \u001b[0;34m=\u001b[0m \u001b[0mmodel\u001b[0m\u001b[0;34m.\u001b[0m\u001b[0mevaluate\u001b[0m\u001b[0;34m(\u001b[0m\u001b[0mtest_potato\u001b[0m\u001b[0;34m,\u001b[0m \u001b[0mverbose\u001b[0m\u001b[0;34m=\u001b[0m\u001b[0;36m0\u001b[0m\u001b[0;34m)\u001b[0m\u001b[0;34m\u001b[0m\u001b[0;34m\u001b[0m\u001b[0m\n\u001b[0m\u001b[1;32m      3\u001b[0m \u001b[0;34m\u001b[0m\u001b[0m\n\u001b[1;32m      4\u001b[0m \u001b[0mprint\u001b[0m\u001b[0;34m(\u001b[0m\u001b[0;34m\"   Test Loss: {:.5f}\"\u001b[0m\u001b[0;34m.\u001b[0m\u001b[0mformat\u001b[0m\u001b[0;34m(\u001b[0m\u001b[0mresults\u001b[0m\u001b[0;34m[\u001b[0m\u001b[0;36m0\u001b[0m\u001b[0;34m]\u001b[0m\u001b[0;34m)\u001b[0m\u001b[0;34m)\u001b[0m\u001b[0;34m\u001b[0m\u001b[0;34m\u001b[0m\u001b[0m\n\u001b[1;32m      5\u001b[0m \u001b[0mprint\u001b[0m\u001b[0;34m(\u001b[0m\u001b[0;34m\"Test Accuracy: {:.2f}%\"\u001b[0m\u001b[0;34m.\u001b[0m\u001b[0mformat\u001b[0m\u001b[0;34m(\u001b[0m\u001b[0mresults\u001b[0m\u001b[0;34m[\u001b[0m\u001b[0;36m1\u001b[0m\u001b[0;34m]\u001b[0m \u001b[0;34m*\u001b[0m \u001b[0;36m100\u001b[0m\u001b[0;34m)\u001b[0m\u001b[0;34m)\u001b[0m\u001b[0;34m\u001b[0m\u001b[0;34m\u001b[0m\u001b[0m\n",
            "\u001b[0;31mNameError\u001b[0m: name 'model' is not defined"
          ]
        }
      ]
    },
    {
      "cell_type": "code",
      "source": [
        "# Plotting for accuracy in the model\n",
        "import matplotlib.pyplot as plt\n",
        "pd.DataFrame(history.history)[['accuracy','val_accuracy']].plot()\n",
        "plt.title(\"Accuracy\")\n",
        "plt.show()"
      ],
      "metadata": {
        "id": "RX5K3Xy4RJ3R"
      },
      "execution_count": null,
      "outputs": []
    },
    {
      "cell_type": "code",
      "source": [
        "\n",
        "#Val data generator\n",
        "val_datagen = ImageDataGenerator(rescale = 1./255)\n",
        "val_tomato = val_datagen.flow_from_directory(\n",
        "    '/content/drive/MyDrive/PlantPathoDetect-/data/Tomato/Val',\n",
        "    target_size=(224, 224),\n",
        "    batch_size=32,\n",
        "    class_mode='categorical'\n",
        ")\n",
        "#Test Data Generator\n",
        "test_datagen = ImageDataGenerator(rescale=1./255)\n",
        "test_tomato = test_datagen.flow_from_directory(\n",
        "    '/content/drive/MyDrive/PlantPathoDetect-/data/Tomato/Test',\n",
        "    target_size=(224, 224),\n",
        "    batch_size=32,\n",
        "    class_mode='categorical'\n",
        ")\n",
        "\n",
        "#Test Data Generator\n",
        "train_datagen = ImageDataGenerator(rescale=1./255)\n",
        "train_augmented_tomato = train_datagen.flow_from_directory(\n",
        "    '/content/drive/MyDrive/PlantPathoDetect-/data/Tomato/Train_augmented',\n",
        "    target_size=(224, 224),\n",
        "    batch_size=32,\n",
        "    class_mode='categorical'\n",
        ")\n"
      ],
      "metadata": {
        "colab": {
          "base_uri": "https://localhost:8080/"
        },
        "id": "CnTSUiAiv8av",
        "outputId": "de26406e-11da-4138-c65e-0811a9bf8995"
      },
      "execution_count": 4,
      "outputs": [
        {
          "output_type": "stream",
          "name": "stdout",
          "text": [
            "Found 2495 images belonging to 6 classes.\n",
            "Found 280 images belonging to 6 classes.\n",
            "Found 33315 images belonging to 6 classes.\n"
          ]
        }
      ]
    },
    {
      "cell_type": "code",
      "source": [
        "def build_cnn_model(input_shape, num_classes):\n",
        "    model = Sequential()\n",
        "\n",
        "    # Convolutional Layer 1\n",
        "    model.add(Conv2D(32, (3, 3), activation='relu', input_shape=input_shape))\n",
        "    model.add(MaxPooling2D(pool_size=(2, 2)))\n",
        "\n",
        "    # Convolutional Layer 2\n",
        "    model.add(Conv2D(64, (3, 3), activation='relu'))\n",
        "    model.add(MaxPooling2D(pool_size=(2, 2)))\n",
        "\n",
        "    # Convolutional Layer 3\n",
        "    model.add(Conv2D(128, (3, 3), activation='relu'))\n",
        "    model.add(MaxPooling2D(pool_size=(2, 2)))\n",
        "\n",
        "    # Flatten and Fully Connected Layers\n",
        "    model.add(Flatten())\n",
        "    model.add(Dense(128, activation='relu'))\n",
        "    model.add(Dropout(0.5))\n",
        "    model.add(Dense(num_classes, activation='softmax'))\n",
        "\n",
        "    return model\n",
        "\n",
        "input_shape = (224, 224, 3)\n",
        "num_classes = 6  # Changed from 3 to 6 to match the actual number of classes in train_tomato\n",
        "\n",
        "model = build_cnn_model(input_shape, num_classes)\n",
        "\n",
        "# compiling the model\n",
        "model.compile(optimizer='adam',\n",
        "              loss='categorical_crossentropy',\n",
        "              metrics=['accuracy'])"
      ],
      "metadata": {
        "colab": {
          "base_uri": "https://localhost:8080/"
        },
        "id": "rMgn60Lhx4IV",
        "outputId": "7e8fc47f-31ca-44cd-fd7e-b918c536c37f"
      },
      "execution_count": 5,
      "outputs": [
        {
          "output_type": "stream",
          "name": "stderr",
          "text": [
            "/usr/local/lib/python3.10/dist-packages/keras/src/layers/convolutional/base_conv.py:107: UserWarning: Do not pass an `input_shape`/`input_dim` argument to a layer. When using Sequential models, prefer using an `Input(shape)` object as the first layer in the model instead.\n",
            "  super().__init__(activity_regularizer=activity_regularizer, **kwargs)\n"
          ]
        }
      ]
    },
    {
      "cell_type": "code",
      "source": [
        "# Calculate steps per epoch\n",
        "steps_per_epoch = len(train_augmented_tomato) // train_augmented_tomato.batch_size\n",
        "validation_steps = len(val_tomato) // val_tomato.batch_size\n",
        "\n",
        "# Fitting the model with reduced iterations\n",
        "history = model.fit(\n",
        "    train_augmented_tomato,\n",
        "    steps_per_epoch=steps_per_epoch,\n",
        "    epochs=20,\n",
        "    validation_data=val_tomato,\n",
        "    validation_steps=validation_steps\n",
        ")\n"
      ],
      "metadata": {
        "colab": {
          "base_uri": "https://localhost:8080/"
        },
        "id": "LRDEHg17__cR",
        "outputId": "718e8e0a-d9ce-4492-a95a-37764da72af7"
      },
      "execution_count": 7,
      "outputs": [
        {
          "output_type": "stream",
          "name": "stdout",
          "text": [
            "Epoch 1/20\n",
            "\u001b[1m32/32\u001b[0m \u001b[32m━━━━━━━━━━━━━━━━━━━━\u001b[0m\u001b[37m\u001b[0m \u001b[1m369s\u001b[0m 9s/step - accuracy: 0.6162 - loss: 1.0495 - val_accuracy: 0.7344 - val_loss: 0.7436\n",
            "Epoch 2/20\n",
            "\u001b[1m32/32\u001b[0m \u001b[32m━━━━━━━━━━━━━━━━━━━━\u001b[0m\u001b[37m\u001b[0m \u001b[1m271s\u001b[0m 9s/step - accuracy: 0.6257 - loss: 1.0074 - val_accuracy: 0.6719 - val_loss: 0.7626\n",
            "Epoch 3/20\n",
            "\u001b[1m32/32\u001b[0m \u001b[32m━━━━━━━━━━━━━━━━━━━━\u001b[0m\u001b[37m\u001b[0m \u001b[1m248s\u001b[0m 8s/step - accuracy: 0.5926 - loss: 1.1048 - val_accuracy: 0.7031 - val_loss: 0.8178\n",
            "Epoch 4/20\n",
            "\u001b[1m32/32\u001b[0m \u001b[32m━━━━━━━━━━━━━━━━━━━━\u001b[0m\u001b[37m\u001b[0m \u001b[1m258s\u001b[0m 8s/step - accuracy: 0.5916 - loss: 1.0705 - val_accuracy: 0.8125 - val_loss: 0.6006\n",
            "Epoch 5/20\n",
            "\u001b[1m32/32\u001b[0m \u001b[32m━━━━━━━━━━━━━━━━━━━━\u001b[0m\u001b[37m\u001b[0m \u001b[1m250s\u001b[0m 8s/step - accuracy: 0.6157 - loss: 0.9942 - val_accuracy: 0.7812 - val_loss: 0.5822\n",
            "Epoch 6/20\n",
            "\u001b[1m32/32\u001b[0m \u001b[32m━━━━━━━━━━━━━━━━━━━━\u001b[0m\u001b[37m\u001b[0m \u001b[1m235s\u001b[0m 7s/step - accuracy: 0.6651 - loss: 0.9475 - val_accuracy: 0.7656 - val_loss: 0.6407\n",
            "Epoch 7/20\n",
            "\u001b[1m32/32\u001b[0m \u001b[32m━━━━━━━━━━━━━━━━━━━━\u001b[0m\u001b[37m\u001b[0m \u001b[1m244s\u001b[0m 8s/step - accuracy: 0.6389 - loss: 0.9474 - val_accuracy: 0.7500 - val_loss: 0.7191\n",
            "Epoch 8/20\n",
            "\u001b[1m32/32\u001b[0m \u001b[32m━━━━━━━━━━━━━━━━━━━━\u001b[0m\u001b[37m\u001b[0m \u001b[1m237s\u001b[0m 7s/step - accuracy: 0.6316 - loss: 0.9277 - val_accuracy: 0.7656 - val_loss: 0.5940\n",
            "Epoch 9/20\n",
            "\u001b[1m32/32\u001b[0m \u001b[32m━━━━━━━━━━━━━━━━━━━━\u001b[0m\u001b[37m\u001b[0m \u001b[1m216s\u001b[0m 7s/step - accuracy: 0.6260 - loss: 0.9880 - val_accuracy: 0.8594 - val_loss: 0.4291\n",
            "Epoch 10/20\n",
            "\u001b[1m32/32\u001b[0m \u001b[32m━━━━━━━━━━━━━━━━━━━━\u001b[0m\u001b[37m\u001b[0m \u001b[1m214s\u001b[0m 7s/step - accuracy: 0.6633 - loss: 0.9154 - val_accuracy: 0.8125 - val_loss: 0.5652\n",
            "Epoch 11/20\n",
            "\u001b[1m32/32\u001b[0m \u001b[32m━━━━━━━━━━━━━━━━━━━━\u001b[0m\u001b[37m\u001b[0m \u001b[1m202s\u001b[0m 6s/step - accuracy: 0.6478 - loss: 1.0140 - val_accuracy: 0.6875 - val_loss: 0.7727\n",
            "Epoch 12/20\n",
            "\u001b[1m32/32\u001b[0m \u001b[32m━━━━━━━━━━━━━━━━━━━━\u001b[0m\u001b[37m\u001b[0m \u001b[1m202s\u001b[0m 6s/step - accuracy: 0.6785 - loss: 0.8673 - val_accuracy: 0.7656 - val_loss: 0.6091\n",
            "Epoch 13/20\n",
            "\u001b[1m32/32\u001b[0m \u001b[32m━━━━━━━━━━━━━━━━━━━━\u001b[0m\u001b[37m\u001b[0m \u001b[1m199s\u001b[0m 6s/step - accuracy: 0.6762 - loss: 0.8633 - val_accuracy: 0.7500 - val_loss: 0.7186\n",
            "Epoch 14/20\n",
            "\u001b[1m32/32\u001b[0m \u001b[32m━━━━━━━━━━━━━━━━━━━━\u001b[0m\u001b[37m\u001b[0m \u001b[1m190s\u001b[0m 6s/step - accuracy: 0.6731 - loss: 0.9345 - val_accuracy: 0.8125 - val_loss: 0.5837\n",
            "Epoch 15/20\n",
            "\u001b[1m32/32\u001b[0m \u001b[32m━━━━━━━━━━━━━━━━━━━━\u001b[0m\u001b[37m\u001b[0m \u001b[1m185s\u001b[0m 6s/step - accuracy: 0.6597 - loss: 0.8556 - val_accuracy: 0.7969 - val_loss: 0.5158\n",
            "Epoch 16/20\n",
            "\u001b[1m32/32\u001b[0m \u001b[32m━━━━━━━━━━━━━━━━━━━━\u001b[0m\u001b[37m\u001b[0m \u001b[1m178s\u001b[0m 6s/step - accuracy: 0.7011 - loss: 0.7940 - val_accuracy: 0.8594 - val_loss: 0.3862\n",
            "Epoch 17/20\n",
            "\u001b[1m32/32\u001b[0m \u001b[32m━━━━━━━━━━━━━━━━━━━━\u001b[0m\u001b[37m\u001b[0m \u001b[1m169s\u001b[0m 5s/step - accuracy: 0.6806 - loss: 0.7989 - val_accuracy: 0.7812 - val_loss: 0.5451\n",
            "Epoch 18/20\n",
            "\u001b[1m32/32\u001b[0m \u001b[32m━━━━━━━━━━━━━━━━━━━━\u001b[0m\u001b[37m\u001b[0m \u001b[1m183s\u001b[0m 6s/step - accuracy: 0.6874 - loss: 0.8517 - val_accuracy: 0.7500 - val_loss: 0.5522\n",
            "Epoch 19/20\n",
            "\u001b[1m32/32\u001b[0m \u001b[32m━━━━━━━━━━━━━━━━━━━━\u001b[0m\u001b[37m\u001b[0m \u001b[1m176s\u001b[0m 6s/step - accuracy: 0.6649 - loss: 0.8713 - val_accuracy: 0.6562 - val_loss: 0.7705\n",
            "Epoch 20/20\n",
            "\u001b[1m32/32\u001b[0m \u001b[32m━━━━━━━━━━━━━━━━━━━━\u001b[0m\u001b[37m\u001b[0m \u001b[1m176s\u001b[0m 6s/step - accuracy: 0.6864 - loss: 0.8364 - val_accuracy: 0.7500 - val_loss: 0.6665\n"
          ]
        }
      ]
    },
    {
      "cell_type": "code",
      "source": [
        "# Evaluating the Test data\n",
        "results = model.evaluate(test_tomato, verbose=0)\n",
        "\n",
        "print(\"   Test Loss: {:.5f}\".format(results[0]))\n",
        "print(\"Test Accuracy: {:.2f}%\".format(results[1] * 100))"
      ],
      "metadata": {
        "colab": {
          "base_uri": "https://localhost:8080/"
        },
        "id": "RCYwkfUhnBlo",
        "outputId": "9574962b-dfbe-4d10-cb67-c54b7d2f3b39"
      },
      "execution_count": 8,
      "outputs": [
        {
          "output_type": "stream",
          "name": "stderr",
          "text": [
            "/usr/local/lib/python3.10/dist-packages/keras/src/trainers/data_adapters/py_dataset_adapter.py:122: UserWarning: Your `PyDataset` class should call `super().__init__(**kwargs)` in its constructor. `**kwargs` can include `workers`, `use_multiprocessing`, `max_queue_size`. Do not pass these arguments to `fit()`, as they will be ignored.\n",
            "  self._warn_if_super_not_called()\n"
          ]
        },
        {
          "output_type": "stream",
          "name": "stdout",
          "text": [
            "   Test Loss: 0.64458\n",
            "Test Accuracy: 73.93%\n"
          ]
        }
      ]
    },
    {
      "cell_type": "code",
      "source": [
        "# Plotting for accuracy in the model\n",
        "import matplotlib.pyplot as plt\n",
        "pd.DataFrame(history.history)[['accuracy','val_accuracy']].plot()\n",
        "plt.title(\"Accuracy\")\n",
        "plt.show()"
      ],
      "metadata": {
        "colab": {
          "base_uri": "https://localhost:8080/",
          "height": 452
        },
        "id": "5_OWbvbvoLhk",
        "outputId": "95d7e2f5-16d5-4dfd-c703-b6db2b967af1"
      },
      "execution_count": 9,
      "outputs": [
        {
          "output_type": "display_data",
          "data": {
            "text/plain": [
              "<Figure size 640x480 with 1 Axes>"
            ],
            "image/png": "[encoded data removed]"
          },
          "metadata": {}
        }
      ]
    }
  ]
}