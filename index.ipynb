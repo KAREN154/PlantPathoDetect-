{
  "cells": [
    {
      "cell_type": "markdown",
      "metadata": {
        "id": "view-in-github",
        "colab_type": "text"
      },
      "source": [
        "<a href=\"https://colab.research.google.com/github/KAREN154/PlantPathoDetect-/blob/main/index.ipynb\" target=\"_parent\"><img src=\"https://colab.research.google.com/assets/colab-badge.svg\" alt=\"Open In Colab\"/></a>"
      ]
    },
    {
      "cell_type": "markdown",
      "metadata": {
        "id": "kEziwMauhjRv"
      },
      "source": [
        "# PLANTPATHODETECT"
      ]
    },
    {
      "cell_type": "markdown",
      "metadata": {
        "id": "td5_XqQZhjSE"
      },
      "source": [
        "\n",
        "<img src =\"Images/main.jpeg\" width = \"1000\" height =\"300\">"
      ]
    },
    {
      "cell_type": "markdown",
      "metadata": {
        "id": "o9gdWGTXhjSH"
      },
      "source": [
        "<h1>1. Business Understanding</h3>"
      ]
    },
    {
      "cell_type": "markdown",
      "metadata": {
        "id": "EQsU_-wRhjSK"
      },
      "source": [
        "<h2>1.1 Business Overview</h2>"
      ]
    },
    {
      "cell_type": "markdown",
      "metadata": {
        "id": "hPDlGar4hjSN"
      },
      "source": [
        "Agriculture is crucial for food security and economic stability, yet essential crops like maize, potatoes, and tomatoes face rising threats from diseases that significantly reduce yields and impact farmers' livelihoods. In regions reliant on these crops, such challenges lead to economic strain, increased pesticide use, and food shortages, affecting entire communities. This project aims to address these issues by developing a machine learning-powered image classification system for early disease detection. By enabling farmers to upload crop images to a web-based platform for real-time analysis and treatment recommendations, the solution empowers them with vital insights, helping to protect yields and sustain food production."
      ]
    },
    {
      "cell_type": "markdown",
      "metadata": {
        "id": "_ihqdW-whjSQ"
      },
      "source": [
        "<h2>1.2 Problem Statement<h2>"
      ]
    },
    {
      "cell_type": "markdown",
      "metadata": {
        "id": "zLm2GygRhjST"
      },
      "source": [
        "Crop diseases significantly reduce yields and incomes for farmers, impacting food security and economic stability, especially in regions with limited resources. In Kenya, farmers often lack access to timely and accurate disease detection, relying on traditional methods that delay intervention and increase losses. This project addresses the need for a more efficient, accessible solution by developing a machine learning-based system for early disease detection in maize, potatoes, and tomatoes, providing farmers with quick, actionable insights to improve crop health and productivity."
      ]
    },
    {
      "cell_type": "markdown",
      "metadata": {
        "id": "_1nAXvishjSW"
      },
      "source": [
        "<h2>1.3 Proposed Solutions</h2>"
      ]
    },
    {
      "cell_type": "markdown",
      "metadata": {
        "id": "ZZoLoNbkhjSZ"
      },
      "source": [
        "1. Machine Learning-Based Image Classification: Developing a machine learning model, specifically a convolutional neural network (CNN), to classify images of maize, potatoes, and tomatoes for early disease detection. This model will be trained to recognize various crop diseases accurately.\n",
        "\n",
        "2. Web-Based Platform: Creating a user-friendly web application where farmers can upload images of their crops for real-time analysis. The platform will offer diagnosis results and treatment recommendations, making disease management accessible to farmers with limited resources.\n",
        "\n",
        "3. Data Collection and Preprocessing: Building a robust, diverse dataset of crop images to enhance model accuracy and ensure it can detect diseases across different crop species and environmental conditions.\n",
        "\n",
        "4. Agile Development and Feedback Loop: Employing an iterative, agile development approach to continuously refine the model and application based on user feedback and evolving needs.\n",
        "\n",
        "5. Integration with Local Agriculture Practices: Tailoring the solution to the specific agricultural challenges in Kenya, ensuring that the system aligns with local crop health practices and disease management strategies.\n",
        "\n",
        "6. Educational Resources and Support: Providing guidance on disease prevention and sustainable farming practices through the web application to further support farmers in maintaining crop health."
      ]
    },
    {
      "cell_type": "markdown",
      "metadata": {
        "id": "FZ4SCfBphjSb"
      },
      "source": [
        "## 1.4 Objectives"
      ]
    },
    {
      "cell_type": "markdown",
      "metadata": {
        "id": "8QzgkBOthjSd"
      },
      "source": [
        "### 1.4.1 General Objective"
      ]
    },
    {
      "cell_type": "markdown",
      "metadata": {
        "id": "dLhVV9t3hjSe"
      },
      "source": [
        "To develop a web-based application that facilitates early detection and prediction of crop diseases in maize, potatoes, and tomatoes using machine learning-based image classification."
      ]
    },
    {
      "cell_type": "markdown",
      "metadata": {
        "id": "J1WFoikghjSg"
      },
      "source": [
        "### 1.4.2 Specific Objectives"
      ]
    },
    {
      "cell_type": "markdown",
      "metadata": {
        "id": "MQPppog5hjSh"
      },
      "source": [
        "1. **Data Collection and Preprocessing**: To collect and preprocess a diverse dataset of images capturing common diseases affecting maize, potatoes, and tomatoes.\n",
        "2. **Model Development**: To design and train a convolutional neural network (CNN) for accurate image classification of crop diseases.\n",
        "3. **Application Deployment**: To implement the trained model within a user-friendly web application where farmers can upload images for disease diagnosis.\n",
        "4. **System Evaluation and Feedback**: To assess the model’s performance, gather user feedback, and iteratively refine the application for practical use by local farmers."
      ]
    },
    {
      "cell_type": "markdown",
      "metadata": {
        "id": "KgCMOMOIhjSj"
      },
      "source": [
        "<h2>1.5 Research Questions</h2>"
      ]
    },
    {
      "cell_type": "markdown",
      "metadata": {
        "id": "DnZtiFc0hjSl"
      },
      "source": [
        "\n",
        "1. What crop diseases can be effectively detected in maize, potatoes, and tomatoes using image classification?\n",
        "2. How accurate is the proposed machine learning model in identifying diseases in these crops?\n",
        "3. What features are necessary for a web-based application to aid farmers in disease diagnosis?\n",
        "4. How can the web application provide actionable recommendations based on detected diseases?"
      ]
    },
    {
      "cell_type": "markdown",
      "metadata": {
        "id": "VTw_KIA0hjSm"
      },
      "source": [
        "<h2>1.6 Justification</h2>"
      ]
    },
    {
      "cell_type": "markdown",
      "metadata": {
        "id": "P4VpktVThjSm"
      },
      "source": [
        "This research addresses the pressing issue of crop diseases, which impacts farmers’ livelihoods and food security. Providing an accessible tool for disease detection empowers farmers with knowledge, enabling timely action. The project contributes to agricultural technology and highlights machine learning's potential in enhancing agricultural practices."
      ]
    },
    {
      "cell_type": "markdown",
      "metadata": {
        "id": "5KiPoJuwhjSo"
      },
      "source": [
        "<h2>1.7 Proposed Research and System Methodologies</h2>"
      ]
    },
    {
      "cell_type": "markdown",
      "metadata": {
        "id": "fx1xq42lhjSp"
      },
      "source": [
        "\n",
        "The project will collect data from public agricultural databases and farmer collaborations, focusing on maize, potatoes, and tomatoes. A CNN will be used for its effectiveness in image classification, and an Agile development process will ensure iterative feedback from users. Key tools include Python for model development, Flask for the web application, and TensorFlow for deep learning."
      ]
    },
    {
      "cell_type": "markdown",
      "metadata": {
        "id": "Lznz674ZhjSq"
      },
      "source": [
        "<h2>1.8 Scope</h2>"
      ]
    },
    {
      "cell_type": "markdown",
      "metadata": {
        "id": "cflaZMPihjSr"
      },
      "source": [
        "\n",
        "The research focuses on common diseases affecting maize, potatoes, and tomatoes in Kenya, targeting smallholder farmers who may lack resources for effective disease management. Limitations may include data variability and disease manifestation differences across crop species. This study is confined to digital image analysis and does not include physical disease testing."
      ]
    },
    {
      "cell_type": "markdown",
      "metadata": {
        "id": "q8ETXSHYhjSs"
      },
      "source": [
        "<h2>1.9 StakeHolders</h2>"
      ]
    },
    {
      "cell_type": "markdown",
      "metadata": {
        "id": "xu7ixfS7hjSt"
      },
      "source": [
        "1. Farmers: Smallholder and commercial farmers, particularly in regions where crop diseases like those affecting maize, potatoes, and tomatoes are prevalent. They are the end-users who will directly benefit from the disease detection tool.\n",
        "\n",
        "2. Agricultural Extension Officers: Professionals who work closely with farmers, providing advice and support in crop management. They may use this tool to assist farmers in disease identification and treatment recommendations.\n",
        "\n",
        "3. Agricultural Research Institutions: Organizations focused on agricultural technology and innovation. They may be interested in the data, findings, and outcomes to support further research on crop diseases and digital agricultural solutions.\n",
        "\n",
        "4. Government and Policymakers: Officials responsible for food security and agricultural productivity initiatives. They might use insights from the project to shape policies and support digital innovations that aid farmers.\n",
        "\n",
        "5. Technology and Data Science Professionals: Individuals or teams involved in the development, maintenance, and improvement of the machine learning model and web application.\n",
        "\n",
        "6. Non-Governmental Organizations (NGOs): Organizations that work with smallholder farmers to improve food security and promote sustainable farming practices could also benefit from the tool by integrating it into their support programs."
      ]
    },
    {
      "cell_type": "markdown",
      "metadata": {
        "id": "l2WncevphjSu"
      },
      "source": [
        "<h1>Data Understanding</h2>"
      ]
    },
    {
      "cell_type": "markdown",
      "metadata": {
        "id": "wuUthX2GhjSu"
      },
      "source": [
        "The dataset used in this project is sourced from PlantVillage and comprises 70,000 high-quality images of both healthy and diseased plant leaves from nine distinct species. This dataset is meticulously organized into three splits—train, test, and validation—ensuring consistent categories across each split. It offers an excellent foundation for machine learning research and applications in plant disease detection and classification.\n",
        "\n",
        "Ideal for both agricultural experts and machine learning practitioners, this diverse dataset captures a broad range of plant species, disease types, and growth stages. By leveraging this dataset, the project aims to advance research in plant pathology and support farmers in enhancing crop health and productivity, ultimately contributing to more sustainable agricultural practices.\n",
        "\n",
        "Link to The Plant Village Website [Plant Village](https://plantvillage.psu.edu/)"
      ]
    },
    {
      "cell_type": "code",
      "source": [
        "# Load the drive helper and mount\n",
        "from google.colab import drive\n",
        "# This will prompt for authorization\n",
        "drive.mount('/content/drive')"
      ],
      "metadata": {
        "colab": {
          "base_uri": "https://localhost:8080/"
        },
        "id": "SI19yuGyh32S",
        "outputId": "cce5d5e0-e905-4687-c5c0-df34ebe8018e"
      },
      "execution_count": 1,
      "outputs": [
        {
          "output_type": "stream",
          "name": "stdout",
          "text": [
            "Mounted at /content/drive\n"
          ]
        }
      ]
    },
    {
      "cell_type": "code",
      "source": [
        "!ls '/content/drive/MyDrive/PlantPathoDetect-'"
      ],
      "metadata": {
        "colab": {
          "base_uri": "https://localhost:8080/"
        },
        "id": "pD308cZIiPMg",
        "outputId": "c6328422-ff59-476f-de2e-d679708f833f"
      },
      "execution_count": 2,
      "outputs": [
        {
          "output_type": "stream",
          "name": "stdout",
          "text": [
            "data\t\t       data-processing.py  LICENSE.unknown\t\t       README.md\n",
            "data-augementation.py  index.ipynb\t   PlantPathoDetectDocumentation.docx\n"
          ]
        }
      ]
    },
    {
      "cell_type": "code",
      "source": [
        "!ls '/content/drive/MyDrive/PlantPathoDetect-/data'"
      ],
      "metadata": {
        "colab": {
          "base_uri": "https://localhost:8080/"
        },
        "id": "ePKXjYwG4ccC",
        "outputId": "2a66daeb-6c97-45a6-dae9-7f58b2743b5a"
      },
      "execution_count": 4,
      "outputs": [
        {
          "output_type": "stream",
          "name": "stdout",
          "text": [
            "'Bell Pepper'  'Corn (Maize)'   Potato\t Tomato\n"
          ]
        }
      ]
    },
    {
      "cell_type": "code",
      "source": [
        "base_path = '/content/drive/MyDrive/PlantPathoDetect-'\n",
        "data_path = f\"{base_path}/data\"\n",
        "\n",
        "# List all subdirectories in 'data'\n",
        "import os\n",
        "\n",
        "print(\"Contents of the 'data' directory:\")\n",
        "if os.path.exists(data_path):\n",
        "    for subdir in os.listdir(data_path):\n",
        "        subdir_path = os.path.join(data_path, subdir)\n",
        "        if os.path.isdir(subdir_path):\n",
        "            print(f\"\\n{subdir}:\")\n",
        "            !ls \"{subdir_path}\"\n",
        "else:\n",
        "    print(f\"Directory does not exist: {data_path}\")\n"
      ],
      "metadata": {
        "colab": {
          "base_uri": "https://localhost:8080/"
        },
        "id": "c4gcGbKd5HcC",
        "outputId": "6a5d91ad-f86b-466e-bee0-91ce3d7003f6"
      },
      "execution_count": 5,
      "outputs": [
        {
          "output_type": "stream",
          "name": "stdout",
          "text": [
            "Contents of the 'data' directory:\n",
            "\n",
            "Potato:\n",
            "Test  Train  Val\n",
            "\n",
            "Tomato:\n",
            "Test  Train  Val\n",
            "\n",
            "Bell Pepper:\n",
            "Test  Train  Val\n",
            "\n",
            "Corn (Maize):\n",
            "Test  Train  Val\n"
          ]
        }
      ]
    },
    {
      "cell_type": "markdown",
      "metadata": {
        "id": "HkgSS1oDhjSv"
      },
      "source": [
        "***Import necessary libraries***"
      ]
    },
    {
      "cell_type": "code",
      "execution_count": 6,
      "metadata": {
        "id": "zCsyb6FChjSx"
      },
      "outputs": [],
      "source": [
        "import os\n",
        "import pandas as pd\n",
        "import numpy as np\n",
        "import matplotlib.pyplot as plt\n",
        "import seaborn as sns\n",
        "from tensorflow import keras\n",
        "from tensorflow.keras import layers\n",
        "# from tensorflow.keras.callbacks import ModelCheckpo\n",
        "import tensorflow as tf\n",
        "# from keras.models import sequential\n",
        "from tensorflow.keras import layers\n",
        "\n",
        "from tensorflow.keras.preprocessing.image import ImageDataGenerator\n",
        "\n"
      ]
    },
    {
      "cell_type": "markdown",
      "metadata": {
        "id": "qG1sYgr0hjS8"
      },
      "source": [
        "***Function to create a DataFrame***"
      ]
    },
    {
      "cell_type": "code",
      "source": [
        "import os\n",
        "\n",
        "base_path = '/content/drive/MyDrive/PlantPathoDetect-'\n",
        "tomato_path = f\"{base_path}/data/Tomato\"\n",
        "\n",
        "print(\"Contents of the 'Tomato' directory:\")\n",
        "if os.path.exists(tomato_path):\n",
        "    for item in os.listdir(tomato_path):\n",
        "        item_path = os.path.join(tomato_path, item)\n",
        "        if os.path.isdir(item_path):\n",
        "            print(f\"Directory: {item}\")\n",
        "        else:\n",
        "            print(f\"File: {item}\")\n",
        "else:\n",
        "    print(f\"The directory does not exist: {tomato_path}\")\n"
      ],
      "metadata": {
        "colab": {
          "base_uri": "https://localhost:8080/"
        },
        "id": "-kpNyBh666al",
        "outputId": "1b2397da-bdb6-4359-e891-25d48210ce45"
      },
      "execution_count": 8,
      "outputs": [
        {
          "output_type": "stream",
          "name": "stdout",
          "text": [
            "Contents of the 'Tomato' directory:\n",
            "Directory: Train\n",
            "Directory: Val\n",
            "Directory: Test\n"
          ]
        }
      ]
    },
    {
      "cell_type": "code",
      "execution_count": 11,
      "metadata": {
        "id": "oTp46m6UhjTJ",
        "colab": {
          "base_uri": "https://localhost:8080/"
        },
        "outputId": "a6737105-2f32-4bc5-96c1-582de48f768e"
      },
      "outputs": [
        {
          "output_type": "stream",
          "name": "stdout",
          "text": [
            "Images array shape: (11105, 128, 128, 3), Labels array shape: (11105,)\n"
          ]
        }
      ],
      "source": [
        "import os\n",
        "import numpy as np\n",
        "from PIL import Image\n",
        "\n",
        "# Path to the train set (adjust if necessary)\n",
        "train_tomato = '/content/drive/MyDrive/PlantPathoDetect-/data/Tomato/Train'\n",
        "\n",
        "def img_to_array(dir_path):\n",
        "    images = []\n",
        "    labels = []\n",
        "\n",
        "    # Iterate through class folders in the training directory\n",
        "    for folderName in os.listdir(dir_path):\n",
        "        folder_dir = os.path.join(dir_path, folderName)\n",
        "        if os.path.isdir(folder_dir):\n",
        "            for fileName in os.listdir(folder_dir):\n",
        "                if fileName.endswith('.JPG') or fileName.endswith('.jpg'):  # Handle case sensitivity\n",
        "                    img_path = os.path.join(folder_dir, fileName)\n",
        "                    try:\n",
        "                        img = Image.open(img_path).convert('RGB')  # Ensure 3-channel RGB\n",
        "                        resized_img = img.resize((128, 128))  # Resize to 128x128\n",
        "                        img_arr = np.array(resized_img)\n",
        "                        images.append(img_arr)\n",
        "                        labels.append(folderName)\n",
        "                    except Exception as e:\n",
        "                        print(f\"Error processing image {img_path}: {e}\")\n",
        "\n",
        "    # Convert lists to numpy arrays\n",
        "    images = np.array(images)\n",
        "    labels = np.array(labels)\n",
        "    print(f\"Images array shape: {images.shape}, Labels array shape: {labels.shape}\")\n",
        "\n",
        "    return images, labels\n",
        "\n",
        "# Process the train set\n",
        "images, labels = img_to_array(train_tomato)\n"
      ]
    },
    {
      "cell_type": "markdown",
      "source": [
        "### Image processig and data Loading for the Tomato Data"
      ],
      "metadata": {
        "id": "-ytr2qKy_KUS"
      }
    },
    {
      "cell_type": "code",
      "source": [
        "# Paths to directories\n",
        "train_tomato = '/content/drive/MyDrive/PlantPathoDetect-/data/Tomato/Train'\n",
        "test_tomato = '/content/drive/MyDrive/PlantPathoDetect-/data/Tomato/Test'\n",
        "val_tomato = '/content/drive/MyDrive/PlantPathoDetect-/data/Tomato/Val'\n",
        "\n",
        "# Read and store images and labels for each dataset\n",
        "print(\"Processing training data...\")\n",
        "train_images, train_labels = img_to_array(train_tomato)\n",
        "\n",
        "print(\"\\nProcessing testing data...\")\n",
        "test_images, test_labels = img_to_array(test_tomato)\n",
        "\n",
        "print(\"\\nProcessing validation data...\")\n",
        "val_images, val_labels = img_to_array(val_tomato)"
      ],
      "metadata": {
        "colab": {
          "base_uri": "https://localhost:8080/"
        },
        "id": "MdivOOZy-kJt",
        "outputId": "26d731ad-dd50-4b54-fa6b-dd8fab11a2e3"
      },
      "execution_count": null,
      "outputs": [
        {
          "output_type": "stream",
          "name": "stdout",
          "text": [
            "Processing training data...\n"
          ]
        }
      ]
    },
    {
      "cell_type": "markdown",
      "metadata": {
        "id": "0Vqv35iBhjTO"
      },
      "source": [
        " Reading the images and converting them into np.arrays, the visualized images prove that it has been done properly"
      ]
    },
    {
      "cell_type": "code",
      "execution_count": null,
      "metadata": {
        "id": "JYJWfHMMhjTQ",
        "outputId": "b84379d2-b518-4f56-b772-c43a98d8aa1e"
      },
      "outputs": [
        {
          "name": "stdout",
          "output_type": "stream",
          "text": [
            "['Bacterial Spot' 'Bacterial Spot' 'Bacterial Spot' ...\n",
            " 'Yellow Leaf Curl Virus' 'Yellow Leaf Curl Virus'\n",
            " 'Yellow Leaf Curl Virus']\n"
          ]
        }
      ],
      "source": [
        "print(train_labels)"
      ]
    },
    {
      "cell_type": "code",
      "execution_count": null,
      "metadata": {
        "id": "0D-uBuBXhjTR",
        "outputId": "948feadc-b223-41ca-da28-f2b657633512"
      },
      "outputs": [
        {
          "data": {
            "text/plain": [
              "array(['Bacterial Spot', 'Bacterial Spot', 'Bacterial Spot', ...,\n",
              "       'Yellow Leaf Curl Virus', 'Yellow Leaf Curl Virus',\n",
              "       'Yellow Leaf Curl Virus'], dtype='<U22')"
            ]
          },
          "execution_count": 14,
          "metadata": {},
          "output_type": "execute_result"
        }
      ],
      "source": [
        "test_labels"
      ]
    },
    {
      "cell_type": "code",
      "execution_count": null,
      "metadata": {
        "id": "h-pBYYgphjTT"
      },
      "outputs": [],
      "source": [
        "# # Normalize pixel values to the range of 0-1\n",
        "# train_tomato = train_tomato.astype('float32') / 255.0\n",
        "# val_tomato = val_tomato.astype('float32') / 255.0\n",
        "# test_tomato= test_tomato.astype('float32') / 255.0"
      ]
    },
    {
      "cell_type": "code",
      "execution_count": null,
      "metadata": {
        "id": "afLwaCkEhjTi"
      },
      "outputs": [],
      "source": [
        "# # Save train_images\n",
        "# np.save('/train_images.npy', train_tomato)\n",
        "\n",
        "# # Save val_images\n",
        "# np.save('val_images.npy', val_tomato)\n",
        "\n",
        "# # Save test_images\n",
        "# np.save('test_images.npy', test_tomato)"
      ]
    },
    {
      "cell_type": "code",
      "execution_count": null,
      "metadata": {
        "id": "7aUCHAkJhjTj"
      },
      "outputs": [],
      "source": [
        "import numpy as np\n",
        "from keras.preprocessing.image import ImageDataGenerator\n",
        "\n",
        "# Assuming 'train_images' and 'train_labels' are your NumPy arrays\n",
        "\n",
        "# Create an instance of ImageDataGenerator\n",
        "datagen = ImageDataGenerator(\n",
        "    rotation_range=60,  # Rotation range in degrees\n",
        "    vertical_flip=True  # Enable vertical flipping\n",
        ")\n",
        "\n",
        "# Reshape train_images to 4D (required by ImageDataGenerator)\n",
        "train_images_4D = train_images.reshape(train_images.shape\n",
        "[0], train_images.shape[1], train_images.shape[2], 3)\n",
        "\n",
        "# Generate augmented images\n",
        "augmented_images = []\n",
        "augmented_labels = []\n",
        "for img, label in zip(train_images_4D, train_labels):\n",
        "    img_batch = np.expand_dims(img, axis=0)\n",
        "    aug_iter = datagen.flow(img_batch, batch_size=1)\n",
        "    for _ in range(4):  # Generate 4 augmented images for each original image\n",
        "        augmented_img = next(aug_iter)[0].astype(np.uint8)\n",
        "        augmented_images.append(augmented_img)\n",
        "        augmented_labels.append(label)\n",
        "\n",
        "# Convert augmented images and labels to NumPy arrays\n",
        "augmented_images = np.array(augmented_images)\n",
        "augmented_labels = np.array(augmented_labels)\n",
        "# Reshape augmented_images to 4D (original shape)\n",
        "augmented_images = augmented_images.reshape(\n",
        "    augmented_images.shape[0], train_images.shape[1], train_images.shape[2], 3\n",
        ")\n",
        "\n",
        "# Concatenate augmented and original images and labels\n",
        "final_train_images = np.concatenate((train_images, augmented_images), axis=0)\n",
        "final_train_labels = np.concatenate((train_labels, augmented_labels), axis=0)\n",
        "\n",
        "# Shuffle the data\n",
        "shuffle_indices = np.random.permutation(final_train_images.shape[0])\n",
        "final_train_images = final_train_images[shuffle_indices]\n",
        "final_train_labels = final_train_labels[shuffle_indices]"
      ]
    },
    {
      "cell_type": "markdown",
      "metadata": {
        "id": "bbHetoXvhjTm"
      },
      "source": [
        " preprocessing"
      ]
    },
    {
      "cell_type": "markdown",
      "metadata": {
        "id": "FbbIJzJThjTo"
      },
      "source": [
        "Handles all preprocessing steps\n",
        "Features:\n",
        "\n",
        "Label encoding and one-hot encoding\n",
        "Image normalization\n",
        "Detailed statistics and distribution reporting\n",
        "Organized class structure with helper methods\n",
        "Comprehensive documentation"
      ]
    },
    {
      "cell_type": "markdown",
      "metadata": {
        "id": "EnCKIu22hjTp"
      },
      "source": [
        "#### Data Augementation"
      ]
    },
    {
      "cell_type": "markdown",
      "metadata": {
        "id": "xO4b9fqHhjTq"
      },
      "source": [
        "Handles all data augmentation tasks\n",
        "Features:\n",
        "\n",
        "- Customizable augmentation parameters\n",
        "- Generator creation for training\n",
        "- Augmentation preview functionality\n",
        "- Detailed documentation\n",
        "- Visual inspection of augmentations"
      ]
    },
    {
      "cell_type": "code",
      "execution_count": null,
      "metadata": {
        "id": "GXLf6-5WhjTs"
      },
      "outputs": [],
      "source": [
        "# Initialize augmentor\n",
        "augmentor = DataAugmentor()\n",
        "\n",
        "# Create generator for training\n",
        "train_generator = augmentor.create_generator(\n",
        "    processed_images['train'],\n",
        "    processed_labels['train'],\n",
        "    batch_size=32\n",
        ")\n",
        "\n",
        "# Optionally, preview augmentations\n",
        "sample_image = processed_images['train'][0]\n",
        "augmentor.preview_augmentations(sample_image, num_augmentations=5)"
      ]
    },
    {
      "cell_type": "markdown",
      "metadata": {
        "id": "hctvBDqshjTu"
      },
      "source": [
        "# Set the paths to the train, test, and validation directories\n",
        "train_dir = '/kaggle/input/plant-village-dataset-updated/Tomato/Train'\n",
        "test_dir = '/kaggle/input/plant-village-dataset-updated/Tomato/Test'\n",
        "val_dir = '/kaggle/input/plant-village-dataset-updated/Tomato/Val'"
      ]
    }
  ],
  "metadata": {
    "kernelspec": {
      "display_name": "patho-p",
      "language": "python",
      "name": "python3"
    },
    "language_info": {
      "codemirror_mode": {
        "name": "ipython",
        "version": 3
      },
      "file_extension": ".py",
      "mimetype": "text/x-python",
      "name": "python",
      "nbconvert_exporter": "python",
      "pygments_lexer": "ipython3",
      "version": "3.12.6"
    },
    "colab": {
      "provenance": [],
      "include_colab_link": true
    }
  },
  "nbformat": 4,
  "nbformat_minor": 0
}