{
  "cells": [
    {
      "cell_type": "markdown",
      "metadata": {
        "id": "view-in-github",
        "colab_type": "text"
      },
      "source": [
        "<a href=\"https://colab.research.google.com/github/KAREN154/PlantPathoDetect-/blob/main/Tomato_Classification_Inception_%26_DenseNet.ipynb\" target=\"_parent\"><img src=\"https://colab.research.google.com/assets/colab-badge.svg\" alt=\"Open In Colab\"/></a>"
      ]
    },
    {
      "cell_type": "code",
      "execution_count": 1,
      "metadata": {
        "id": "_bd8no8jh8ZE"
      },
      "outputs": [],
      "source": [
        "from tensorflow.keras.applications import InceptionV3\n",
        "import tensorflow as tf\n",
        "from tensorflow.keras.models import Model, load_model, Sequential\n",
        "from tensorflow.keras.layers import Dense, GlobalAveragePooling2D, Dropout, Conv2D, MaxPooling2D, Flatten\n",
        "from tensorflow.keras.applications import InceptionV3\n",
        "from tensorflow.keras.preprocessing.image import ImageDataGenerator, img_to_array, load_img\n",
        "from tensorflow.keras.optimizers import Adam\n",
        "from tensorflow.keras.callbacks import EarlyStopping, ReduceLROnPlateau\n",
        "import matplotlib.pyplot as plt\n",
        "import numpy as np\n",
        "import os"
      ]
    },
    {
      "cell_type": "code",
      "execution_count": 2,
      "metadata": {
        "colab": {
          "base_uri": "https://localhost:8080/"
        },
        "id": "hl0Qkw2M6LQw",
        "outputId": "458b8291-4d6b-4a8e-e6ed-cb3d944f2695"
      },
      "outputs": [
        {
          "output_type": "stream",
          "name": "stdout",
          "text": [
            "Mounted at /content/drive\n"
          ]
        }
      ],
      "source": [
        "from google.colab import drive\n",
        "drive.mount('/content/drive')"
      ]
    },
    {
      "cell_type": "markdown",
      "metadata": {
        "id": "jLH-UCO88vV-"
      },
      "source": [
        "####Building A CNN Model to Classify Tomato Images\n",
        ">Tomato plants can exhibit various diseases and deficiencies that affect crop yield and quality. Accurately categorizing tomato plant conditions through leaf images is essential for effective crop management and disease control. By leveraging CNNs, the classification process can be automated, significantly improving the efficiency and accuracy of disease detection and plant health monitoring strategies.\n",
        "CNNs excel at image analysis and feature extraction, allowing them to capture intricate details and patterns from tomato leaf images in the dataset.\n",
        "\n",
        "**The convolutional layers in CNNs are able to identify:**\n",
        "- Leaf color variations\n",
        "- Spot patterns and lesions\n",
        "- Texture changes\n",
        "- Leaf venation patterns\n",
        "- Disease-specific markings\n",
        "- Nutrient deficiency symptoms\n",
        "\n",
        ">These features enable the network to learn and distinguish between different tomato plant conditions. The pooling layers nested throughout the architecture down-sample the produced feature maps, allowing models to generalize leaf characteristics across different:\n",
        "\n",
        "- Lighting conditions\n",
        "- Leaf orientations\n",
        "- Growth stages\n",
        "- Image angles\n",
        "- Environmental factors"
      ]
    },
    {
      "cell_type": "code",
      "execution_count": 3,
      "metadata": {
        "id": "Z6CugZW07zda"
      },
      "outputs": [],
      "source": [
        "from tensorflow.keras.applications import InceptionV3\n",
        "from tensorflow.keras.layers import Dense, GlobalAveragePooling2D, Dropout\n",
        "from tensorflow.keras.models import Model\n",
        "from tensorflow.keras.optimizers import Adam\n",
        "from tensorflow.keras.preprocessing.image import ImageDataGenerator\n",
        "from tensorflow.keras.callbacks import EarlyStopping, ReduceLROnPlateau\n",
        "import matplotlib.pyplot as plt\n",
        "\n",
        "class InceptionV3Model:\n",
        "    def __init__(self, input_shape=(224, 224, 3), num_classes=6):  # Changed default to 6\n",
        "        self.input_shape = input_shape\n",
        "        self.num_classes = num_classes\n",
        "        self.model = None\n",
        "        self.history = None\n",
        "\n",
        "    def build_model(self):\n",
        "        # Load the InceptionV3 model pre-trained on ImageNet\n",
        "        base_model = InceptionV3(weights='imagenet', include_top=False, input_shape=self.input_shape)\n",
        "\n",
        "        # Freeze the base model layers\n",
        "        for layer in base_model.layers:\n",
        "            layer.trainable = False\n",
        "\n",
        "        # Add custom layers on top of the base model\n",
        "        x = base_model.output\n",
        "        x = GlobalAveragePooling2D()(x)\n",
        "        x = Dense(512, activation='relu')(x)\n",
        "        x = Dropout(0.5)(x)\n",
        "        x = Dense(256, activation='relu')(x)\n",
        "        x = Dropout(0.5)(x)\n",
        "        predictions = Dense(self.num_classes, activation='softmax')(x)  # Now uses self.num_classes\n",
        "\n",
        "        # Create the model\n",
        "        self.model = Model(inputs=base_model.input, outputs=predictions)\n",
        "\n",
        "        # Compile the model\n",
        "        self.model.compile(\n",
        "            optimizer=Adam(learning_rate=0.001),\n",
        "            loss='categorical_crossentropy',\n",
        "            metrics=['accuracy']\n",
        "        )\n",
        "\n",
        "    def train_model(self, train_dir, val_dir, batch_size=32, epochs=10):\n",
        "        if self.model is None:\n",
        "            self.build_model()\n",
        "\n",
        "        # Define image size and batch size\n",
        "        IMAGE_SIZE = self.input_shape[:2]\n",
        "\n",
        "        # Define data generators\n",
        "        train_datagen = ImageDataGenerator(\n",
        "            rescale=1./255,\n",
        "            rotation_range=30,\n",
        "            width_shift_range=0.2,\n",
        "            height_shift_range=0.2,\n",
        "            shear_range=0.2,\n",
        "            zoom_range=0.2,\n",
        "            horizontal_flip=True,\n",
        "            fill_mode='nearest'\n",
        "        )\n",
        "        validation_datagen = ImageDataGenerator(rescale=1./255)\n",
        "\n",
        "        train_generator = train_datagen.flow_from_directory(\n",
        "            train_dir,\n",
        "            target_size=IMAGE_SIZE,\n",
        "            batch_size=batch_size,\n",
        "            class_mode='categorical'\n",
        "        )\n",
        "        validation_generator = validation_datagen.flow_from_directory(\n",
        "            val_dir,\n",
        "            target_size=IMAGE_SIZE,\n",
        "            batch_size=batch_size,\n",
        "            class_mode='categorical'\n",
        "        )\n",
        "\n",
        "        # Verify number of classes matches\n",
        "        if train_generator.num_classes != self.num_classes:\n",
        "            raise ValueError(f\"Number of classes in the data ({train_generator.num_classes}) \"\n",
        "                           f\"doesn't match the model's output ({self.num_classes})\")\n",
        "\n",
        "        # Define callbacks\n",
        "        early_stopping = EarlyStopping(\n",
        "            monitor='val_loss',\n",
        "            patience=5,\n",
        "            restore_best_weights=True\n",
        "        )\n",
        "        reduce_lr = ReduceLROnPlateau(\n",
        "            monitor='val_loss',\n",
        "            patience=3,\n",
        "            factor=0.2,\n",
        "            min_lr=1e-6\n",
        "        )\n",
        "\n",
        "        # Train the model\n",
        "        self.history = self.model.fit(\n",
        "            train_generator,\n",
        "            epochs=epochs,\n",
        "            validation_data=validation_generator,\n",
        "            callbacks=[early_stopping, reduce_lr]\n",
        "        )\n",
        "\n",
        "    def evaluate_model(self, test_dir, batch_size=32):\n",
        "        if self.model is None:\n",
        "            raise ValueError(\"Model has not been built yet. Call build_model() first.\")\n",
        "\n",
        "        # Define image size\n",
        "        IMAGE_SIZE = self.input_shape[:2]\n",
        "\n",
        "        # Define data generator\n",
        "        test_datagen = ImageDataGenerator(rescale=1./255)\n",
        "\n",
        "        test_generator = test_datagen.flow_from_directory(\n",
        "            test_dir,\n",
        "            target_size=IMAGE_SIZE,\n",
        "            batch_size=batch_size,\n",
        "            class_mode='categorical'\n",
        "        )\n",
        "\n",
        "        # Evaluate the model\n",
        "        test_loss, test_accuracy = self.model.evaluate(test_generator)\n",
        "        print(f'Test Accuracy: {test_accuracy:.2f}')\n",
        "        return test_loss, test_accuracy\n",
        "\n",
        "    def plot_training_history(self):\n",
        "        if self.history is None:\n",
        "            print(\"No training history found. Please train the model first.\")\n",
        "            return\n",
        "\n",
        "        plt.figure(figsize=(12, 6))\n",
        "\n",
        "        # Plot training & validation accuracy values\n",
        "        plt.subplot(1, 2, 1)\n",
        "        plt.plot(self.history.history['accuracy'])\n",
        "        plt.plot(self.history.history['val_accuracy'])\n",
        "        plt.title('Model Accuracy')\n",
        "        plt.ylabel('Accuracy')\n",
        "        plt.xlabel('Epoch')\n",
        "        plt.legend(['Train', 'Validation'], loc='upper left')\n",
        "\n",
        "        # Plot training & validation loss values\n",
        "        plt.subplot(1, 2, 2)\n",
        "        plt.plot(self.history.history['loss'])\n",
        "        plt.plot(self.history.history['val_loss'])\n",
        "        plt.title('Model Loss')\n",
        "        plt.ylabel('Loss')\n",
        "        plt.xlabel('Epoch')\n",
        "        plt.legend(['Train', 'Validation'], loc='upper left')\n",
        "\n",
        "        plt.tight_layout()\n",
        "        plt.show()"
      ]
    },
    {
      "cell_type": "code",
      "execution_count": 4,
      "metadata": {
        "colab": {
          "base_uri": "https://localhost:8080/"
        },
        "id": "Wahkpjl54QHV",
        "outputId": "c365d927-c7e0-4aee-ffbd-9fac74ebbbe3"
      },
      "outputs": [
        {
          "output_type": "stream",
          "name": "stdout",
          "text": [
            "Downloading data from https://storage.googleapis.com/tensorflow/keras-applications/inception_v3/inception_v3_weights_tf_dim_ordering_tf_kernels_notop.h5\n",
            "\u001b[1m87910968/87910968\u001b[0m \u001b[32m━━━━━━━━━━━━━━━━━━━━\u001b[0m\u001b[37m\u001b[0m \u001b[1m0s\u001b[0m 0us/step\n"
          ]
        }
      ],
      "source": [
        "# Instantiate the model\n",
        "inception_model = InceptionV3Model()\n",
        "\n",
        "# Build the model\n",
        "inception_model.build_model()\n",
        "\n",
        "# Define directories\n",
        "train_dir = '/content/drive/MyDrive/PlantPathoDetect-/data/Tomato/Train_augmented'\n",
        "val_dir = '/content/drive/MyDrive/PlantPathoDetect-/data/Tomato/Val'\n",
        "test_dir = '/content/drive/MyDrive/PlantPathoDetect-/data/Tomato/Test'"
      ]
    },
    {
      "cell_type": "code",
      "execution_count": 5,
      "metadata": {
        "colab": {
          "base_uri": "https://localhost:8080/"
        },
        "id": "p9zc7z6X5o7x",
        "outputId": "c64d116e-757a-4158-a82e-87bac3025717"
      },
      "outputs": [
        {
          "output_type": "stream",
          "name": "stdout",
          "text": [
            "Found 33315 images belonging to 6 classes.\n",
            "Found 2495 images belonging to 6 classes.\n",
            "Epoch 1/5\n"
          ]
        },
        {
          "output_type": "stream",
          "name": "stderr",
          "text": [
            "/usr/local/lib/python3.11/dist-packages/keras/src/trainers/data_adapters/py_dataset_adapter.py:122: UserWarning: Your `PyDataset` class should call `super().__init__(**kwargs)` in its constructor. `**kwargs` can include `workers`, `use_multiprocessing`, `max_queue_size`. Do not pass these arguments to `fit()`, as they will be ignored.\n",
            "  self._warn_if_super_not_called()\n"
          ]
        },
        {
          "output_type": "stream",
          "name": "stdout",
          "text": [
            "\u001b[1m521/521\u001b[0m \u001b[32m━━━━━━━━━━━━━━━━━━━━\u001b[0m\u001b[37m\u001b[0m \u001b[1m8583s\u001b[0m 16s/step - accuracy: 0.4798 - loss: 1.3649 - val_accuracy: 0.7816 - val_loss: 0.6286 - learning_rate: 0.0010\n",
            "Epoch 2/5\n",
            "\u001b[1m521/521\u001b[0m \u001b[32m━━━━━━━━━━━━━━━━━━━━\u001b[0m\u001b[37m\u001b[0m \u001b[1m5371s\u001b[0m 10s/step - accuracy: 0.6871 - loss: 0.8595 - val_accuracy: 0.7703 - val_loss: 0.6154 - learning_rate: 0.0010\n",
            "Epoch 3/5\n",
            "\u001b[1m521/521\u001b[0m \u001b[32m━━━━━━━━━━━━━━━━━━━━\u001b[0m\u001b[37m\u001b[0m \u001b[1m5346s\u001b[0m 10s/step - accuracy: 0.7242 - loss: 0.7629 - val_accuracy: 0.8160 - val_loss: 0.5406 - learning_rate: 0.0010\n",
            "Epoch 4/5\n",
            "\u001b[1m521/521\u001b[0m \u001b[32m━━━━━━━━━━━━━━━━━━━━\u001b[0m\u001b[37m\u001b[0m \u001b[1m5417s\u001b[0m 10s/step - accuracy: 0.7338 - loss: 0.7275 - val_accuracy: 0.8116 - val_loss: 0.5354 - learning_rate: 0.0010\n",
            "Epoch 5/5\n",
            "\u001b[1m521/521\u001b[0m \u001b[32m━━━━━━━━━━━━━━━━━━━━\u001b[0m\u001b[37m\u001b[0m \u001b[1m5463s\u001b[0m 10s/step - accuracy: 0.7542 - loss: 0.6770 - val_accuracy: 0.8240 - val_loss: 0.5262 - learning_rate: 0.0010\n"
          ]
        }
      ],
      "source": [
        "inception_model.train_model(train_dir, val_dir, batch_size=64, epochs=5)"
      ]
    },
    {
      "cell_type": "code",
      "execution_count": 6,
      "metadata": {
        "id": "Exr8KdVaE2yi",
        "colab": {
          "base_uri": "https://localhost:8080/",
          "height": 351
        },
        "outputId": "9451878c-7be2-4cae-8717-6ecbda75eb3f"
      },
      "outputs": [
        {
          "output_type": "display_data",
          "data": {
            "text/plain": [
              "<Figure size 1200x600 with 2 Axes>"
            ],
            "image/png": "[encoded data removed]"
          },
          "metadata": {}
        }
      ],
      "source": [
        "# Plot the training history\n",
        "inception_model.plot_training_history()"
      ]
    },
    {
      "cell_type": "code",
      "source": [
        "class InceptionV3Model:\n",
        "    def __init__(self, input_shape=(224, 224, 3), num_classes=6):  # Changed default to 6\n",
        "        self.input_shape = input_shape\n",
        "        self.num_classes = num_classes\n",
        "        self.model = None\n",
        "        self.history = None\n",
        "\n",
        "    def save_model(self, filepath): # Added save_model method to the InceptionV3Model class\n",
        "        \"\"\"Saves the trained model to the specified filepath.\"\"\"\n",
        "        self.model.save(filepath) # Saves the model using the Keras save method"
      ],
      "metadata": {
        "id": "hEd2UacpXAu7"
      },
      "execution_count": 9,
      "outputs": []
    },
    {
      "cell_type": "code",
      "source": [
        "# Instantiate the model\n",
        "inception_model = InceptionV3Model()"
      ],
      "metadata": {
        "id": "bdl5XWzfXlii"
      },
      "execution_count": null,
      "outputs": []
    },
    {
      "cell_type": "code",
      "source": [],
      "metadata": {
        "id": "DmXfY1Jgb0Wj"
      },
      "execution_count": null,
      "outputs": []
    },
    {
      "cell_type": "code",
      "source": [
        "# Save the trained model\n",
        "inception_model.model.save('Tomato_inception_model.h5')\n"
      ],
      "metadata": {
        "colab": {
          "base_uri": "https://localhost:8080/"
        },
        "id": "pGPitJNEbbOo",
        "outputId": "c25574df-f575-4549-b778-7ce6d6bda34f"
      },
      "execution_count": 11,
      "outputs": [
        {
          "output_type": "stream",
          "name": "stderr",
          "text": [
            "WARNING:absl:You are saving your model as an HDF5 file via `model.save()` or `keras.saving.save_model(model)`. This file format is considered legacy. We recommend using instead the native Keras format, e.g. `model.save('my_model.keras')` or `keras.saving.save_model(model, 'my_model.keras')`. \n"
          ]
        }
      ]
    },
    {
      "cell_type": "code",
      "source": [
        "# Save the trained model using the recommended native Keras format\n",
        "inception_model.model.save('Tomato_inception_model.keras')\n"
      ],
      "metadata": {
        "id": "WiKhM5b9b03B"
      },
      "execution_count": 12,
      "outputs": []
    },
    {
      "cell_type": "code",
      "execution_count": 13,
      "metadata": {
        "id": "k8VsEXqxE9l3",
        "colab": {
          "base_uri": "https://localhost:8080/"
        },
        "outputId": "b44f03d7-7aab-4319-81ff-4275e7ef2694"
      },
      "outputs": [
        {
          "output_type": "stream",
          "name": "stderr",
          "text": [
            "WARNING:absl:Compiled the loaded model, but the compiled metrics have yet to be built. `model.compile_metrics` will be empty until you train or evaluate the model.\n"
          ]
        },
        {
          "output_type": "stream",
          "name": "stdout",
          "text": [
            "Found 280 images belonging to 6 classes.\n"
          ]
        },
        {
          "output_type": "stream",
          "name": "stderr",
          "text": [
            "/usr/local/lib/python3.11/dist-packages/keras/src/trainers/data_adapters/py_dataset_adapter.py:122: UserWarning: Your `PyDataset` class should call `super().__init__(**kwargs)` in its constructor. `**kwargs` can include `workers`, `use_multiprocessing`, `max_queue_size`. Do not pass these arguments to `fit()`, as they will be ignored.\n",
            "  self._warn_if_super_not_called()\n"
          ]
        },
        {
          "output_type": "stream",
          "name": "stdout",
          "text": [
            "\u001b[1m9/9\u001b[0m \u001b[32m━━━━━━━━━━━━━━━━━━━━\u001b[0m\u001b[37m\u001b[0m \u001b[1m79s\u001b[0m 9s/step\n",
            "Weighted F1 Score: 0.86\n",
            "                        precision    recall  f1-score   support\n",
            "\n",
            "        Bacterial Spot       0.78      0.88      0.83        43\n",
            "          Early Blight       0.75      0.85      0.80        48\n",
            "               Healthy       0.92      1.00      0.96        49\n",
            "           Late Blight       0.86      0.79      0.82        47\n",
            "    Septoria Leaf Spot       0.85      0.66      0.74        44\n",
            "Yellow Leaf Curl Virus       1.00      0.94      0.97        49\n",
            "\n",
            "              accuracy                           0.86       280\n",
            "             macro avg       0.86      0.85      0.85       280\n",
            "          weighted avg       0.86      0.86      0.86       280\n",
            "\n"
          ]
        }
      ],
      "source": [
        "import numpy as np\n",
        "from sklearn.metrics import classification_report, f1_score\n",
        "\n",
        "# Load the trained model\n",
        "model = load_model('Tomato_inception_model.h5')\n",
        "\n",
        "# Define image size and batch size\n",
        "IMAGE_SIZE = (224, 224)\n",
        "\n",
        "# Define data generator\n",
        "test_datagen = ImageDataGenerator(rescale=1./255)\n",
        "\n",
        "# Define test directory\n",
        "test_dir = '/content/drive/MyDrive/PlantPathoDetect-/data/Tomato/Test'\n",
        "\n",
        "test_generator = test_datagen.flow_from_directory(\n",
        "    test_dir,\n",
        "    target_size=IMAGE_SIZE,\n",
        "    batch_size=32,\n",
        "    class_mode='categorical',\n",
        "    shuffle=False\n",
        ")\n",
        "\n",
        "# Make predictions\n",
        "y_pred = model.predict(test_generator)\n",
        "y_pred_classes = np.argmax(y_pred, axis=1)\n",
        "\n",
        "# True labels\n",
        "y_true = test_generator.classes\n",
        "# Compute F1 score\n",
        "f1 = f1_score(y_true, y_pred_classes, average='weighted')\n",
        "print(f'Weighted F1 Score: {f1:.2f}')\n",
        "\n",
        "# Print classification report\n",
        "report = classification_report(y_true, y_pred_classes, target_names=test_generator.class_indices.keys())\n",
        "print(report)"
      ]
    },
    {
      "cell_type": "code",
      "source": [
        "import numpy as np\n",
        "from sklearn.metrics import classification_report, f1_score\n",
        "\n",
        "# Load the trained model\n",
        "model = load_model('Tomato_inception_model.keras')\n",
        "\n",
        "# Define image size and batch size\n",
        "IMAGE_SIZE = (224, 224)\n",
        "\n",
        "# Define data generator\n",
        "test_datagen = ImageDataGenerator(rescale=1./255)\n",
        "\n",
        "# Define test directory\n",
        "test_dir = '/content/drive/MyDrive/PlantPathoDetect-/data/Tomato/Test'\n",
        "\n",
        "test_generator = test_datagen.flow_from_directory(\n",
        "    test_dir,\n",
        "    target_size=IMAGE_SIZE,\n",
        "    batch_size=32,\n",
        "    class_mode='categorical',\n",
        "    shuffle=False\n",
        ")\n",
        "\n",
        "# Make predictions\n",
        "y_pred = model.predict(test_generator)\n",
        "y_pred_classes = np.argmax(y_pred, axis=1)\n",
        "\n",
        "# True labels\n",
        "y_true = test_generator.classes\n",
        "# Compute F1 score\n",
        "f1 = f1_score(y_true, y_pred_classes, average='weighted')\n",
        "print(f'Weighted F1 Score: {f1:.2f}')\n",
        "\n",
        "# Print classification report\n",
        "report = classification_report(y_true, y_pred_classes, target_names=test_generator.class_indices.keys())\n",
        "print(report)"
      ],
      "metadata": {
        "colab": {
          "base_uri": "https://localhost:8080/"
        },
        "id": "usNwnbVBdubT",
        "outputId": "f9be59b2-8351-4aa5-968e-f0233ee1cf97"
      },
      "execution_count": 14,
      "outputs": [
        {
          "output_type": "stream",
          "name": "stdout",
          "text": [
            "Found 280 images belonging to 6 classes.\n"
          ]
        },
        {
          "output_type": "stream",
          "name": "stderr",
          "text": [
            "/usr/local/lib/python3.11/dist-packages/keras/src/saving/saving_lib.py:713: UserWarning: Skipping variable loading for optimizer 'rmsprop', because it has 8 variables whereas the saved optimizer has 14 variables. \n",
            "  saveable.load_own_variables(weights_store.get(inner_path))\n",
            "/usr/local/lib/python3.11/dist-packages/keras/src/trainers/data_adapters/py_dataset_adapter.py:122: UserWarning: Your `PyDataset` class should call `super().__init__(**kwargs)` in its constructor. `**kwargs` can include `workers`, `use_multiprocessing`, `max_queue_size`. Do not pass these arguments to `fit()`, as they will be ignored.\n",
            "  self._warn_if_super_not_called()\n"
          ]
        },
        {
          "output_type": "stream",
          "name": "stdout",
          "text": [
            "\u001b[1m9/9\u001b[0m \u001b[32m━━━━━━━━━━━━━━━━━━━━\u001b[0m\u001b[37m\u001b[0m \u001b[1m47s\u001b[0m 5s/step\n",
            "Weighted F1 Score: 0.86\n",
            "                        precision    recall  f1-score   support\n",
            "\n",
            "        Bacterial Spot       0.78      0.88      0.83        43\n",
            "          Early Blight       0.75      0.85      0.80        48\n",
            "               Healthy       0.92      1.00      0.96        49\n",
            "           Late Blight       0.86      0.79      0.82        47\n",
            "    Septoria Leaf Spot       0.85      0.66      0.74        44\n",
            "Yellow Leaf Curl Virus       1.00      0.94      0.97        49\n",
            "\n",
            "              accuracy                           0.86       280\n",
            "             macro avg       0.86      0.85      0.85       280\n",
            "          weighted avg       0.86      0.86      0.86       280\n",
            "\n"
          ]
        }
      ]
    }
  ],
  "metadata": {
    "accelerator": "GPU",
    "colab": {
      "gpuType": "T4",
      "provenance": [],
      "authorship_tag": "ABX9TyMVO3z8+Ez6H5gCkmjp0Br8",
      "include_colab_link": true
    },
    "kernelspec": {
      "display_name": "Python 3",
      "name": "python3"
    },
    "language_info": {
      "name": "python"
    }
  },
  "nbformat": 4,
  "nbformat_minor": 0
}