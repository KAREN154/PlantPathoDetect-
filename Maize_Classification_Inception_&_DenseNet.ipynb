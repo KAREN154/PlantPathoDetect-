{
  "cells": [
    {
      "cell_type": "markdown",
      "metadata": {
        "id": "view-in-github",
        "colab_type": "text"
      },
      "source": [
        "<a href=\"https://colab.research.google.com/github/KAREN154/PlantPathoDetect-/blob/main/Maize_Classification_Inception_%26_DenseNet.ipynb\" target=\"_parent\"><img src=\"https://colab.research.google.com/assets/colab-badge.svg\" alt=\"Open In Colab\"/></a>"
      ]
    },
    {
      "cell_type": "code",
      "execution_count": null,
      "metadata": {
        "id": "_bd8no8jh8ZE"
      },
      "outputs": [],
      "source": [
        "from tensorflow.keras.applications import InceptionV3\n",
        "import tensorflow as tf\n",
        "from tensorflow.keras.models import Model, load_model, Sequential\n",
        "from tensorflow.keras.layers import Dense, GlobalAveragePooling2D, Dropout, Conv2D, MaxPooling2D, Flatten\n",
        "from tensorflow.keras.applications import InceptionV3\n",
        "from tensorflow.keras.preprocessing.image import ImageDataGenerator, img_to_array, load_img\n",
        "from tensorflow.keras.optimizers import Adam\n",
        "from tensorflow.keras.callbacks import EarlyStopping, ReduceLROnPlateau\n",
        "import matplotlib.pyplot as plt\n",
        "import numpy as np\n",
        "import os"
      ]
    },
    {
      "cell_type": "code",
      "execution_count": null,
      "metadata": {
        "colab": {
          "base_uri": "https://localhost:8080/"
        },
        "id": "hl0Qkw2M6LQw",
        "outputId": "d1db79c9-d39e-4009-c837-762629d08287"
      },
      "outputs": [
        {
          "output_type": "stream",
          "name": "stdout",
          "text": [
            "Mounted at /content/drive\n"
          ]
        }
      ],
      "source": [
        "from google.colab import drive\n",
        "drive.mount('/content/drive')"
      ]
    },
    {
      "cell_type": "markdown",
      "metadata": {
        "id": "jLH-UCO88vV-"
      },
      "source": [
        "####Building A CNN Model to Classify Tomato Images\n",
        ">Tomato plants can exhibit various diseases and deficiencies that affect crop yield and quality. Accurately categorizing tomato plant conditions through leaf images is essential for effective crop management and disease control. By leveraging CNNs, the classification process can be automated, significantly improving the efficiency and accuracy of disease detection and plant health monitoring strategies.\n",
        "CNNs excel at image analysis and feature extraction, allowing them to capture intricate details and patterns from tomato leaf images in the dataset.\n",
        "\n",
        "**The convolutional layers in CNNs are able to identify:**\n",
        "- Leaf color variations\n",
        "- Spot patterns and lesions\n",
        "- Texture changes\n",
        "- Leaf venation patterns\n",
        "- Disease-specific markings\n",
        "- Nutrient deficiency symptoms\n",
        "\n",
        ">These features enable the network to learn and distinguish between different tomato plant conditions. The pooling layers nested throughout the architecture down-sample the produced feature maps, allowing models to generalize leaf characteristics across different:\n",
        "\n",
        "- Lighting conditions\n",
        "- Leaf orientations\n",
        "- Growth stages\n",
        "- Image angles\n",
        "- Environmental factors"
      ]
    },
    {
      "cell_type": "code",
      "execution_count": null,
      "metadata": {
        "colab": {
          "background_save": true,
          "base_uri": "https://localhost:8080/"
        },
        "id": "0weGXbyc4xy7",
        "outputId": "575fdf81-38a1-4bfe-ede0-2c0fefdf787a"
      },
      "outputs": [
        {
          "name": "stdout",
          "output_type": "stream",
          "text": [
            "Downloading data from https://storage.googleapis.com/tensorflow/keras-applications/inception_v3/inception_v3_weights_tf_dim_ordering_tf_kernels_notop.h5\n",
            "\u001b[1m87910968/87910968\u001b[0m \u001b[32m━━━━━━━━━━━━━━━━━━━━\u001b[0m\u001b[37m\u001b[0m \u001b[1m0s\u001b[0m 0us/step\n",
            "Found 13182 images belonging to 3 classes.\n",
            "Found 1216 images belonging to 3 classes.\n"
          ]
        },
        {
          "name": "stderr",
          "output_type": "stream",
          "text": [
            "/usr/local/lib/python3.11/dist-packages/keras/src/trainers/data_adapters/py_dataset_adapter.py:121: UserWarning: Your `PyDataset` class should call `super().__init__(**kwargs)` in its constructor. `**kwargs` can include `workers`, `use_multiprocessing`, `max_queue_size`. Do not pass these arguments to `fit()`, as they will be ignored.\n",
            "  self._warn_if_super_not_called()\n"
          ]
        },
        {
          "name": "stdout",
          "output_type": "stream",
          "text": [
            "Epoch 1/5\n",
            "\u001b[1m103/103\u001b[0m \u001b[32m━━━━━━━━━━━━━━━━━━━━\u001b[0m\u001b[37m\u001b[0m \u001b[1m4413s\u001b[0m 43s/step - accuracy: 0.8183 - loss: 0.5080 - val_accuracy: 0.8561 - val_loss: 0.3860 - learning_rate: 0.0010\n",
            "Epoch 2/5\n",
            "\u001b[1m103/103\u001b[0m \u001b[32m━━━━━━━━━━━━━━━━━━━━\u001b[0m\u001b[37m\u001b[0m \u001b[1m486s\u001b[0m 5s/step - accuracy: 0.9156 - loss: 0.2233 - val_accuracy: 0.9038 - val_loss: 0.2419 - learning_rate: 0.0010\n",
            "Epoch 3/5\n",
            "\u001b[1m103/103\u001b[0m \u001b[32m━━━━━━━━━━━━━━━━━━━━\u001b[0m\u001b[37m\u001b[0m \u001b[1m485s\u001b[0m 5s/step - accuracy: 0.9192 - loss: 0.2091 - val_accuracy: 0.8816 - val_loss: 0.2903 - learning_rate: 0.0010\n",
            "Epoch 4/5\n",
            "\u001b[1m103/103\u001b[0m \u001b[32m━━━━━━━━━━━━━━━━━━━━\u001b[0m\u001b[37m\u001b[0m \u001b[1m484s\u001b[0m 5s/step - accuracy: 0.9295 - loss: 0.1819 - val_accuracy: 0.8882 - val_loss: 0.2939 - learning_rate: 0.0010\n",
            "Epoch 5/5\n",
            "\u001b[1m103/103\u001b[0m \u001b[32m━━━━━━━━━━━━━━━━━━━━\u001b[0m\u001b[37m\u001b[0m \u001b[1m488s\u001b[0m 5s/step - accuracy: 0.9326 - loss: 0.1717 - val_accuracy: 0.9087 - val_loss: 0.2282 - learning_rate: 3.0000e-04\n"
          ]
        }
      ],
      "source": [
        "from tensorflow.keras.applications import InceptionV3\n",
        "from tensorflow.keras.layers import Dense, GlobalAveragePooling2D, Dropout\n",
        "from tensorflow.keras.models import Model\n",
        "from tensorflow.keras.optimizers import Adam\n",
        "from tensorflow.keras.preprocessing.image import ImageDataGenerator\n",
        "from tensorflow.keras.callbacks import EarlyStopping, ReduceLROnPlateau\n",
        "import matplotlib.pyplot as plt\n",
        "\n",
        "class FastInceptionV3:\n",
        "    def __init__(self, input_shape=(150, 150, 3), num_classes=3):  # Reduced input size, 3 classes\n",
        "        self.input_shape = input_shape\n",
        "        self.num_classes = num_classes\n",
        "        self.model = None\n",
        "        self.history = None\n",
        "\n",
        "    def build_model(self):\n",
        "        base_model = InceptionV3(weights='imagenet', include_top=False, input_shape=self.input_shape)\n",
        "\n",
        "        # Freeze base model layers to speed up training\n",
        "        for layer in base_model.layers:\n",
        "            layer.trainable = False\n",
        "\n",
        "        # Custom layers (Reduced complexity)\n",
        "        x = base_model.output\n",
        "        x = GlobalAveragePooling2D()(x)\n",
        "        x = Dense(256, activation='relu')(x)  # Reduced from 512 to 256\n",
        "        x = Dropout(0.3)(x)  # Reduced dropout from 0.5 to 0.3\n",
        "        predictions = Dense(self.num_classes, activation='softmax')(x)\n",
        "\n",
        "        self.model = Model(inputs=base_model.input, outputs=predictions)\n",
        "\n",
        "        self.model.compile(\n",
        "            optimizer=Adam(learning_rate=0.001),\n",
        "            loss='categorical_crossentropy',\n",
        "            metrics=['accuracy']\n",
        "        )\n",
        "\n",
        "    def train_model(self, train_dir, val_dir, batch_size=128, epochs=5):  # Larger batch size, fewer epochs\n",
        "        if self.model is None:\n",
        "            self.build_model()\n",
        "\n",
        "        IMAGE_SIZE = self.input_shape[:2]\n",
        "\n",
        "        train_datagen = ImageDataGenerator(\n",
        "            rescale=1./255,\n",
        "            rotation_range=20,  # Reduced for speed\n",
        "            width_shift_range=0.1,\n",
        "            height_shift_range=0.1,\n",
        "            horizontal_flip=True\n",
        "        )\n",
        "        val_datagen = ImageDataGenerator(rescale=1./255)\n",
        "\n",
        "        train_generator = train_datagen.flow_from_directory(\n",
        "            train_dir, target_size=IMAGE_SIZE, batch_size=batch_size, class_mode='categorical'\n",
        "        )\n",
        "        val_generator = val_datagen.flow_from_directory(\n",
        "            val_dir, target_size=IMAGE_SIZE, batch_size=batch_size, class_mode='categorical'\n",
        "        )\n",
        "\n",
        "        if train_generator.num_classes != self.num_classes:\n",
        "            raise ValueError(f\"Mismatch: Dataset has {train_generator.num_classes} classes, but model expects {self.num_classes}\")\n",
        "\n",
        "        early_stopping = EarlyStopping(monitor='val_loss', patience=3, restore_best_weights=True)\n",
        "        reduce_lr = ReduceLROnPlateau(monitor='val_loss', patience=2, factor=0.3, min_lr=1e-5)\n",
        "\n",
        "        self.history = self.model.fit(\n",
        "            train_generator,\n",
        "            epochs=epochs,\n",
        "            validation_data=val_generator,\n",
        "            callbacks=[early_stopping, reduce_lr]\n",
        "        )\n",
        "\n",
        "    def evaluate_model(self, test_dir, batch_size=128):\n",
        "        if self.model is None:\n",
        "            raise ValueError(\"Build and train the model first.\")\n",
        "\n",
        "        IMAGE_SIZE = self.input_shape[:2]\n",
        "        test_datagen = ImageDataGenerator(rescale=1./255)\n",
        "\n",
        "        test_generator = test_datagen.flow_from_directory(\n",
        "            test_dir, target_size=IMAGE_SIZE, batch_size=batch_size, class_mode='categorical'\n",
        "        )\n",
        "\n",
        "        test_loss, test_accuracy = self.model.evaluate(test_generator)\n",
        "        print(f'Test Accuracy: {test_accuracy:.2f}')\n",
        "        return test_loss, test_accuracy\n",
        "\n",
        "# Instantiate and run the optimized model\n",
        "fast_model = FastInceptionV3()\n",
        "\n",
        "# Build the model\n",
        "fast_model.build_model()\n",
        "\n",
        "# Define directories\n",
        "train_dir = '/content/drive/MyDrive/PlantPathoDetect-/data/Corn (Maize)/Train_augmented'\n",
        "val_dir = '/content/drive/MyDrive/PlantPathoDetect-/data/Corn (Maize)/Val'\n",
        "test_dir = '/content/drive/MyDrive/PlantPathoDetect-/data/Corn (Maize)/Test'\n",
        "\n",
        "# Train with optimized parameters (should finish within 1 hour)\n",
        "fast_model.train_model(train_dir, val_dir, batch_size=128, epochs=5)\n"
      ]
    },
    {
      "cell_type": "code",
      "execution_count": null,
      "metadata": {
        "colab": {
          "background_save": true
        },
        "id": "hEd2UacpXAu7"
      },
      "outputs": [],
      "source": [
        "class InceptionV3Model:\n",
        "    def __init__(self, input_shape=(224, 224, 3), num_classes=6):  # Changed default to 6\n",
        "        self.input_shape = input_shape\n",
        "        self.num_classes = num_classes\n",
        "        self.model = None\n",
        "        self.history = None\n",
        "\n",
        "    def save_model(self, filepath): # Added save_model method to the InceptionV3Model class\n",
        "        \"\"\"Saves the trained model to the specified filepath.\"\"\"\n",
        "        self.model.save(filepath) # Saves the model using the Keras save method"
      ]
    },
    {
      "cell_type": "code",
      "execution_count": null,
      "metadata": {
        "colab": {
          "background_save": true
        },
        "id": "bdl5XWzfXlii"
      },
      "outputs": [],
      "source": [
        "# Instantiate the model\n",
        "inception_model = InceptionV3Model()"
      ]
    },
    {
      "cell_type": "code",
      "execution_count": null,
      "metadata": {
        "colab": {
          "background_save": true
        },
        "id": "dQCOoLzyTkNH",
        "outputId": "c1e2a742-53e6-473e-aa66-16df20119ea3"
      },
      "outputs": [
        {
          "name": "stderr",
          "output_type": "stream",
          "text": [
            "WARNING:absl:You are saving your model as an HDF5 file via `model.save()` or `keras.saving.save_model(model)`. This file format is considered legacy. We recommend using instead the native Keras format, e.g. `model.save('my_model.keras')` or `keras.saving.save_model(model, 'my_model.keras')`. \n"
          ]
        }
      ],
      "source": [
        "fast_model.model.save('Maize_inception_model.h5')\n"
      ]
    },
    {
      "cell_type": "code",
      "execution_count": null,
      "metadata": {
        "colab": {
          "base_uri": "https://localhost:8080/"
        },
        "id": "EXvHjBe6UE-w",
        "outputId": "a8cd04e0-c2d2-4d58-a981-0c0268dcdb40"
      },
      "outputs": [
        {
          "name": "stderr",
          "output_type": "stream",
          "text": [
            "WARNING:absl:Compiled the loaded model, but the compiled metrics have yet to be built. `model.compile_metrics` will be empty until you train or evaluate the model.\n"
          ]
        },
        {
          "name": "stdout",
          "output_type": "stream",
          "text": [
            "Found 136 images belonging to 3 classes.\n",
            "\u001b[1m5/5\u001b[0m \u001b[32m━━━━━━━━━━━━━━━━━━━━\u001b[0m\u001b[37m\u001b[0m \u001b[1m34s\u001b[0m 8s/step\n",
            "Weighted F1 Score: 0.89\n",
            "                      precision    recall  f1-score   support\n",
            "\n",
            "Cercospora Leaf Spot       0.97      0.71      0.82        41\n",
            "             Healthy       0.98      1.00      0.99        47\n",
            "Northern Leaf Blight       0.79      0.96      0.87        48\n",
            "\n",
            "            accuracy                           0.90       136\n",
            "           macro avg       0.91      0.89      0.89       136\n",
            "        weighted avg       0.91      0.90      0.89       136\n",
            "\n"
          ]
        }
      ],
      "source": [
        "import numpy as np\n",
        "from sklearn.metrics import classification_report, f1_score\n",
        "from tensorflow.keras.models import load_model\n",
        "from tensorflow.keras.preprocessing.image import ImageDataGenerator\n",
        "\n",
        "# Load the trained model\n",
        "model = load_model('Maize_inception_model.h5')\n",
        "\n",
        "# Define image size and batch size - Match the training input size\n",
        "IMAGE_SIZE = (150, 150)  # Changed to (150, 150) to match the model's input shape\n",
        "BATCH_SIZE = 32\n",
        "\n",
        "# Define data generator\n",
        "test_datagen = ImageDataGenerator(rescale=1./255)\n",
        "\n",
        "# Define test directory\n",
        "test_dir = '/content/drive/MyDrive/PlantPathoDetect-/Corn (Maize)/Test'\n",
        "\n",
        "test_generator = test_datagen.flow_from_directory(\n",
        "    test_dir,\n",
        "    target_size=IMAGE_SIZE,  # Using the correct image size\n",
        "    batch_size=BATCH_SIZE,\n",
        "    class_mode='categorical',\n",
        "    shuffle=False\n",
        ")\n",
        "\n",
        "# Make predictions\n",
        "y_pred = model.predict(test_generator)\n",
        "y_pred_classes = np.argmax(y_pred, axis=1)\n",
        "\n",
        "# True labels\n",
        "y_true = test_generator.classes\n",
        "\n",
        "# Compute F1 score\n",
        "f1 = f1_score(y_true, y_pred_classes, average='weighted')\n",
        "print(f'Weighted F1 Score: {f1:.2f}')\n",
        "\n",
        "# Print classification report\n",
        "report = classification_report(y_true, y_pred_classes, target_names=test_generator.class_indices.keys())\n",
        "print(report)"
      ]
    },
    {
      "cell_type": "code",
      "execution_count": 3,
      "metadata": {
        "colab": {
          "base_uri": "https://localhost:8080/",
          "height": 844
        },
        "id": "Zu92fwByQqrQ",
        "outputId": "64d28519-fd27-4682-8b9c-4ddf4ff30077"
      },
      "outputs": [
        {
          "metadata": {
            "tags": null
          },
          "name": "stdout",
          "output_type": "stream",
          "text": [
            "Found 13182 images belonging to 3 classes.\n",
            "Found 1216 images belonging to 3 classes.\n",
            "Detected 3 classes.\n",
            "Downloading data from https://storage.googleapis.com/tensorflow/keras-applications/densenet/densenet121_weights_tf_dim_ordering_tf_kernels_notop.h5\n",
            "\u001b[1m29084464/29084464\u001b[0m \u001b[32m━━━━━━━━━━━━━━━━━━━━\u001b[0m\u001b[37m\u001b[0m \u001b[1m0s\u001b[0m 0us/step\n"
          ]
        },
        {
          "metadata": {
            "tags": null
          },
          "name": "stderr",
          "output_type": "stream",
          "text": [
            "/usr/local/lib/python3.11/dist-packages/keras/src/trainers/data_adapters/py_dataset_adapter.py:121: UserWarning: Your `PyDataset` class should call `super().__init__(**kwargs)` in its constructor. `**kwargs` can include `workers`, `use_multiprocessing`, `max_queue_size`. Do not pass these arguments to `fit()`, as they will be ignored.\n",
            "  self._warn_if_super_not_called()\n"
          ]
        },
        {
          "output_type": "stream",
          "name": "stdout",
          "text": [
            "Epoch 1/5\n",
            "\u001b[1m206/206\u001b[0m \u001b[32m━━━━━━━━━━━━━━━━━━━━\u001b[0m\u001b[37m\u001b[0m \u001b[1m3171s\u001b[0m 15s/step - accuracy: 0.7889 - loss: 0.5110 - val_accuracy: 0.9334 - val_loss: 0.1632 - learning_rate: 0.0010\n",
            "Epoch 2/5\n",
            "\u001b[1m206/206\u001b[0m \u001b[32m━━━━━━━━━━━━━━━━━━━━\u001b[0m\u001b[37m\u001b[0m \u001b[1m2961s\u001b[0m 14s/step - accuracy: 0.9253 - loss: 0.1988 - val_accuracy: 0.9276 - val_loss: 0.1764 - learning_rate: 8.9125e-04\n",
            "Epoch 3/5\n",
            "\u001b[1m206/206\u001b[0m \u001b[32m━━━━━━━━━━━━━━━━━━━━\u001b[0m\u001b[37m\u001b[0m \u001b[1m2936s\u001b[0m 14s/step - accuracy: 0.9349 - loss: 0.1644 - val_accuracy: 0.9334 - val_loss: 0.1629 - learning_rate: 7.9433e-04\n",
            "Epoch 4/5\n",
            "\u001b[1m206/206\u001b[0m \u001b[32m━━━━━━━━━━━━━━━━━━━━\u001b[0m\u001b[37m\u001b[0m \u001b[1m2907s\u001b[0m 14s/step - accuracy: 0.9405 - loss: 0.1573 - val_accuracy: 0.9334 - val_loss: 0.1501 - learning_rate: 7.0795e-04\n",
            "Epoch 5/5\n",
            "\u001b[1m206/206\u001b[0m \u001b[32m━━━━━━━━━━━━━━━━━━━━\u001b[0m\u001b[37m\u001b[0m \u001b[1m2897s\u001b[0m 14s/step - accuracy: 0.9461 - loss: 0.1423 - val_accuracy: 0.9309 - val_loss: 0.1813 - learning_rate: 6.3096e-04\n",
            "Found 136 images belonging to 3 classes.\n",
            "\u001b[1m5/5\u001b[0m \u001b[32m━━━━━━━━━━━━━━━━━━━━\u001b[0m\u001b[37m\u001b[0m \u001b[1m28s\u001b[0m 4s/step - accuracy: 0.9304 - loss: 0.1624\n"
          ]
        },
        {
          "output_type": "stream",
          "name": "stderr",
          "text": [
            "WARNING:absl:You are saving your model as an HDF5 file via `model.save()` or `keras.saving.save_model(model)`. This file format is considered legacy. We recommend using instead the native Keras format, e.g. `model.save('my_model.keras')` or `keras.saving.save_model(model, 'my_model.keras')`. \n"
          ]
        },
        {
          "output_type": "stream",
          "name": "stdout",
          "text": [
            "Test Accuracy: 0.93\n",
            "Model saved to /content/drive/MyDrive/densenet121_model.h5\n"
          ]
        },
        {
          "output_type": "display_data",
          "data": {
            "text/plain": [
              "<Figure size 1200x600 with 2 Axes>"
            ],
            "image/png": "[encoded data removed]"
          },
          "metadata": {}
        }
      ],
      "source": [
        "import tensorflow as tf\n",
        "from tensorflow.keras.applications import DenseNet121\n",
        "from tensorflow.keras.models import Model\n",
        "from tensorflow.keras.optimizers import Adam\n",
        "from tensorflow.keras.preprocessing.image import ImageDataGenerator\n",
        "from tensorflow.keras.layers import Dense, GlobalAveragePooling2D, Dropout\n",
        "from tensorflow.keras.callbacks import EarlyStopping, ReduceLROnPlateau, LearningRateScheduler\n",
        "import matplotlib.pyplot as plt\n",
        "\n",
        "class DenseNet121Model:\n",
        "    def __init__(self, input_shape=(224, 224, 3), num_classes=None):\n",
        "        self.input_shape = input_shape\n",
        "        self.num_classes = num_classes\n",
        "        self.model = None\n",
        "        self.history = None\n",
        "\n",
        "    def build_model(self):\n",
        "        \"\"\"Build the DenseNet121 model with dynamically determined num_classes.\"\"\"\n",
        "        base_model = DenseNet121(weights='imagenet', include_top=False, input_shape=self.input_shape)\n",
        "\n",
        "        # Freeze base model layers\n",
        "        for layer in base_model.layers:\n",
        "            layer.trainable = False\n",
        "\n",
        "        # Add custom classification layers\n",
        "        x = base_model.output\n",
        "        x = GlobalAveragePooling2D()(x)\n",
        "        x = Dense(512, activation='relu')(x)\n",
        "        x = Dropout(0.5)(x)\n",
        "        x = Dense(256, activation='relu')(x)\n",
        "        x = Dropout(0.5)(x)\n",
        "        predictions = Dense(self.num_classes, activation='softmax')(x)  # Dynamic number of classes\n",
        "\n",
        "        # Create and compile model\n",
        "        self.model = Model(inputs=base_model.input, outputs=predictions)\n",
        "        self.model.compile(optimizer=Adam(learning_rate=0.001), loss='categorical_crossentropy', metrics=['accuracy'])\n",
        "\n",
        "    def fine_tune_model(self, fine_tune_at=100):\n",
        "        \"\"\"Unfreeze top layers and recompile the model for fine-tuning.\"\"\"\n",
        "        for layer in self.model.layers[:fine_tune_at]:\n",
        "            layer.trainable = False\n",
        "        for layer in self.model.layers[fine_tune_at:]:\n",
        "            layer.trainable = True\n",
        "\n",
        "        self.model.compile(optimizer=Adam(learning_rate=1e-5), loss='categorical_crossentropy', metrics=['accuracy'])\n",
        "\n",
        "    def train_model(self, train_dir, val_dir, batch_size=32, epochs=20):\n",
        "        \"\"\"Train the model with data augmentation and callbacks.\"\"\"\n",
        "        IMAGE_SIZE = self.input_shape[:2]\n",
        "\n",
        "        # Define data generators\n",
        "        train_datagen = ImageDataGenerator(\n",
        "            rescale=1./255,\n",
        "            rotation_range=30,\n",
        "            width_shift_range=0.2,\n",
        "            height_shift_range=0.2,\n",
        "            shear_range=0.2,\n",
        "            zoom_range=0.2,\n",
        "            horizontal_flip=True,\n",
        "            fill_mode='nearest'\n",
        "        )\n",
        "        val_datagen = ImageDataGenerator(rescale=1./255)\n",
        "\n",
        "        train_generator = train_datagen.flow_from_directory(\n",
        "            train_dir,\n",
        "            target_size=IMAGE_SIZE,\n",
        "            batch_size=batch_size,\n",
        "            class_mode='categorical'\n",
        "        )\n",
        "\n",
        "        val_generator = val_datagen.flow_from_directory(\n",
        "            val_dir,\n",
        "            target_size=IMAGE_SIZE,\n",
        "            batch_size=batch_size,\n",
        "            class_mode='categorical'\n",
        "        )\n",
        "\n",
        "        # Dynamically adjust num_classes based on dataset\n",
        "        self.num_classes = train_generator.num_classes\n",
        "        print(f\"Detected {self.num_classes} classes.\")\n",
        "        self.build_model()  # Rebuild model with correct num_classes\n",
        "\n",
        "        # Define callbacks\n",
        "        early_stopping = EarlyStopping(monitor='val_loss', patience=5, restore_best_weights=True)\n",
        "        reduce_lr = ReduceLROnPlateau(monitor='val_loss', patience=3, factor=0.1)\n",
        "        lr_scheduler = LearningRateScheduler(lambda epoch: 1e-3 * 10**(-epoch / 20))\n",
        "\n",
        "        # Train model\n",
        "        self.history = self.model.fit(\n",
        "            train_generator,\n",
        "            epochs=epochs,\n",
        "            validation_data=val_generator,\n",
        "            callbacks=[early_stopping, reduce_lr, lr_scheduler]\n",
        "        )\n",
        "\n",
        "    def evaluate_model(self, test_dir, batch_size=32):\n",
        "        \"\"\"Evaluate the model on test data.\"\"\"\n",
        "        IMAGE_SIZE = self.input_shape[:2]\n",
        "\n",
        "        test_datagen = ImageDataGenerator(rescale=1./255)\n",
        "        test_generator = test_datagen.flow_from_directory(\n",
        "            test_dir,\n",
        "            target_size=IMAGE_SIZE,\n",
        "            batch_size=batch_size,\n",
        "            class_mode='categorical'\n",
        "        )\n",
        "\n",
        "        test_loss, test_accuracy = self.model.evaluate(test_generator)\n",
        "        print(f'Test Accuracy: {test_accuracy:.2f}')\n",
        "        return test_loss, test_accuracy\n",
        "\n",
        "    def save_model(self, file_path):\n",
        "        \"\"\"Save the trained model.\"\"\"\n",
        "        self.model.save(file_path)\n",
        "        print(f\"Model saved to {file_path}\")\n",
        "\n",
        "    def plot_training_history(self):\n",
        "        \"\"\"Plot training accuracy and loss curves.\"\"\"\n",
        "        if self.history:\n",
        "            plt.figure(figsize=(12, 6))\n",
        "\n",
        "            # Accuracy plot\n",
        "            plt.subplot(1, 2, 1)\n",
        "            plt.plot(self.history.history['accuracy'])\n",
        "            plt.plot(self.history.history['val_accuracy'])\n",
        "            plt.title('Model Accuracy')\n",
        "            plt.ylabel('Accuracy')\n",
        "            plt.xlabel('Epoch')\n",
        "            plt.legend(['Train', 'Validation'], loc='upper left')\n",
        "\n",
        "            # Loss plot\n",
        "            plt.subplot(1, 2, 2)\n",
        "            plt.plot(self.history.history['loss'])\n",
        "            plt.plot(self.history.history['val_loss'])\n",
        "            plt.title('Model Loss')\n",
        "            plt.ylabel('Loss')\n",
        "            plt.xlabel('Epoch')\n",
        "            plt.legend(['Train', 'Validation'], loc='upper left')\n",
        "\n",
        "            plt.tight_layout()\n",
        "            plt.show()\n",
        "        else:\n",
        "            print(\"No training history found. Please train the model first.\")\n",
        "\n",
        "# Instantiate model\n",
        "densenet_model = DenseNet121Model()\n",
        "\n",
        "# Define dataset directories\n",
        "train_dir = '/content/drive/MyDrive/PlantPathoDetect-/data/Corn (Maize)/Train_augmented'\n",
        "val_dir = '/content/drive/MyDrive/PlantPathoDetect-/data/Corn (Maize)/Val'\n",
        "test_dir = '/content/drive/MyDrive/PlantPathoDetect-/Corn (Maize)/Test'\n",
        "\n",
        "# Train the model\n",
        "densenet_model.train_model(train_dir, val_dir, batch_size=64, epochs=5)\n",
        "\n",
        "# Evaluate the model\n",
        "densenet_model.evaluate_model(test_dir)\n",
        "\n",
        "# Save the model\n",
        "densenet_model.save_model('/content/drive/MyDrive/densenet121_model.h5')\n",
        "\n",
        "# Plot training history\n",
        "densenet_model.plot_training_history()\n"
      ]
    },
    {
      "cell_type": "code",
      "execution_count": 4,
      "metadata": {
        "id": "aox2wDyHs7Lj",
        "colab": {
          "base_uri": "https://localhost:8080/"
        },
        "outputId": "8bcd51aa-6d13-441c-d968-9e0b428c3015"
      },
      "outputs": [
        {
          "output_type": "stream",
          "name": "stderr",
          "text": [
            "WARNING:absl:You are saving your model as an HDF5 file via `model.save()` or `keras.saving.save_model(model)`. This file format is considered legacy. We recommend using instead the native Keras format, e.g. `model.save('my_model.keras')` or `keras.saving.save_model(model, 'my_model.keras')`. \n"
          ]
        },
        {
          "output_type": "stream",
          "name": "stdout",
          "text": [
            "Model saved to maize_densenet_model.h5\n"
          ]
        }
      ],
      "source": [
        "# Save the model\n",
        "densenet_model.save_model('maize_densenet_model.h5')"
      ]
    },
    {
      "cell_type": "code",
      "execution_count": 6,
      "metadata": {
        "id": "uMwsb7wgtJZK",
        "colab": {
          "base_uri": "https://localhost:8080/"
        },
        "outputId": "bad0d1bd-9211-4f85-95d9-485eaf2c0f31"
      },
      "outputs": [
        {
          "output_type": "stream",
          "name": "stderr",
          "text": [
            "WARNING:absl:Compiled the loaded model, but the compiled metrics have yet to be built. `model.compile_metrics` will be empty until you train or evaluate the model.\n"
          ]
        },
        {
          "output_type": "stream",
          "name": "stdout",
          "text": [
            "Found 136 images belonging to 3 classes.\n",
            "\u001b[1m5/5\u001b[0m \u001b[32m━━━━━━━━━━━━━━━━━━━━\u001b[0m\u001b[37m\u001b[0m \u001b[1m31s\u001b[0m 5s/step\n",
            "Weighted F1 Score: 0.93\n",
            "                      precision    recall  f1-score   support\n",
            "\n",
            "Cercospora Leaf Spot       0.92      0.83      0.87        41\n",
            "             Healthy       1.00      1.00      1.00        47\n",
            "Northern Leaf Blight       0.87      0.94      0.90        48\n",
            "\n",
            "            accuracy                           0.93       136\n",
            "           macro avg       0.93      0.92      0.92       136\n",
            "        weighted avg       0.93      0.93      0.93       136\n",
            "\n"
          ]
        }
      ],
      "source": [
        "from sklearn.metrics import classification_report, f1_score\n",
        "from tensorflow.keras.models import load_model\n",
        "\n",
        "# Load the trained model\n",
        "model = load_model('maize_densenet_model.h5')\n",
        "\n",
        "# Define image size and batch size\n",
        "IMAGE_SIZE = (224, 224)\n",
        "BATCH_SIZE = 32\n",
        "\n",
        "# Define data generator\n",
        "test_datagen = ImageDataGenerator(rescale=1./255)\n",
        "\n",
        "# Define test directory\n",
        "test_dir = '/content/drive/MyDrive/PlantPathoDetect-/Corn (Maize)/Test'\n",
        "# Corn (Maize)\n",
        "test_generator = test_datagen.flow_from_directory(\n",
        "    test_dir,\n",
        "    target_size=IMAGE_SIZE,\n",
        "    batch_size=BATCH_SIZE,\n",
        "    class_mode='categorical',\n",
        "    shuffle=False\n",
        ")\n",
        "# Make predictions\n",
        "y_pred = model.predict(test_generator)\n",
        "y_pred_classes = np.argmax(y_pred, axis=1)\n",
        "\n",
        "# True labels\n",
        "y_true = test_generator.classes\n",
        "\n",
        "# Compute F1 score\n",
        "f1 = f1_score(y_true, y_pred_classes, average='weighted')\n",
        "print(f'Weighted F1 Score: {f1:.2f}')\n",
        "\n",
        "# Print classification report\n",
        "report = classification_report(y_true, y_pred_classes, target_names=test_generator.class_indices.keys())\n",
        "print(report)"
      ]
    }
  ],
  "metadata": {
    "colab": {
      "provenance": [],
      "authorship_tag": "ABX9TyMqXy7JiwQcSbEW8KIrXcBu",
      "include_colab_link": true
    },
    "kernelspec": {
      "display_name": "Python 3",
      "name": "python3"
    },
    "language_info": {
      "name": "python"
    }
  },
  "nbformat": 4,
  "nbformat_minor": 0
}